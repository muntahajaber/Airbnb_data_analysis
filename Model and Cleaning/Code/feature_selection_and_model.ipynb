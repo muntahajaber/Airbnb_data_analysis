{
 "cells": [
  {
   "cell_type": "code",
   "execution_count": 3,
   "id": "24de3b37-98d5-4213-9cd3-b382385830d9",
   "metadata": {},
   "outputs": [],
   "source": [
    "import pandas as pd\n",
    "import numpy as np\n",
    "import seaborn as sns"
   ]
  },
  {
   "cell_type": "code",
   "execution_count": 4,
   "id": "12cdc267-c56a-42a0-9b6e-76b2063b20b8",
   "metadata": {},
   "outputs": [],
   "source": [
    "from sklearn.datasets import make_regression\n",
    "from sklearn.linear_model import LinearRegression\n",
    "import matplotlib.pyplot as plt"
   ]
  },
  {
   "cell_type": "code",
   "execution_count": 94,
   "id": "0047781f",
   "metadata": {},
   "outputs": [],
   "source": [
    "import warnings\n",
    "\n",
    "def fxn():\n",
    "    warnings.warn(\"deprecated\", DeprecationWarning)\n",
    "\n",
    "with warnings.catch_warnings():\n",
    "    warnings.simplefilter(\"ignore\")\n",
    "    fxn()\n",
    "    \n",
    "import warnings\n",
    "warnings.filterwarnings(\"ignore\")"
   ]
  },
  {
   "cell_type": "code",
   "execution_count": 3,
   "id": "ac7a39cc-6258-4f50-94cb-776cd9c52a61",
   "metadata": {},
   "outputs": [],
   "source": [
    "df = pd.read_csv('cleaned_v5.csv', index_col=0)"
   ]
  },
  {
   "cell_type": "code",
   "execution_count": 4,
   "id": "d3513e7e-d304-4b6d-b84d-370112bb1682",
   "metadata": {},
   "outputs": [
    {
     "data": {
      "text/html": [
       "<div>\n",
       "<style scoped>\n",
       "    .dataframe tbody tr th:only-of-type {\n",
       "        vertical-align: middle;\n",
       "    }\n",
       "\n",
       "    .dataframe tbody tr th {\n",
       "        vertical-align: top;\n",
       "    }\n",
       "\n",
       "    .dataframe thead th {\n",
       "        text-align: right;\n",
       "    }\n",
       "</style>\n",
       "<table border=\"1\" class=\"dataframe\">\n",
       "  <thead>\n",
       "    <tr style=\"text-align: right;\">\n",
       "      <th></th>\n",
       "      <th>rating</th>\n",
       "      <th>city</th>\n",
       "      <th>province</th>\n",
       "      <th>superhost</th>\n",
       "      <th>price</th>\n",
       "      <th>house_type</th>\n",
       "      <th>link</th>\n",
       "      <th>Hangers</th>\n",
       "      <th>Bed linens</th>\n",
       "      <th>Extra pillows and blankets</th>\n",
       "      <th>...</th>\n",
       "      <th>game console</th>\n",
       "      <th>guest_num</th>\n",
       "      <th>bath_num</th>\n",
       "      <th>id</th>\n",
       "      <th>pool</th>\n",
       "      <th>backyard</th>\n",
       "      <th>free carport</th>\n",
       "      <th>ski-in</th>\n",
       "      <th>beach access</th>\n",
       "      <th>balcony</th>\n",
       "    </tr>\n",
       "    <tr>\n",
       "      <th>index</th>\n",
       "      <th></th>\n",
       "      <th></th>\n",
       "      <th></th>\n",
       "      <th></th>\n",
       "      <th></th>\n",
       "      <th></th>\n",
       "      <th></th>\n",
       "      <th></th>\n",
       "      <th></th>\n",
       "      <th></th>\n",
       "      <th></th>\n",
       "      <th></th>\n",
       "      <th></th>\n",
       "      <th></th>\n",
       "      <th></th>\n",
       "      <th></th>\n",
       "      <th></th>\n",
       "      <th></th>\n",
       "      <th></th>\n",
       "      <th></th>\n",
       "      <th></th>\n",
       "    </tr>\n",
       "  </thead>\n",
       "  <tbody>\n",
       "    <tr>\n",
       "      <th>0</th>\n",
       "      <td>0.0</td>\n",
       "      <td>buraydah</td>\n",
       "      <td>AlQassim</td>\n",
       "      <td>0.0</td>\n",
       "      <td>1100</td>\n",
       "      <td>Earth house</td>\n",
       "      <td>https://www.airbnb.com/rooms/44085675?previous...</td>\n",
       "      <td>1</td>\n",
       "      <td>1</td>\n",
       "      <td>1</td>\n",
       "      <td>...</td>\n",
       "      <td>1</td>\n",
       "      <td>10</td>\n",
       "      <td>3.0</td>\n",
       "      <td>0.0BuraydahAlQassimFalse1100.0Earth house</td>\n",
       "      <td>0</td>\n",
       "      <td>1</td>\n",
       "      <td>0</td>\n",
       "      <td>0</td>\n",
       "      <td>0</td>\n",
       "      <td>1</td>\n",
       "    </tr>\n",
       "    <tr>\n",
       "      <th>1</th>\n",
       "      <td>0.0</td>\n",
       "      <td>buraydah</td>\n",
       "      <td>AlQassim</td>\n",
       "      <td>0.0</td>\n",
       "      <td>2200</td>\n",
       "      <td>Entire chalet</td>\n",
       "      <td>https://www.airbnb.com/rooms/19854001?previous...</td>\n",
       "      <td>1</td>\n",
       "      <td>0</td>\n",
       "      <td>0</td>\n",
       "      <td>...</td>\n",
       "      <td>0</td>\n",
       "      <td>4</td>\n",
       "      <td>4.0</td>\n",
       "      <td>0.0BuraydahAlQassimFalse2200.0Entire chalet</td>\n",
       "      <td>1</td>\n",
       "      <td>0</td>\n",
       "      <td>0</td>\n",
       "      <td>0</td>\n",
       "      <td>0</td>\n",
       "      <td>0</td>\n",
       "    </tr>\n",
       "    <tr>\n",
       "      <th>2</th>\n",
       "      <td>0.0</td>\n",
       "      <td>buraydah</td>\n",
       "      <td>AlQassim</td>\n",
       "      <td>0.0</td>\n",
       "      <td>400</td>\n",
       "      <td>Shared room in chalet</td>\n",
       "      <td>https://www.airbnb.com/rooms/37763947?previous...</td>\n",
       "      <td>1</td>\n",
       "      <td>0</td>\n",
       "      <td>0</td>\n",
       "      <td>...</td>\n",
       "      <td>0</td>\n",
       "      <td>16</td>\n",
       "      <td>4.5</td>\n",
       "      <td>0.0BuraydahAlQassimFalse400.0Shared room in ch...</td>\n",
       "      <td>1</td>\n",
       "      <td>0</td>\n",
       "      <td>0</td>\n",
       "      <td>0</td>\n",
       "      <td>0</td>\n",
       "      <td>0</td>\n",
       "    </tr>\n",
       "    <tr>\n",
       "      <th>3</th>\n",
       "      <td>0.0</td>\n",
       "      <td>buraydah</td>\n",
       "      <td>AlQassim</td>\n",
       "      <td>0.0</td>\n",
       "      <td>550</td>\n",
       "      <td>Private room in resort</td>\n",
       "      <td>https://www.airbnb.com/rooms/44031535?previous...</td>\n",
       "      <td>1</td>\n",
       "      <td>1</td>\n",
       "      <td>1</td>\n",
       "      <td>...</td>\n",
       "      <td>0</td>\n",
       "      <td>5</td>\n",
       "      <td>2.0</td>\n",
       "      <td>0.0BuraydahAlQassimFalse550.0Private room in r...</td>\n",
       "      <td>1</td>\n",
       "      <td>0</td>\n",
       "      <td>0</td>\n",
       "      <td>0</td>\n",
       "      <td>0</td>\n",
       "      <td>0</td>\n",
       "    </tr>\n",
       "    <tr>\n",
       "      <th>4</th>\n",
       "      <td>0.0</td>\n",
       "      <td>buraydah</td>\n",
       "      <td>AlQassim</td>\n",
       "      <td>0.0</td>\n",
       "      <td>2500</td>\n",
       "      <td>Entire villa</td>\n",
       "      <td>https://www.airbnb.com/rooms/35754885?previous...</td>\n",
       "      <td>1</td>\n",
       "      <td>0</td>\n",
       "      <td>0</td>\n",
       "      <td>...</td>\n",
       "      <td>0</td>\n",
       "      <td>7</td>\n",
       "      <td>3.0</td>\n",
       "      <td>0.0BuraydahAlQassimFalse2500.0Entire villa</td>\n",
       "      <td>1</td>\n",
       "      <td>0</td>\n",
       "      <td>0</td>\n",
       "      <td>0</td>\n",
       "      <td>0</td>\n",
       "      <td>0</td>\n",
       "    </tr>\n",
       "  </tbody>\n",
       "</table>\n",
       "<p>5 rows × 144 columns</p>\n",
       "</div>"
      ],
      "text/plain": [
       "       rating      city  province  superhost  price              house_type  \\\n",
       "index                                                                         \n",
       "0         0.0  buraydah  AlQassim        0.0   1100             Earth house   \n",
       "1         0.0  buraydah  AlQassim        0.0   2200           Entire chalet   \n",
       "2         0.0  buraydah  AlQassim        0.0    400   Shared room in chalet   \n",
       "3         0.0  buraydah  AlQassim        0.0    550  Private room in resort   \n",
       "4         0.0  buraydah  AlQassim        0.0   2500            Entire villa   \n",
       "\n",
       "                                                    link  Hangers  Bed linens  \\\n",
       "index                                                                           \n",
       "0      https://www.airbnb.com/rooms/44085675?previous...        1           1   \n",
       "1      https://www.airbnb.com/rooms/19854001?previous...        1           0   \n",
       "2      https://www.airbnb.com/rooms/37763947?previous...        1           0   \n",
       "3      https://www.airbnb.com/rooms/44031535?previous...        1           1   \n",
       "4      https://www.airbnb.com/rooms/35754885?previous...        1           0   \n",
       "\n",
       "       Extra pillows and blankets  ...  game console  guest_num  bath_num  \\\n",
       "index                              ...                                      \n",
       "0                               1  ...             1         10       3.0   \n",
       "1                               0  ...             0          4       4.0   \n",
       "2                               0  ...             0         16       4.5   \n",
       "3                               1  ...             0          5       2.0   \n",
       "4                               0  ...             0          7       3.0   \n",
       "\n",
       "                                                      id  pool  backyard  \\\n",
       "index                                                                      \n",
       "0              0.0BuraydahAlQassimFalse1100.0Earth house     0         1   \n",
       "1            0.0BuraydahAlQassimFalse2200.0Entire chalet     1         0   \n",
       "2      0.0BuraydahAlQassimFalse400.0Shared room in ch...     1         0   \n",
       "3      0.0BuraydahAlQassimFalse550.0Private room in r...     1         0   \n",
       "4             0.0BuraydahAlQassimFalse2500.0Entire villa     1         0   \n",
       "\n",
       "       free carport  ski-in  beach access  balcony  \n",
       "index                                               \n",
       "0                 0       0             0        1  \n",
       "1                 0       0             0        0  \n",
       "2                 0       0             0        0  \n",
       "3                 0       0             0        0  \n",
       "4                 0       0             0        0  \n",
       "\n",
       "[5 rows x 144 columns]"
      ]
     },
     "execution_count": 4,
     "metadata": {},
     "output_type": "execute_result"
    }
   ],
   "source": [
    "df.head()"
   ]
  },
  {
   "cell_type": "code",
   "execution_count": null,
   "id": "b2873057-98ca-4d99-b924-fee6a199df44",
   "metadata": {},
   "outputs": [],
   "source": []
  },
  {
   "cell_type": "code",
   "execution_count": 5,
   "id": "353e0f68-42f6-4cae-9708-e8fd41f7a970",
   "metadata": {},
   "outputs": [],
   "source": [
    "test = df[df.rating != 0]"
   ]
  },
  {
   "cell_type": "markdown",
   "id": "fc654c7e-0519-4cfa-921a-f9b609988dfa",
   "metadata": {},
   "source": [
    "## Problem:\n",
    "province has some errors"
   ]
  },
  {
   "cell_type": "code",
   "execution_count": 6,
   "id": "a95018fc-85c8-48ec-8fc0-239451a5b785",
   "metadata": {},
   "outputs": [
    {
     "data": {
      "text/plain": [
       "province\n",
       "Mecca          503947\n",
       "Riyadh         489244\n",
       "Eastern        136194\n",
       "Medina          78948\n",
       "Asir            70199\n",
       "AlQassim        37641\n",
       "Tabuk            8793\n",
       "SaudiArabia      5167\n",
       "Ha'il             600\n",
       "Al Bahah          500\n",
       "West              250\n",
       "Jizan              85\n",
       "Name: price, dtype: int64"
      ]
     },
     "execution_count": 6,
     "metadata": {},
     "output_type": "execute_result"
    }
   ],
   "source": [
    "df.groupby(['province'])['price'].sum().sort_values()[::-1]\n",
    "\n"
   ]
  },
  {
   "cell_type": "code",
   "execution_count": 7,
   "id": "7731451b-0a15-482b-9437-bf2e6f8c027c",
   "metadata": {},
   "outputs": [],
   "source": [
    "to_modifiy = ['SaudiArabia',\n",
    "             'West']"
   ]
  },
  {
   "cell_type": "code",
   "execution_count": 8,
   "id": "f9b7d300-89eb-481b-8c4c-4848b5f73982",
   "metadata": {},
   "outputs": [
    {
     "data": {
      "text/plain": [
       "index\n",
       "446     https://www.airbnb.com/rooms/32981610?previous...\n",
       "642     https://www.airbnb.com/rooms/40233658?previous...\n",
       "1080    https://www.airbnb.com/rooms/31290673?previous...\n",
       "1147    https://www.airbnb.com/rooms/52120401?previous...\n",
       "1148    https://www.airbnb.com/rooms/52044809?previous...\n",
       "1337    https://www.airbnb.com/rooms/30261396?previous...\n",
       "1358    https://www.airbnb.com/rooms/32461582?previous...\n",
       "1545    https://www.airbnb.com/rooms/48231186?previous...\n",
       "1635    https://www.airbnb.com/rooms/48744340?previous...\n",
       "1652    https://www.airbnb.com/rooms/38116013?previous...\n",
       "1716    https://www.airbnb.com/rooms/37942037?previous...\n",
       "1858    https://www.airbnb.com/rooms/49905128?previous...\n",
       "Name: link, dtype: object"
      ]
     },
     "execution_count": 8,
     "metadata": {},
     "output_type": "execute_result"
    }
   ],
   "source": [
    "df[df['province']  == to_modifiy[0]]['link']"
   ]
  },
  {
   "cell_type": "code",
   "execution_count": 9,
   "id": "db860d0b-3dac-491c-82f8-72b8a361c2d2",
   "metadata": {},
   "outputs": [],
   "source": [
    "df.loc[446      ,'province'] = 'Eastern'"
   ]
  },
  {
   "cell_type": "code",
   "execution_count": 10,
   "id": "82be44a8-d0d2-4904-8452-6cdeb14a8d3f",
   "metadata": {},
   "outputs": [],
   "source": [
    "df.loc[642      ,'province'] = 'Riyadh'"
   ]
  },
  {
   "cell_type": "code",
   "execution_count": 11,
   "id": "5be1f0cc-72dd-453f-aeb8-ddfad0981fc6",
   "metadata": {},
   "outputs": [],
   "source": [
    "df.loc[1080      ,'province'] = 'Mecca'"
   ]
  },
  {
   "cell_type": "code",
   "execution_count": 12,
   "id": "0ea4563d-d02e-4bf4-93c5-1661a4ba90b1",
   "metadata": {},
   "outputs": [],
   "source": [
    "df.loc[1147      ,'province'] = 'Mecca'"
   ]
  },
  {
   "cell_type": "code",
   "execution_count": 13,
   "id": "12e2656e-0436-49c8-b3c3-24d5c06b5665",
   "metadata": {},
   "outputs": [],
   "source": [
    "df.loc[1148      ,'province'] = 'Mecca'"
   ]
  },
  {
   "cell_type": "code",
   "execution_count": 14,
   "id": "741b8ce4-2ed9-4574-b4ea-ad31f76bdb4e",
   "metadata": {},
   "outputs": [],
   "source": [
    "df.loc[1337      ,'province'] = 'Mecca'"
   ]
  },
  {
   "cell_type": "code",
   "execution_count": 15,
   "id": "36495f2d-485e-4115-ab34-1f33e44889ee",
   "metadata": {},
   "outputs": [],
   "source": [
    "df.loc[1358      ,'province'] = 'Mecca'"
   ]
  },
  {
   "cell_type": "code",
   "execution_count": 16,
   "id": "59a50235-f744-4f6d-a4c9-02bcc2de7def",
   "metadata": {},
   "outputs": [],
   "source": [
    "df.loc[1635      ,'province'] = 'Riyadh'"
   ]
  },
  {
   "cell_type": "code",
   "execution_count": 17,
   "id": "7bd8ebf0-fa8f-4bbe-9a3a-57873ce2fdfa",
   "metadata": {},
   "outputs": [],
   "source": [
    "df.loc[1545      ,'province'] = 'Riyadh'"
   ]
  },
  {
   "cell_type": "code",
   "execution_count": 18,
   "id": "4ff816de-721f-4c9a-8192-ad358c8f64d4",
   "metadata": {},
   "outputs": [],
   "source": [
    "df.loc[1652      ,'province'] = 'Riyadh'"
   ]
  },
  {
   "cell_type": "code",
   "execution_count": 19,
   "id": "ffd91578-5711-42d6-81ff-0a706340b391",
   "metadata": {},
   "outputs": [],
   "source": [
    "df.loc[1716      ,'province'] = 'Riyadh'"
   ]
  },
  {
   "cell_type": "code",
   "execution_count": 20,
   "id": "060004ec-8b91-4a49-a303-0e5a5584aab4",
   "metadata": {},
   "outputs": [],
   "source": [
    "df.loc[1858      ,'province'] = 'Tabuk'"
   ]
  },
  {
   "cell_type": "code",
   "execution_count": 22,
   "id": "abe71710-36ed-4fcc-92af-88334061e4bb",
   "metadata": {},
   "outputs": [
    {
     "data": {
      "text/plain": [
       "province\n",
       "Mecca       507047\n",
       "Riyadh      490629\n",
       "Eastern     136444\n",
       "Medina       78948\n",
       "Asir         70199\n",
       "AlQassim     37641\n",
       "Tabuk         9225\n",
       "Ha'il          600\n",
       "Al Bahah       500\n",
       "West           250\n",
       "Jizan           85\n",
       "Name: price, dtype: int64"
      ]
     },
     "execution_count": 22,
     "metadata": {},
     "output_type": "execute_result"
    }
   ],
   "source": [
    "df.groupby(['province'])['price'].sum().sort_values()[::-1]"
   ]
  },
  {
   "cell_type": "code",
   "execution_count": 23,
   "id": "6f40c581-b54f-44a2-9aae-9abc16cda738",
   "metadata": {},
   "outputs": [
    {
     "data": {
      "text/plain": [
       "index\n",
       "851    https://www.airbnb.com/rooms/42831842?previous...\n",
       "Name: link, dtype: object"
      ]
     },
     "execution_count": 23,
     "metadata": {},
     "output_type": "execute_result"
    }
   ],
   "source": [
    "df[df['province']  == to_modifiy[1]]['link']"
   ]
  },
  {
   "cell_type": "code",
   "execution_count": 24,
   "id": "67246ef3-cc71-4136-8e7d-803431f33cd2",
   "metadata": {},
   "outputs": [],
   "source": [
    "df.loc[851    ,'province'] = 'Mecca'"
   ]
  },
  {
   "cell_type": "code",
   "execution_count": 25,
   "id": "8af02374-8421-4c99-98f0-c21b3740b851",
   "metadata": {},
   "outputs": [
    {
     "data": {
      "text/plain": [
       "province\n",
       "Riyadh      723\n",
       "Mecca       637\n",
       "Eastern     193\n",
       "Medina      143\n",
       "Asir         94\n",
       "AlQassim     58\n",
       "Tabuk        12\n",
       "Al Bahah      2\n",
       "Jizan         1\n",
       "Ha'il         1\n",
       "Name: price, dtype: int64"
      ]
     },
     "execution_count": 25,
     "metadata": {},
     "output_type": "execute_result"
    }
   ],
   "source": [
    "df.groupby(['province'])['price'].count().sort_values()[::-1]"
   ]
  },
  {
   "cell_type": "code",
   "execution_count": 27,
   "id": "73d9dc5a-d5d1-436b-8cb0-a9bc77cc26f4",
   "metadata": {},
   "outputs": [],
   "source": [
    "prov = {\n",
    "'Mecca':1,\n",
    "'Riyadh':2,\n",
    "'Eastern':3,\n",
    "'Medina':4,\n",
    "'Asir':5,\n",
    "'AlQassim':6,\n",
    "'Tabuk':7,\n",
    "'Ha\\'il':8  ,\n",
    "'Al Bahah':9 ,\n",
    "'Jizan':10} "
   ]
  },
  {
   "cell_type": "code",
   "execution_count": null,
   "id": "615593da-7e05-436a-89c2-f5ae69c02555",
   "metadata": {},
   "outputs": [],
   "source": []
  },
  {
   "cell_type": "code",
   "execution_count": 28,
   "id": "3bd35597-62b7-4ec9-a6e6-70303f1dd728",
   "metadata": {},
   "outputs": [],
   "source": [
    "df['province'].replace(prov, inplace=True)"
   ]
  },
  {
   "cell_type": "code",
   "execution_count": 30,
   "id": "8f1b1059-a4bb-49c4-833d-d9fa684d2341",
   "metadata": {},
   "outputs": [
    {
     "data": {
      "text/plain": [
       "province\n",
       "2     723\n",
       "1     637\n",
       "3     193\n",
       "4     143\n",
       "5      94\n",
       "6      58\n",
       "7      12\n",
       "9       2\n",
       "10      1\n",
       "8       1\n",
       "Name: price, dtype: int64"
      ]
     },
     "execution_count": 30,
     "metadata": {},
     "output_type": "execute_result"
    }
   ],
   "source": [
    "df.groupby(['province'])['price'].count().sort_values()[::-1]"
   ]
  },
  {
   "cell_type": "code",
   "execution_count": 32,
   "id": "7ee1d1b2-89b1-47e9-b9c5-b2be8c711710",
   "metadata": {
    "collapsed": true,
    "jupyter": {
     "outputs_hidden": true
    },
    "tags": []
   },
   "outputs": [
    {
     "name": "stdout",
     "output_type": "stream",
     "text": [
      "<class 'pandas.core.frame.DataFrame'>\n",
      "Int64Index: 1864 entries, 0 to 1864\n",
      "Data columns (total 144 columns):\n",
      " #    Column                             Non-Null Count  Dtype  \n",
      "---   ------                             --------------  -----  \n",
      " 0    rating                             1864 non-null   float64\n",
      " 1    city                               1864 non-null   object \n",
      " 2    province                           1864 non-null   int64  \n",
      " 3    superhost                          1863 non-null   float64\n",
      " 4    price                              1864 non-null   int64  \n",
      " 5    house_type                         1864 non-null   object \n",
      " 6    link                               1864 non-null   object \n",
      " 7    Hangers                            1864 non-null   int64  \n",
      " 8    Bed linens                         1864 non-null   int64  \n",
      " 9    Extra pillows and blankets         1864 non-null   int64  \n",
      " 10   Room-darkening shades              1864 non-null   int64  \n",
      " 11   Suitable for events                1864 non-null   int64  \n",
      " 12   Crib                               1864 non-null   int64  \n",
      " 13   Pack ’n play/Travel crib           1864 non-null   int64  \n",
      " 14   Window guards                      1864 non-null   int64  \n",
      " 15   Heating                            1864 non-null   int64  \n",
      " 16   Smoke alarm                        1864 non-null   int64  \n",
      " 17   Carbon monoxide alarm              1864 non-null   int64  \n",
      " 18   Microwave                          1864 non-null   int64  \n",
      " 19   Cooking basics                     1864 non-null   int64  \n",
      " 20   Private entrance                   1864 non-null   int64  \n",
      " 21   Free street parking                1864 non-null   int64  \n",
      " 22   Pets allowed                       1864 non-null   int64  \n",
      " 23   Smoking allowed                    1864 non-null   int64  \n",
      " 24   Long term stays allowed            1864 non-null   int64  \n",
      " 25   Security cameras on property       1864 non-null   int64  \n",
      " 26   Iron                               1864 non-null   int64  \n",
      " 27   Hot water                          1864 non-null   int64  \n",
      " 28   Breakfast                          1864 non-null   int64  \n",
      " 29   Essentials                         1864 non-null   int64  \n",
      " 30   Fire extinguisher                  1864 non-null   int64  \n",
      " 31   Lock on bedroom door               1864 non-null   int64  \n",
      " 32   First aid kit                      1864 non-null   int64  \n",
      " 33   Dishes and silverware              1864 non-null   int64  \n",
      " 34   Hot tub                            1864 non-null   int64  \n",
      " 35   Private living room                1864 non-null   int64  \n",
      " 36   Host greets you                    1864 non-null   int64  \n",
      " 37   Fire pit                           1864 non-null   int64  \n",
      " 38   Outdoor dining area                1864 non-null   int64  \n",
      " 39   Self check-in                      1864 non-null   int64  \n",
      " 40   Lockbox                            1864 non-null   int64  \n",
      " 41   Outdoor shower                     1864 non-null   int64  \n",
      " 42   Outdoor furniture                  1864 non-null   int64  \n",
      " 43   Cleaning before checkout           1864 non-null   int64  \n",
      " 44   Bidet                              1864 non-null   int64  \n",
      " 45   Safe                               1864 non-null   int64  \n",
      " 46   Mini fridge                        1864 non-null   int64  \n",
      " 47   Free driveway parking on premises  1864 non-null   int64  \n",
      " 48   Luggage dropoff allowed            1864 non-null   int64  \n",
      " 49   Elevator                           1864 non-null   int64  \n",
      " 50   Trash compactor                    1864 non-null   int64  \n",
      " 51   Ceiling fan                        1864 non-null   int64  \n",
      " 52   Freezer                            1864 non-null   int64  \n",
      " 53   Laundromat nearby                  1864 non-null   int64  \n",
      " 54   Smart lock                         1864 non-null   int64  \n",
      " 55   Hot water kettle                   1864 non-null   int64  \n",
      " 56   Dining table                       1864 non-null   int64  \n",
      " 57   Cleaning products                  1864 non-null   int64  \n",
      " 58   Shower gel                         1864 non-null   int64  \n",
      " 59   Drying rack for clothing           1864 non-null   int64  \n",
      " 60   Ethernet connection                1864 non-null   int64  \n",
      " 61   Rice maker                         1864 non-null   int64  \n",
      " 62   Barbecue utensils                  1864 non-null   int64  \n",
      " 63   Bread maker                        1864 non-null   int64  \n",
      " 64   EV charger                         1864 non-null   int64  \n",
      " 65   Mosquito net                       1864 non-null   int64  \n",
      " 66   High chair                         1864 non-null   int64  \n",
      " 67   Outlet covers                      1864 non-null   int64  \n",
      " 68   Table corner guards                1864 non-null   int64  \n",
      " 69   Central heating                    1864 non-null   int64  \n",
      " 70   Private hot tub                    1864 non-null   int64  \n",
      " 71   Paid street parking off premises   1864 non-null   int64  \n",
      " 72   Single level home                  1864 non-null   int64  \n",
      " 73   Bathtub                            1864 non-null   int64  \n",
      " 74   Blender                            1864 non-null   int64  \n",
      " 75   Books and reading material         1864 non-null   int64  \n",
      " 76   Portable heater                    1864 non-null   int64  \n",
      " 77   Building staff                     1864 non-null   int64  \n",
      " 78   Baking sheet                       1864 non-null   int64  \n",
      " 79   Waterfront                         1864 non-null   int64  \n",
      " 80   Wine glasses                       1864 non-null   int64  \n",
      " 81   Record player                      1864 non-null   int64  \n",
      " 82   Lake access                        1864 non-null   int64  \n",
      " 83   Radiant heating                    1864 non-null   int64  \n",
      " 84   Free resort access                 1864 non-null   int64  \n",
      " 85   Keypad                             1864 non-null   int64  \n",
      " 86   Portable fans                      1864 non-null   int64  \n",
      " 87   Bikes                              1864 non-null   int64  \n",
      " 88   Resort access                      1864 non-null   int64  \n",
      " 89   Toaster                            1864 non-null   int64  \n",
      " 90   Shared hot tub                     1864 non-null   int64  \n",
      " 91   Sauna                              1864 non-null   int64  \n",
      " 92   Children’s dinnerware              1864 non-null   int64  \n",
      " 93   Window AC unit                     1864 non-null   int64  \n",
      " 94   Piano                              1864 non-null   int64  \n",
      " 95   Changing table                     1864 non-null   int64  \n",
      " 96   Fireplace guards                   1864 non-null   int64  \n",
      " 97   Board games                        1864 non-null   int64  \n",
      " 98   Ping pong table                    1864 non-null   int64  \n",
      " 99   Boat slip                          1864 non-null   int64  \n",
      " 100  Paid resort access                 1864 non-null   int64  \n",
      " 101  Hammock                            1864 non-null   int64  \n",
      " 102  Beach essentials                   1864 non-null   int64  \n",
      " 103  Private sauna                      1864 non-null   int64  \n",
      " 104  Kayak                              1864 non-null   int64  \n",
      " 105  Shared sauna                       1864 non-null   int64  \n",
      " 106  Bed_num                            1864 non-null   int64  \n",
      " 107  bedroom_num                        1864 non-null   int64  \n",
      " 108  tv                                 1864 non-null   int64  \n",
      " 109  coffee                             1864 non-null   int64  \n",
      " 110  shampoo                            1864 non-null   int64  \n",
      " 111  soap                               1864 non-null   int64  \n",
      " 112  conditioner                        1864 non-null   int64  \n",
      " 113  dedicated workspace                1864 non-null   int64  \n",
      " 114  stove                              1864 non-null   int64  \n",
      " 115  gym                                1864 non-null   int64  \n",
      " 116  indoor fireplace                   1864 non-null   int64  \n",
      " 117  kitchen                            1864 non-null   int64  \n",
      " 118  wifi                               1864 non-null   int64  \n",
      " 119  clothing storage                   1864 non-null   int64  \n",
      " 120  refrigerator                       1864 non-null   int64  \n",
      " 121  exercise equipment                 1864 non-null   int64  \n",
      " 122  paid parking                       1864 non-null   int64  \n",
      " 123  free parking                       1864 non-null   int64  \n",
      " 124  children’s books and toys          1864 non-null   int64  \n",
      " 125  oven                               1864 non-null   int64  \n",
      " 126  washer                             1864 non-null   int64  \n",
      " 127  sound system                       1864 non-null   int64  \n",
      " 128  bbq grill                          1864 non-null   int64  \n",
      " 129  dryer                              1864 non-null   int64  \n",
      " 130  baby                               1864 non-null   int64  \n",
      " 131  view                               1864 non-null   int64  \n",
      " 132  free residential garage            1864 non-null   int64  \n",
      " 133  air conditioning                   1864 non-null   int64  \n",
      " 134  game console                       1864 non-null   int64  \n",
      " 135  guest_num                          1864 non-null   int64  \n",
      " 136  bath_num                           1864 non-null   float64\n",
      " 137  id                                 1864 non-null   object \n",
      " 138  pool                               1864 non-null   int64  \n",
      " 139  backyard                           1864 non-null   int64  \n",
      " 140  free carport                       1864 non-null   int64  \n",
      " 141  ski-in                             1864 non-null   int64  \n",
      " 142  beach access                       1864 non-null   int64  \n",
      " 143  balcony                            1864 non-null   int64  \n",
      "dtypes: float64(3), int64(137), object(4)\n",
      "memory usage: 2.1+ MB\n"
     ]
    },
    {
     "name": "stderr",
     "output_type": "stream",
     "text": [
      "C:\\Users\\elaaf\\AppData\\Local\\Temp/ipykernel_28100/2612161665.py:1: FutureWarning: null_counts is deprecated. Use show_counts instead\n",
      "  df.info(verbose=True, null_counts=True)\n"
     ]
    }
   ],
   "source": [
    "df.info(verbose=True, null_counts=True)"
   ]
  },
  {
   "cell_type": "code",
   "execution_count": 33,
   "id": "b88f1e8c-f307-4640-a516-699c7fe4a2a0",
   "metadata": {},
   "outputs": [
    {
     "data": {
      "text/html": [
       "<div>\n",
       "<style scoped>\n",
       "    .dataframe tbody tr th:only-of-type {\n",
       "        vertical-align: middle;\n",
       "    }\n",
       "\n",
       "    .dataframe tbody tr th {\n",
       "        vertical-align: top;\n",
       "    }\n",
       "\n",
       "    .dataframe thead th {\n",
       "        text-align: right;\n",
       "    }\n",
       "</style>\n",
       "<table border=\"1\" class=\"dataframe\">\n",
       "  <thead>\n",
       "    <tr style=\"text-align: right;\">\n",
       "      <th></th>\n",
       "      <th>rating</th>\n",
       "      <th>city</th>\n",
       "      <th>province</th>\n",
       "      <th>superhost</th>\n",
       "      <th>price</th>\n",
       "      <th>house_type</th>\n",
       "      <th>link</th>\n",
       "      <th>Hangers</th>\n",
       "      <th>Bed linens</th>\n",
       "      <th>Extra pillows and blankets</th>\n",
       "      <th>...</th>\n",
       "      <th>game console</th>\n",
       "      <th>guest_num</th>\n",
       "      <th>bath_num</th>\n",
       "      <th>id</th>\n",
       "      <th>pool</th>\n",
       "      <th>backyard</th>\n",
       "      <th>free carport</th>\n",
       "      <th>ski-in</th>\n",
       "      <th>beach access</th>\n",
       "      <th>balcony</th>\n",
       "    </tr>\n",
       "    <tr>\n",
       "      <th>index</th>\n",
       "      <th></th>\n",
       "      <th></th>\n",
       "      <th></th>\n",
       "      <th></th>\n",
       "      <th></th>\n",
       "      <th></th>\n",
       "      <th></th>\n",
       "      <th></th>\n",
       "      <th></th>\n",
       "      <th></th>\n",
       "      <th></th>\n",
       "      <th></th>\n",
       "      <th></th>\n",
       "      <th></th>\n",
       "      <th></th>\n",
       "      <th></th>\n",
       "      <th></th>\n",
       "      <th></th>\n",
       "      <th></th>\n",
       "      <th></th>\n",
       "      <th></th>\n",
       "    </tr>\n",
       "  </thead>\n",
       "  <tbody>\n",
       "    <tr>\n",
       "      <th>0</th>\n",
       "      <td>0.0</td>\n",
       "      <td>buraydah</td>\n",
       "      <td>6</td>\n",
       "      <td>0.0</td>\n",
       "      <td>1100</td>\n",
       "      <td>Earth house</td>\n",
       "      <td>https://www.airbnb.com/rooms/44085675?previous...</td>\n",
       "      <td>1</td>\n",
       "      <td>1</td>\n",
       "      <td>1</td>\n",
       "      <td>...</td>\n",
       "      <td>1</td>\n",
       "      <td>10</td>\n",
       "      <td>3.0</td>\n",
       "      <td>0.0BuraydahAlQassimFalse1100.0Earth house</td>\n",
       "      <td>0</td>\n",
       "      <td>1</td>\n",
       "      <td>0</td>\n",
       "      <td>0</td>\n",
       "      <td>0</td>\n",
       "      <td>1</td>\n",
       "    </tr>\n",
       "    <tr>\n",
       "      <th>1</th>\n",
       "      <td>0.0</td>\n",
       "      <td>buraydah</td>\n",
       "      <td>6</td>\n",
       "      <td>0.0</td>\n",
       "      <td>2200</td>\n",
       "      <td>Entire chalet</td>\n",
       "      <td>https://www.airbnb.com/rooms/19854001?previous...</td>\n",
       "      <td>1</td>\n",
       "      <td>0</td>\n",
       "      <td>0</td>\n",
       "      <td>...</td>\n",
       "      <td>0</td>\n",
       "      <td>4</td>\n",
       "      <td>4.0</td>\n",
       "      <td>0.0BuraydahAlQassimFalse2200.0Entire chalet</td>\n",
       "      <td>1</td>\n",
       "      <td>0</td>\n",
       "      <td>0</td>\n",
       "      <td>0</td>\n",
       "      <td>0</td>\n",
       "      <td>0</td>\n",
       "    </tr>\n",
       "    <tr>\n",
       "      <th>2</th>\n",
       "      <td>0.0</td>\n",
       "      <td>buraydah</td>\n",
       "      <td>6</td>\n",
       "      <td>0.0</td>\n",
       "      <td>400</td>\n",
       "      <td>Shared room in chalet</td>\n",
       "      <td>https://www.airbnb.com/rooms/37763947?previous...</td>\n",
       "      <td>1</td>\n",
       "      <td>0</td>\n",
       "      <td>0</td>\n",
       "      <td>...</td>\n",
       "      <td>0</td>\n",
       "      <td>16</td>\n",
       "      <td>4.5</td>\n",
       "      <td>0.0BuraydahAlQassimFalse400.0Shared room in ch...</td>\n",
       "      <td>1</td>\n",
       "      <td>0</td>\n",
       "      <td>0</td>\n",
       "      <td>0</td>\n",
       "      <td>0</td>\n",
       "      <td>0</td>\n",
       "    </tr>\n",
       "    <tr>\n",
       "      <th>3</th>\n",
       "      <td>0.0</td>\n",
       "      <td>buraydah</td>\n",
       "      <td>6</td>\n",
       "      <td>0.0</td>\n",
       "      <td>550</td>\n",
       "      <td>Private room in resort</td>\n",
       "      <td>https://www.airbnb.com/rooms/44031535?previous...</td>\n",
       "      <td>1</td>\n",
       "      <td>1</td>\n",
       "      <td>1</td>\n",
       "      <td>...</td>\n",
       "      <td>0</td>\n",
       "      <td>5</td>\n",
       "      <td>2.0</td>\n",
       "      <td>0.0BuraydahAlQassimFalse550.0Private room in r...</td>\n",
       "      <td>1</td>\n",
       "      <td>0</td>\n",
       "      <td>0</td>\n",
       "      <td>0</td>\n",
       "      <td>0</td>\n",
       "      <td>0</td>\n",
       "    </tr>\n",
       "    <tr>\n",
       "      <th>4</th>\n",
       "      <td>0.0</td>\n",
       "      <td>buraydah</td>\n",
       "      <td>6</td>\n",
       "      <td>0.0</td>\n",
       "      <td>2500</td>\n",
       "      <td>Entire villa</td>\n",
       "      <td>https://www.airbnb.com/rooms/35754885?previous...</td>\n",
       "      <td>1</td>\n",
       "      <td>0</td>\n",
       "      <td>0</td>\n",
       "      <td>...</td>\n",
       "      <td>0</td>\n",
       "      <td>7</td>\n",
       "      <td>3.0</td>\n",
       "      <td>0.0BuraydahAlQassimFalse2500.0Entire villa</td>\n",
       "      <td>1</td>\n",
       "      <td>0</td>\n",
       "      <td>0</td>\n",
       "      <td>0</td>\n",
       "      <td>0</td>\n",
       "      <td>0</td>\n",
       "    </tr>\n",
       "  </tbody>\n",
       "</table>\n",
       "<p>5 rows × 144 columns</p>\n",
       "</div>"
      ],
      "text/plain": [
       "       rating      city  province  superhost  price              house_type  \\\n",
       "index                                                                         \n",
       "0         0.0  buraydah         6        0.0   1100             Earth house   \n",
       "1         0.0  buraydah         6        0.0   2200           Entire chalet   \n",
       "2         0.0  buraydah         6        0.0    400   Shared room in chalet   \n",
       "3         0.0  buraydah         6        0.0    550  Private room in resort   \n",
       "4         0.0  buraydah         6        0.0   2500            Entire villa   \n",
       "\n",
       "                                                    link  Hangers  Bed linens  \\\n",
       "index                                                                           \n",
       "0      https://www.airbnb.com/rooms/44085675?previous...        1           1   \n",
       "1      https://www.airbnb.com/rooms/19854001?previous...        1           0   \n",
       "2      https://www.airbnb.com/rooms/37763947?previous...        1           0   \n",
       "3      https://www.airbnb.com/rooms/44031535?previous...        1           1   \n",
       "4      https://www.airbnb.com/rooms/35754885?previous...        1           0   \n",
       "\n",
       "       Extra pillows and blankets  ...  game console  guest_num  bath_num  \\\n",
       "index                              ...                                      \n",
       "0                               1  ...             1         10       3.0   \n",
       "1                               0  ...             0          4       4.0   \n",
       "2                               0  ...             0         16       4.5   \n",
       "3                               1  ...             0          5       2.0   \n",
       "4                               0  ...             0          7       3.0   \n",
       "\n",
       "                                                      id  pool  backyard  \\\n",
       "index                                                                      \n",
       "0              0.0BuraydahAlQassimFalse1100.0Earth house     0         1   \n",
       "1            0.0BuraydahAlQassimFalse2200.0Entire chalet     1         0   \n",
       "2      0.0BuraydahAlQassimFalse400.0Shared room in ch...     1         0   \n",
       "3      0.0BuraydahAlQassimFalse550.0Private room in r...     1         0   \n",
       "4             0.0BuraydahAlQassimFalse2500.0Entire villa     1         0   \n",
       "\n",
       "       free carport  ski-in  beach access  balcony  \n",
       "index                                               \n",
       "0                 0       0             0        1  \n",
       "1                 0       0             0        0  \n",
       "2                 0       0             0        0  \n",
       "3                 0       0             0        0  \n",
       "4                 0       0             0        0  \n",
       "\n",
       "[5 rows x 144 columns]"
      ]
     },
     "execution_count": 33,
     "metadata": {},
     "output_type": "execute_result"
    }
   ],
   "source": [
    "df.head(5)"
   ]
  },
  {
   "cell_type": "code",
   "execution_count": null,
   "id": "de0897de-ccc1-4ca3-a22f-d8d064e39ff7",
   "metadata": {},
   "outputs": [],
   "source": [
    "df.to_csv('cleaned_v6.csv')"
   ]
  },
  {
   "cell_type": "code",
   "execution_count": null,
   "id": "c91dcc4e-c71b-494d-b4b2-d2e08bdcbe3e",
   "metadata": {},
   "outputs": [],
   "source": []
  },
  {
   "cell_type": "code",
   "execution_count": null,
   "id": "e8012bd6-8cd1-4bbb-adbd-f08e37623d31",
   "metadata": {},
   "outputs": [],
   "source": []
  },
  {
   "cell_type": "code",
   "execution_count": 47,
   "id": "823883c3-8ad1-4d67-990a-0465f6fbb841",
   "metadata": {},
   "outputs": [],
   "source": []
  },
  {
   "cell_type": "code",
   "execution_count": null,
   "id": "8ea31084-245b-46a5-b878-d7ee88f926fa",
   "metadata": {},
   "outputs": [],
   "source": []
  },
  {
   "cell_type": "code",
   "execution_count": null,
   "id": "b0fa60c8-05da-4ef7-b55d-3593f7479e1f",
   "metadata": {},
   "outputs": [],
   "source": []
  },
  {
   "cell_type": "markdown",
   "id": "ef0fcbbf-db13-4d46-92a0-3fe4536f05db",
   "metadata": {},
   "source": [
    "## EDA"
   ]
  },
  {
   "cell_type": "code",
   "execution_count": 5,
   "id": "d53dd0b0-0821-4659-995f-673505df6eaf",
   "metadata": {},
   "outputs": [],
   "source": [
    "\n",
    "from sklearn.linear_model import Lasso, Ridge, ElasticNet, LinearRegression\n",
    "\n",
    "from sklearn.model_selection import (cross_val_score, train_test_split, \n",
    "                                     KFold, GridSearchCV)"
   ]
  },
  {
   "cell_type": "code",
   "execution_count": 6,
   "id": "c203fa6f-732d-4c9a-9f41-d4e120cc1470",
   "metadata": {},
   "outputs": [],
   "source": [
    "#test.iloc[:,:10]"
   ]
  },
  {
   "cell_type": "code",
   "execution_count": 7,
   "id": "e2963b1f-77f4-4e86-86ee-88c5a6e35294",
   "metadata": {},
   "outputs": [
    {
     "ename": "NameError",
     "evalue": "name 'df' is not defined",
     "output_type": "error",
     "traceback": [
      "\u001b[1;31m---------------------------------------------------------------------------\u001b[0m",
      "\u001b[1;31mNameError\u001b[0m                                 Traceback (most recent call last)",
      "\u001b[1;32m~\\AppData\\Local\\Temp/ipykernel_18684/212753538.py\u001b[0m in \u001b[0;36m<module>\u001b[1;34m\u001b[0m\n\u001b[1;32m----> 1\u001b[1;33m \u001b[0mL\u001b[0m \u001b[1;33m=\u001b[0m \u001b[0mdf\u001b[0m\u001b[1;33m.\u001b[0m\u001b[0mcolumns\u001b[0m\u001b[1;33m\u001b[0m\u001b[1;33m\u001b[0m\u001b[0m\n\u001b[0m\u001b[0;32m      2\u001b[0m \u001b[1;33m\u001b[0m\u001b[0m\n\u001b[0;32m      3\u001b[0m \u001b[1;33m[\u001b[0m\u001b[0mx\u001b[0m \u001b[1;32mfor\u001b[0m \u001b[0mx\u001b[0m \u001b[1;32min\u001b[0m \u001b[0mL\u001b[0m \u001b[1;32mif\u001b[0m \u001b[1;34m'pool'\u001b[0m \u001b[1;32min\u001b[0m \u001b[0mx\u001b[0m\u001b[1;33m]\u001b[0m\u001b[1;33m\u001b[0m\u001b[1;33m\u001b[0m\u001b[0m\n",
      "\u001b[1;31mNameError\u001b[0m: name 'df' is not defined"
     ]
    }
   ],
   "source": [
    "L = df.columns\n",
    "\n",
    "[x for x in L if 'pool' in x]"
   ]
  },
  {
   "cell_type": "code",
   "execution_count": 42,
   "id": "1db3b893-7182-4781-bee0-31d2fb5da760",
   "metadata": {},
   "outputs": [],
   "source": [
    "p = list(prov.keys())"
   ]
  },
  {
   "cell_type": "code",
   "execution_count": 48,
   "id": "11a2a489-5363-460b-927e-9d8414336f45",
   "metadata": {},
   "outputs": [],
   "source": [
    "#fig, ax = plt.subplots()\n",
    "#plt.figure(figsize=(25,7));\n",
    "#ax.set_xticks(p) \n",
    "#sns.lineplot(x=prov[df.province], y=df.price)"
   ]
  },
  {
   "cell_type": "code",
   "execution_count": 49,
   "id": "4097ca5a-fc53-44f5-a9a1-d8fcf0a7c807",
   "metadata": {},
   "outputs": [],
   "source": [
    "#plt.figure(figsize=(25,7));\n",
    "#sns.catplot(x=df.pool, y=df.price, data = df)\n",
    "#sns.catplot(x=df.tv, y=df.price, data = df)"
   ]
  },
  {
   "cell_type": "code",
   "execution_count": 70,
   "id": "84cc32a9-d3a7-408e-a33e-39b90134f969",
   "metadata": {},
   "outputs": [
    {
     "data": {
      "image/png": "[encoded data removed]",
      "text/plain": [
       "<Figure size 1800x504 with 1 Axes>"
      ]
     },
     "metadata": {
      "needs_background": "light"
     },
     "output_type": "display_data"
    }
   ],
   "source": [
    "plt.figure(figsize=(25,7));\n",
    "plt.hist(df.rating);"
   ]
  },
  {
   "cell_type": "code",
   "execution_count": 71,
   "id": "c16533d3-a405-4483-b77f-4070034d8640",
   "metadata": {},
   "outputs": [
    {
     "data": {
      "image/png": "[encoded data removed]",
      "text/plain": [
       "<Figure size 1800x504 with 1 Axes>"
      ]
     },
     "metadata": {
      "needs_background": "light"
     },
     "output_type": "display_data"
    }
   ],
   "source": [
    "plt.figure(figsize=(25,7));\n",
    "plt.hist(df.price);"
   ]
  },
  {
   "cell_type": "code",
   "execution_count": null,
   "id": "dcc223f9-8220-47d2-828c-e0f1e601118a",
   "metadata": {},
   "outputs": [],
   "source": [
    "#x = list(x.columns)\n",
    "#x.sort()\n",
    "#x\n",
    "\n",
    "#cols = list(df.columns)\n",
    "#for i in cols:\n",
    "#    value = sum(df[i].isna()) \n",
    "#    if value!=0:\n",
    "#        print(i)\n",
    "    #else:\n",
    "        #print(i)\n",
    "#df.loc[1863, 'superhost'] = 0"
   ]
  },
  {
   "cell_type": "code",
   "execution_count": 10,
   "id": "1e7a1c02-2183-4625-8c3e-4fbad4ba512b",
   "metadata": {},
   "outputs": [],
   "source": [
    "from sklearn.linear_model import Lasso, Ridge, ElasticNet, LinearRegression\n",
    "\n",
    "from sklearn.model_selection import (cross_val_score, train_test_split, \n",
    "                                     KFold, GridSearchCV)\n",
    "from sklearn.preprocessing import StandardScaler, MinMaxScaler\n",
    "from sklearn.preprocessing import PolynomialFeatures\n",
    "from sklearn.metrics import mean_absolute_error"
   ]
  },
  {
   "cell_type": "code",
   "execution_count": null,
   "id": "1355468a-addc-4176-9333-24e1dd0a5a04",
   "metadata": {},
   "outputs": [],
   "source": []
  },
  {
   "cell_type": "code",
   "execution_count": 53,
   "id": "257755db-322b-41e7-982b-c70d0881976f",
   "metadata": {},
   "outputs": [],
   "source": [
    "df = pd.read_csv('data_v9.csv', index_col=0)"
   ]
  },
  {
   "cell_type": "code",
   "execution_count": 86,
   "id": "c7c2f506-9d90-415d-b52d-6f25fd4183c8",
   "metadata": {},
   "outputs": [
    {
     "data": {
      "text/html": [
       "<div>\n",
       "<style scoped>\n",
       "    .dataframe tbody tr th:only-of-type {\n",
       "        vertical-align: middle;\n",
       "    }\n",
       "\n",
       "    .dataframe tbody tr th {\n",
       "        vertical-align: top;\n",
       "    }\n",
       "\n",
       "    .dataframe thead th {\n",
       "        text-align: right;\n",
       "    }\n",
       "</style>\n",
       "<table border=\"1\" class=\"dataframe\">\n",
       "  <thead>\n",
       "    <tr style=\"text-align: right;\">\n",
       "      <th></th>\n",
       "      <th>rating</th>\n",
       "      <th>city</th>\n",
       "      <th>province</th>\n",
       "      <th>superhost</th>\n",
       "      <th>price</th>\n",
       "      <th>house_type</th>\n",
       "      <th>link</th>\n",
       "      <th>Room-darkening shades</th>\n",
       "      <th>Suitable for events</th>\n",
       "      <th>Window guards</th>\n",
       "      <th>...</th>\n",
       "      <th>child_friendly</th>\n",
       "      <th>heating</th>\n",
       "      <th>home_utensils</th>\n",
       "      <th>mean_per_prov</th>\n",
       "      <th>appliance</th>\n",
       "      <th>sauna</th>\n",
       "      <th>entertainment</th>\n",
       "      <th>safety</th>\n",
       "      <th>boat</th>\n",
       "      <th>internet</th>\n",
       "    </tr>\n",
       "  </thead>\n",
       "  <tbody>\n",
       "    <tr>\n",
       "      <th>0</th>\n",
       "      <td>0.0</td>\n",
       "      <td>buraydah</td>\n",
       "      <td>6</td>\n",
       "      <td>0</td>\n",
       "      <td>1100</td>\n",
       "      <td>Earth house</td>\n",
       "      <td>https://www.airbnb.com/rooms/44085675?previous...</td>\n",
       "      <td>1</td>\n",
       "      <td>1</td>\n",
       "      <td>1</td>\n",
       "      <td>...</td>\n",
       "      <td>1</td>\n",
       "      <td>1</td>\n",
       "      <td>1</td>\n",
       "      <td>560.000000</td>\n",
       "      <td>1</td>\n",
       "      <td>0</td>\n",
       "      <td>0</td>\n",
       "      <td>1</td>\n",
       "      <td>0</td>\n",
       "      <td>1</td>\n",
       "    </tr>\n",
       "    <tr>\n",
       "      <th>1</th>\n",
       "      <td>0.0</td>\n",
       "      <td>buraydah</td>\n",
       "      <td>6</td>\n",
       "      <td>0</td>\n",
       "      <td>2200</td>\n",
       "      <td>Entire chalet</td>\n",
       "      <td>https://www.airbnb.com/rooms/19854001?previous...</td>\n",
       "      <td>0</td>\n",
       "      <td>1</td>\n",
       "      <td>0</td>\n",
       "      <td>...</td>\n",
       "      <td>0</td>\n",
       "      <td>1</td>\n",
       "      <td>1</td>\n",
       "      <td>702.263158</td>\n",
       "      <td>1</td>\n",
       "      <td>0</td>\n",
       "      <td>0</td>\n",
       "      <td>0</td>\n",
       "      <td>0</td>\n",
       "      <td>0</td>\n",
       "    </tr>\n",
       "    <tr>\n",
       "      <th>2</th>\n",
       "      <td>0.0</td>\n",
       "      <td>buraydah</td>\n",
       "      <td>6</td>\n",
       "      <td>0</td>\n",
       "      <td>400</td>\n",
       "      <td>Shared room in chalet</td>\n",
       "      <td>https://www.airbnb.com/rooms/37763947?previous...</td>\n",
       "      <td>0</td>\n",
       "      <td>1</td>\n",
       "      <td>0</td>\n",
       "      <td>...</td>\n",
       "      <td>0</td>\n",
       "      <td>1</td>\n",
       "      <td>1</td>\n",
       "      <td>400.000000</td>\n",
       "      <td>0</td>\n",
       "      <td>0</td>\n",
       "      <td>0</td>\n",
       "      <td>0</td>\n",
       "      <td>0</td>\n",
       "      <td>0</td>\n",
       "    </tr>\n",
       "    <tr>\n",
       "      <th>3</th>\n",
       "      <td>0.0</td>\n",
       "      <td>buraydah</td>\n",
       "      <td>6</td>\n",
       "      <td>0</td>\n",
       "      <td>550</td>\n",
       "      <td>Private room in resort</td>\n",
       "      <td>https://www.airbnb.com/rooms/44031535?previous...</td>\n",
       "      <td>1</td>\n",
       "      <td>1</td>\n",
       "      <td>0</td>\n",
       "      <td>...</td>\n",
       "      <td>0</td>\n",
       "      <td>0</td>\n",
       "      <td>1</td>\n",
       "      <td>450.000000</td>\n",
       "      <td>0</td>\n",
       "      <td>0</td>\n",
       "      <td>0</td>\n",
       "      <td>1</td>\n",
       "      <td>0</td>\n",
       "      <td>0</td>\n",
       "    </tr>\n",
       "    <tr>\n",
       "      <th>4</th>\n",
       "      <td>0.0</td>\n",
       "      <td>buraydah</td>\n",
       "      <td>6</td>\n",
       "      <td>0</td>\n",
       "      <td>2500</td>\n",
       "      <td>Entire villa</td>\n",
       "      <td>https://www.airbnb.com/rooms/35754885?previous...</td>\n",
       "      <td>0</td>\n",
       "      <td>0</td>\n",
       "      <td>0</td>\n",
       "      <td>...</td>\n",
       "      <td>0</td>\n",
       "      <td>1</td>\n",
       "      <td>1</td>\n",
       "      <td>1852.000000</td>\n",
       "      <td>1</td>\n",
       "      <td>0</td>\n",
       "      <td>0</td>\n",
       "      <td>1</td>\n",
       "      <td>0</td>\n",
       "      <td>1</td>\n",
       "    </tr>\n",
       "  </tbody>\n",
       "</table>\n",
       "<p>5 rows × 105 columns</p>\n",
       "</div>"
      ],
      "text/plain": [
       "   rating      city  province  superhost  price              house_type  \\\n",
       "0     0.0  buraydah         6          0   1100             Earth house   \n",
       "1     0.0  buraydah         6          0   2200           Entire chalet   \n",
       "2     0.0  buraydah         6          0    400   Shared room in chalet   \n",
       "3     0.0  buraydah         6          0    550  Private room in resort   \n",
       "4     0.0  buraydah         6          0   2500            Entire villa   \n",
       "\n",
       "                                                link  Room-darkening shades  \\\n",
       "0  https://www.airbnb.com/rooms/44085675?previous...                      1   \n",
       "1  https://www.airbnb.com/rooms/19854001?previous...                      0   \n",
       "2  https://www.airbnb.com/rooms/37763947?previous...                      0   \n",
       "3  https://www.airbnb.com/rooms/44031535?previous...                      1   \n",
       "4  https://www.airbnb.com/rooms/35754885?previous...                      0   \n",
       "\n",
       "   Suitable for events  Window guards  ...  child_friendly  heating  \\\n",
       "0                    1              1  ...               1        1   \n",
       "1                    1              0  ...               0        1   \n",
       "2                    1              0  ...               0        1   \n",
       "3                    1              0  ...               0        0   \n",
       "4                    0              0  ...               0        1   \n",
       "\n",
       "   home_utensils  mean_per_prov  appliance  sauna  entertainment  safety  \\\n",
       "0              1     560.000000          1      0              0       1   \n",
       "1              1     702.263158          1      0              0       0   \n",
       "2              1     400.000000          0      0              0       0   \n",
       "3              1     450.000000          0      0              0       1   \n",
       "4              1    1852.000000          1      0              0       1   \n",
       "\n",
       "   boat  internet  \n",
       "0     0         1  \n",
       "1     0         0  \n",
       "2     0         0  \n",
       "3     0         0  \n",
       "4     0         1  \n",
       "\n",
       "[5 rows x 105 columns]"
      ]
     },
     "execution_count": 86,
     "metadata": {},
     "output_type": "execute_result"
    }
   ],
   "source": [
    "df.head()"
   ]
  },
  {
   "cell_type": "code",
   "execution_count": 54,
   "id": "7d4132f3-885d-42c8-bcf4-b966782d91a7",
   "metadata": {},
   "outputs": [
    {
     "data": {
      "text/plain": [
       "(1864, 105)"
      ]
     },
     "execution_count": 54,
     "metadata": {},
     "output_type": "execute_result"
    }
   ],
   "source": [
    "df.shape"
   ]
  },
  {
   "cell_type": "code",
   "execution_count": 85,
   "id": "9732131e-7c3e-4e2f-96e8-960f143dac44",
   "metadata": {},
   "outputs": [
    {
     "data": {
      "text/plain": [
       "['Baking sheet',\n",
       " 'Bathtub',\n",
       " 'Beach essentials',\n",
       " 'Bed_num',\n",
       " 'Bikes',\n",
       " 'Breakfast',\n",
       " 'Building staff',\n",
       " 'Carbon monoxide alarm',\n",
       " 'Ceiling fan',\n",
       " 'Cleaning before checkout',\n",
       " 'Cleaning products',\n",
       " 'Cooking basics',\n",
       " 'Dining table',\n",
       " 'EV charger',\n",
       " 'Elevator',\n",
       " 'Essentials',\n",
       " 'Fire pit',\n",
       " 'First aid kit',\n",
       " 'Hammock',\n",
       " 'Host greets you',\n",
       " 'Hot tub',\n",
       " 'Keypad',\n",
       " 'Lake access',\n",
       " 'Laundromat nearby',\n",
       " 'Lock on bedroom door',\n",
       " 'Lockbox',\n",
       " 'Long term stays allowed',\n",
       " 'Luggage dropoff allowed',\n",
       " 'Mosquito net',\n",
       " 'Outdoor dining area',\n",
       " 'Outdoor furniture',\n",
       " 'Outdoor shower',\n",
       " 'Paid resort access',\n",
       " 'Pets allowed',\n",
       " 'Piano',\n",
       " 'Portable fans',\n",
       " 'Portable heater',\n",
       " 'Private entrance',\n",
       " 'Private hot tub',\n",
       " 'Private living room',\n",
       " 'Resort access',\n",
       " 'Room-darkening shades',\n",
       " 'Self check-in',\n",
       " 'Shared hot tub',\n",
       " 'Shower gel',\n",
       " 'Single level home',\n",
       " 'Smart lock',\n",
       " 'Smoking allowed',\n",
       " 'Suitable for events',\n",
       " 'Table corner guards',\n",
       " 'Trash compactor',\n",
       " 'Waterfront',\n",
       " 'Window guards',\n",
       " 'Wine glasses',\n",
       " 'air conditioning',\n",
       " 'appliance',\n",
       " 'backyard',\n",
       " 'balcony',\n",
       " 'bath_num',\n",
       " 'bbq',\n",
       " 'beach access',\n",
       " 'bedroom_num',\n",
       " 'boat',\n",
       " 'child_friendly',\n",
       " 'city',\n",
       " 'clothing storage',\n",
       " 'coffee',\n",
       " 'conditioner',\n",
       " 'dedicated workspace',\n",
       " 'dryer',\n",
       " 'entertainment',\n",
       " 'exercise equipment',\n",
       " 'free parking',\n",
       " 'game console',\n",
       " 'guest_num',\n",
       " 'gym',\n",
       " 'heating',\n",
       " 'home_utensils',\n",
       " 'hot_water',\n",
       " 'house_type',\n",
       " 'id',\n",
       " 'indoor fireplace',\n",
       " 'internet',\n",
       " 'kitchen',\n",
       " 'link',\n",
       " 'mean_per_prov',\n",
       " 'oven',\n",
       " 'paid parking',\n",
       " 'pool',\n",
       " 'price',\n",
       " 'province',\n",
       " 'rating',\n",
       " 'rating_count',\n",
       " 'refrigerator',\n",
       " 'safety',\n",
       " 'sauna',\n",
       " 'shampoo',\n",
       " 'ski-in',\n",
       " 'soap',\n",
       " 'sound system',\n",
       " 'stove',\n",
       " 'superhost',\n",
       " 'tv',\n",
       " 'view',\n",
       " 'washer']"
      ]
     },
     "execution_count": 85,
     "metadata": {},
     "output_type": "execute_result"
    }
   ],
   "source": [
    "c = list(df.columns)\n",
    "c.sort()\n",
    "c"
   ]
  },
  {
   "cell_type": "markdown",
   "id": "f1316b28-9b05-49db-bd78-804a5a8992fb",
   "metadata": {},
   "source": [
    "## Experiment 1 "
   ]
  },
  {
   "cell_type": "code",
   "execution_count": 55,
   "id": "c8373de6-f101-4672-ab6e-2d396ee0b9a6",
   "metadata": {},
   "outputs": [],
   "source": [
    "x = df.drop(columns = ['id', 'price', 'city', 'province', 'house_type', 'link'])\n",
    "y = df['price']"
   ]
  },
  {
   "cell_type": "code",
   "execution_count": 57,
   "id": "9c77ae6f-3b7a-43af-9fd1-7e1f2dbef213",
   "metadata": {},
   "outputs": [],
   "source": [
    "model = LinearRegression()"
   ]
  },
  {
   "cell_type": "code",
   "execution_count": 58,
   "id": "61885e1c-05e9-4085-80a1-ef9f8dd8f942",
   "metadata": {},
   "outputs": [],
   "source": [
    "x = df.drop(columns = ['id', 'price', 'city', 'province', 'house_type', 'link'])\n",
    "y = df['price']\n",
    "model = LinearRegression()\n",
    "X_train, X_test, y_train, y_test = train_test_split(x, \n",
    "                                        y, test_size=0.2, random_state=40)\n",
    "m = model.fit(X_train, y_train)\n",
    "print(m.score(X_test, y_test) * 100, mean_absolute_error(y_pred, y_test))\n",
    "y_pred = m.predict(X_test)"
   ]
  },
  {
   "cell_type": "code",
   "execution_count": 61,
   "id": "94c0c8e3-85d8-483d-a8b3-b2081bb0469a",
   "metadata": {},
   "outputs": [],
   "source": [
    "m = model.fit(X_train, y_train)"
   ]
  },
  {
   "cell_type": "code",
   "execution_count": 62,
   "id": "058ae98e-a5fd-4617-8e57-9a509602f52a",
   "metadata": {},
   "outputs": [
    {
     "name": "stdout",
     "output_type": "stream",
     "text": [
      "34.566135965863275 402.0275488129502\n"
     ]
    }
   ],
   "source": [
    "print(m.score(X_test, y_test) * 100, mean_absolute_error(y_pred, y_test))"
   ]
  },
  {
   "cell_type": "code",
   "execution_count": 63,
   "id": "884c5731-f466-42a3-aa06-b284338ceaa4",
   "metadata": {},
   "outputs": [],
   "source": [
    "y_pred = m.predict(X_test)"
   ]
  },
  {
   "cell_type": "code",
   "execution_count": 64,
   "id": "44c2e545-da2e-4859-aaae-58fa6d7383ad",
   "metadata": {},
   "outputs": [],
   "source": [
    "from sklearn.metrics import mean_absolute_error\n"
   ]
  },
  {
   "cell_type": "code",
   "execution_count": null,
   "id": "cd94a716-68ef-4df1-8b90-72cd3fb255fe",
   "metadata": {},
   "outputs": [],
   "source": []
  },
  {
   "cell_type": "markdown",
   "id": "136801c1-9b5a-4dfe-90ce-5c8520767d64",
   "metadata": {},
   "source": [
    "## Experiment 2\n",
    " with scaling"
   ]
  },
  {
   "cell_type": "code",
   "execution_count": 65,
   "id": "75fe1e6b-7449-4ee5-bd37-f918d4910c1e",
   "metadata": {},
   "outputs": [],
   "source": [
    "x = df.drop(columns = ['id', 'price', 'city', 'province', 'house_type', 'link'])\n",
    "y = df['price']"
   ]
  },
  {
   "cell_type": "code",
   "execution_count": 66,
   "id": "48caf295-25a0-4969-9271-6be424884640",
   "metadata": {},
   "outputs": [],
   "source": [
    "X_train, X_test, y_train, y_test = train_test_split(x, \n",
    "                                        y, test_size=0.2, random_state=40)"
   ]
  },
  {
   "cell_type": "code",
   "execution_count": 67,
   "id": "3bc8e1ac-24df-4d49-920c-9535ecd00b32",
   "metadata": {},
   "outputs": [],
   "source": [
    "std = StandardScaler()\n",
    "X_train_scaled = std.fit_transform(X_train)\n",
    "X_test_scaled = std.transform(X_test)\n"
   ]
  },
  {
   "cell_type": "code",
   "execution_count": 68,
   "id": "dc831bff-cdde-4f3f-959f-7efa41fb8422",
   "metadata": {},
   "outputs": [
    {
     "data": {
      "text/plain": [
       "34.56998176752917"
      ]
     },
     "execution_count": 68,
     "metadata": {},
     "output_type": "execute_result"
    }
   ],
   "source": [
    "m = LinearRegression()\n",
    "m.fit(X_train_scaled,y_train)\n",
    "m.score(X_test_scaled,y_test) * 100"
   ]
  },
  {
   "cell_type": "code",
   "execution_count": 69,
   "id": "49f360fa-6951-4002-966c-ab79ceab8668",
   "metadata": {},
   "outputs": [
    {
     "data": {
      "text/plain": [
       "402.0570676516582"
      ]
     },
     "execution_count": 69,
     "metadata": {},
     "output_type": "execute_result"
    }
   ],
   "source": [
    "mean_absolute_error(m.predict(X_test_scaled), y_test)"
   ]
  },
  {
   "cell_type": "markdown",
   "id": "1af7291f-399b-4773-8d58-ed3313f7b463",
   "metadata": {},
   "source": [
    "## Experiment 3\n",
    " with polynomial features"
   ]
  },
  {
   "cell_type": "code",
   "execution_count": 70,
   "id": "2996cd75-2a72-4f96-8f5d-d00a285085db",
   "metadata": {},
   "outputs": [],
   "source": [
    "x = df.drop(columns = ['id', 'price', 'city', 'province', 'house_type', 'link'], inplace=False)\n",
    "y = df['price']\n",
    "X_train, X_test, y_train, y_test = train_test_split(x, \n",
    "                                        y, test_size=0.2, random_state=40)"
   ]
  },
  {
   "cell_type": "code",
   "execution_count": 71,
   "id": "7f6ce241-8089-4891-b727-8fd1fd3a8121",
   "metadata": {},
   "outputs": [],
   "source": [
    "poly = PolynomialFeatures(degree=2)\n",
    "X_train_poly = poly.fit_transform(X_train)\n",
    "X_test_poly = poly.transform(X_test)"
   ]
  },
  {
   "cell_type": "code",
   "execution_count": 72,
   "id": "cc423f4b-fe0f-4274-b2bd-f66d5e1a84bc",
   "metadata": {},
   "outputs": [],
   "source": [
    "std = StandardScaler()\n",
    "X_train_scaled = std.fit_transform(X_train_poly)\n",
    "X_test_scaled = std.transform(X_test_poly)"
   ]
  },
  {
   "cell_type": "code",
   "execution_count": 73,
   "id": "0e502990-6180-4019-8eab-3adb4f466bed",
   "metadata": {},
   "outputs": [
    {
     "data": {
      "text/plain": [
       "-3.9044928364439175e+20"
      ]
     },
     "execution_count": 73,
     "metadata": {},
     "output_type": "execute_result"
    }
   ],
   "source": [
    "lr_poly = LinearRegression()\n",
    "lr_poly = lr_poly.fit(X_train_scaled, y_train)\n",
    "lr_poly.score(X_test_scaled,y_test) * 100"
   ]
  },
  {
   "cell_type": "code",
   "execution_count": 74,
   "id": "ae07d345-f69f-40ac-bb58-4c3eecb43c96",
   "metadata": {},
   "outputs": [
    {
     "data": {
      "text/plain": [
       "1.2145100503548034e+16"
      ]
     },
     "execution_count": 74,
     "metadata": {},
     "output_type": "execute_result"
    }
   ],
   "source": [
    "mean_absolute_error(lr_poly.predict(X_test_poly), y_test)"
   ]
  },
  {
   "cell_type": "markdown",
   "id": "9dd95ad2-4a97-49d7-b9ae-f4f75fb5a8ad",
   "metadata": {},
   "source": [
    "## Experiment 4\n",
    " with feature Selection"
   ]
  },
  {
   "cell_type": "code",
   "execution_count": 90,
   "id": "038486d5-213c-4225-ac1b-e1daf91b8309",
   "metadata": {},
   "outputs": [],
   "source": [
    "x = df.drop(columns = ['id', 'price', 'city', 'province', 'house_type', 'link'])\n",
    "y = df['price']\n",
    "#X_train, X_test, y_train, y_test = train_test_split(x, \n",
    "#                                        y, test_size=0.2, random_state=40)"
   ]
  },
  {
   "cell_type": "code",
   "execution_count": 95,
   "id": "175b7299-875d-4648-896a-dd8b2af2ee9a",
   "metadata": {
    "tags": []
   },
   "outputs": [],
   "source": [
    "from sklearn.feature_selection import SelectKBest,f_regression\n",
    "\n",
    "fs = SelectKBest(score_func=f_regression, k=25)\n",
    "\n",
    "X_selected = fs.fit_transform(x, y)\n",
    "\n",
    "\n",
    "cols = fs.get_support(indices=True)"
   ]
  },
  {
   "cell_type": "code",
   "execution_count": 96,
   "id": "b35e92be-4d34-472e-856c-267847e775a7",
   "metadata": {},
   "outputs": [],
   "source": [
    "x = x.iloc[:,cols]\n",
    "y = df['price']\n"
   ]
  },
  {
   "cell_type": "code",
   "execution_count": 97,
   "id": "2bfd84a9-bb5b-48bb-ab91-9dd756787e0b",
   "metadata": {},
   "outputs": [
    {
     "data": {
      "text/plain": [
       "25"
      ]
     },
     "execution_count": 97,
     "metadata": {},
     "output_type": "execute_result"
    }
   ],
   "source": [
    "len(cols)"
   ]
  },
  {
   "cell_type": "code",
   "execution_count": 78,
   "id": "f816dac2-9932-4fa2-8492-fe48336f837a",
   "metadata": {},
   "outputs": [],
   "source": [
    "X_train, X_test, y_train, y_test = train_test_split(x, \n",
    "                                        y, test_size=0.2, random_state=40)"
   ]
  },
  {
   "cell_type": "code",
   "execution_count": 79,
   "id": "4640a0f1-cc78-46d4-b341-e658185644e6",
   "metadata": {},
   "outputs": [
    {
     "data": {
      "text/plain": [
       "33.849609115994596"
      ]
     },
     "execution_count": 79,
     "metadata": {},
     "output_type": "execute_result"
    }
   ],
   "source": [
    "m = LinearRegression()\n",
    "m.fit(X_train,y_train)\n",
    "m.score(X_test,y_test) * 100"
   ]
  },
  {
   "cell_type": "code",
   "execution_count": 80,
   "id": "98afab63-1cff-4378-91f6-3df174bb1179",
   "metadata": {},
   "outputs": [
    {
     "data": {
      "text/plain": [
       "380.841963077402"
      ]
     },
     "execution_count": 80,
     "metadata": {},
     "output_type": "execute_result"
    }
   ],
   "source": [
    "mean_absolute_error(m.predict(X_test), y_test)"
   ]
  },
  {
   "cell_type": "code",
   "execution_count": 81,
   "id": "9279aca1-9e0b-48e8-ba62-73538f3ad3e5",
   "metadata": {},
   "outputs": [
    {
     "data": {
      "text/plain": [
       "(33.849609115994596, 380.841963077402)"
      ]
     },
     "execution_count": 81,
     "metadata": {},
     "output_type": "execute_result"
    }
   ],
   "source": [
    "33.849609115994596, 380.841963077402"
   ]
  },
  {
   "cell_type": "code",
   "execution_count": 82,
   "id": "d52b6f94-2b5c-4ee0-bc10-ffd77022c6fa",
   "metadata": {},
   "outputs": [],
   "source": [
    "#sns.pairplot(df.iloc[:,cols])"
   ]
  },
  {
   "cell_type": "markdown",
   "id": "5efcda8e-27a2-4a37-8b62-613a24aa4383",
   "metadata": {},
   "source": [
    "## Experiment 5\n",
    "with Manual Grid Search for best number of features"
   ]
  },
  {
   "cell_type": "code",
   "execution_count": 83,
   "id": "af616a62-4c18-4594-87cc-e9c167ca4926",
   "metadata": {},
   "outputs": [],
   "source": [
    "x = df.drop(columns = ['id', 'price', 'city', 'province', 'house_type', 'link'])\n",
    "y = df['price']"
   ]
  },
  {
   "cell_type": "code",
   "execution_count": 84,
   "id": "d8d5a6ac-23ad-456d-9267-b6fcce928e52",
   "metadata": {},
   "outputs": [
    {
     "data": {
      "text/plain": [
       "105"
      ]
     },
     "execution_count": 84,
     "metadata": {},
     "output_type": "execute_result"
    }
   ],
   "source": [
    "df.shape[1]"
   ]
  },
  {
   "cell_type": "code",
   "execution_count": 85,
   "id": "2b5de056-ed36-4997-92c3-ca991d09866d",
   "metadata": {
    "collapsed": true,
    "jupyter": {
     "outputs_hidden": true
    },
    "tags": []
   },
   "outputs": [],
   "source": [
    "sz = df.shape[1] -1\n",
    "scores = [0]*(sz-7)\n",
    "mae_error = [0]*(sz-7)\n",
    "num_of_features = [0]*(sz-7)\n",
    "\n",
    "\n",
    "for i in range(1,sz-6):\n",
    "    x = df.drop(columns = ['id', 'price', 'city', 'province', 'house_type', 'link'])\n",
    "    y = df['price']\n",
    "    fs = SelectKBest(score_func=f_regression, k=i)\n",
    "    X_selected = fs.fit_transform(x, y)\n",
    "    cols = fs.get_support(indices=True)\n",
    "    x = x.iloc[:,cols]\n",
    "    y = df['price']\n",
    "    X_train, X_test, y_train, y_test = train_test_split(x, \n",
    "                                            y, test_size=0.2, random_state=40)\n",
    "    m = LinearRegression().fit(X_train,y_train)\n",
    "    scores[i-1] = m.score(X_test,y_test) * 100\n",
    "    mae_error[i-1] = mean_absolute_error(m.predict(X_test), y_test)\n",
    "    num_of_features[i-1] = i\n"
   ]
  },
  {
   "cell_type": "code",
   "execution_count": 86,
   "id": "a29e44cd-0f15-4e9f-9241-a45c7f9f7550",
   "metadata": {},
   "outputs": [
    {
     "data": {
      "text/plain": [
       "36.32524852538283"
      ]
     },
     "execution_count": 86,
     "metadata": {},
     "output_type": "execute_result"
    }
   ],
   "source": [
    "scores[scores.index(max(scores))]"
   ]
  },
  {
   "cell_type": "code",
   "execution_count": 87,
   "id": "b2e87f2d-e56c-4cf3-ab94-9109a611d805",
   "metadata": {},
   "outputs": [
    {
     "data": {
      "text/plain": [
       "62"
      ]
     },
     "execution_count": 87,
     "metadata": {},
     "output_type": "execute_result"
    }
   ],
   "source": [
    "best_score = scores.index(max(scores))\n",
    "best_score"
   ]
  },
  {
   "cell_type": "code",
   "execution_count": 88,
   "id": "d349c01a-c371-4b35-ac19-d16b97634f11",
   "metadata": {},
   "outputs": [
    {
     "data": {
      "text/plain": [
       "4"
      ]
     },
     "execution_count": 88,
     "metadata": {},
     "output_type": "execute_result"
    }
   ],
   "source": [
    "mae_error.index(min(mae_error))"
   ]
  },
  {
   "cell_type": "code",
   "execution_count": 89,
   "id": "e63ec86f-313c-4c4f-a39b-672ec4b36eef",
   "metadata": {},
   "outputs": [
    {
     "name": "stdout",
     "output_type": "stream",
     "text": [
      "356.24414128948195 35.36137989042554\n"
     ]
    }
   ],
   "source": [
    "print(mae_error[4], scores[4])"
   ]
  },
  {
   "cell_type": "code",
   "execution_count": 90,
   "id": "e64c5cfd-5254-4f71-8854-afc77c68c521",
   "metadata": {},
   "outputs": [],
   "source": [
    "#plt.figure(figsize=(15,4));\n",
    "#sns.lineplot(x=num_of_features,y=scores);"
   ]
  },
  {
   "cell_type": "code",
   "execution_count": 91,
   "id": "e954312b-29e5-46f5-bbf3-5cd1aaad9755",
   "metadata": {},
   "outputs": [
    {
     "name": "stdout",
     "output_type": "stream",
     "text": [
      "score 36.032756552371325\n",
      "mae 394.4275967064814\n"
     ]
    }
   ],
   "source": [
    "x = df.drop(columns = ['id', 'price', 'city', 'province', 'house_type', 'link'])\n",
    "y = df['price']\n",
    "fs = SelectKBest(score_func=f_regression, k=best_score)\n",
    "X_selected = fs.fit_transform(x, y)\n",
    "cols = fs.get_support(indices=True)\n",
    "x = x.iloc[:,cols]\n",
    "y = df['price']\n",
    "X_train, X_test, y_train, y_test = train_test_split(x, \n",
    "                                        y, test_size=0.2, random_state=40)\n",
    "\n",
    "m = LinearRegression().fit(X_train,y_train)\n",
    "print('score', m.score(X_test,y_test) * 100)\n",
    "print('mae', mean_absolute_error(m.predict(X_test), y_test))"
   ]
  },
  {
   "cell_type": "code",
   "execution_count": null,
   "id": "4d6a338d-07bc-409e-ba8e-07f8ae44d1a4",
   "metadata": {},
   "outputs": [],
   "source": []
  },
  {
   "cell_type": "markdown",
   "id": "6a83cf99-f888-4b1e-9369-1de1a9d17f13",
   "metadata": {},
   "source": [
    "## Exp 7\n",
    "Ridge and Lasso"
   ]
  },
  {
   "cell_type": "code",
   "execution_count": 92,
   "id": "3bf64262-22be-4d39-a5d9-b911b3d6761c",
   "metadata": {},
   "outputs": [],
   "source": [
    "x = df.drop(columns = ['id', 'price', 'city', 'province', 'house_type', 'link'])\n",
    "y = df['price']\n",
    "fs = SelectKBest(score_func=f_regression, k=best_score)\n",
    "X_selected = fs.fit_transform(x, y)\n",
    "cols = fs.get_support(indices=True)\n",
    "x = x.iloc[:,cols]\n",
    "y = df['price']\n",
    "X_train, X_test, y_train, y_test = train_test_split(x, \n",
    "                                        y, test_size=0.2, random_state=40)"
   ]
  },
  {
   "cell_type": "code",
   "execution_count": 93,
   "id": "8f66a31d-9dbe-4b76-9d56-7bd1a22f153b",
   "metadata": {},
   "outputs": [],
   "source": [
    "alphas = np.linspace(0.001, 1,100)\n",
    "kf = KFold(5, random_state=42, shuffle=True )\n",
    "\n",
    "params = {'alpha':alphas}\n",
    "gs = GridSearchCV(Lasso(), param_grid=params, cv=kf)\n",
    "model = gs.fit(X_train, y_train)"
   ]
  },
  {
   "cell_type": "code",
   "execution_count": 94,
   "id": "3b184376-3adc-424c-ba92-9613c0d03e0a",
   "metadata": {},
   "outputs": [
    {
     "name": "stdout",
     "output_type": "stream",
     "text": [
      "score 36.50024047047358\n",
      "mae 383.2017860980756\n"
     ]
    }
   ],
   "source": [
    "print('score', model.score(X_test,y_test) * 100)\n",
    "print('mae', mean_absolute_error(model.predict(X_test), y_test))"
   ]
  },
  {
   "cell_type": "markdown",
   "id": "ce05cbd5-283c-49bc-8b3f-547794a309dc",
   "metadata": {},
   "source": [
    "# Ridge: \n",
    "    score 36.03332215368384\n",
    "    mae 394.42269327788296\n",
    "\n",
    "# Lasso\n",
    "    score 36.50024047047358\n",
    "    mae 383.2017860980756\n",
    "\n",
    "# Elastic Net\n",
    "    score 36.193263626919794\n",
    "    mae 391.6534938751397\n"
   ]
  },
  {
   "cell_type": "code",
   "execution_count": null,
   "id": "8e0876a7-26e7-4a1e-b79c-cca59f302e13",
   "metadata": {},
   "outputs": [],
   "source": []
  },
  {
   "cell_type": "markdown",
   "id": "acdcaf9c-914c-44ca-aaf2-7ba8fd3f6b70",
   "metadata": {},
   "source": [
    "## Exp 8\n",
    "remove outliers"
   ]
  },
  {
   "cell_type": "code",
   "execution_count": 111,
   "id": "7e0c29ab-4838-41e4-80be-83f4dbc73df6",
   "metadata": {},
   "outputs": [],
   "source": [
    "x = df.drop(columns = ['id', 'price', 'city', 'province', 'house_type', 'link'])\n",
    "y = df['price']\n",
    "#X_train, X_test, y_train, y_test = train_test_split(x, \n",
    "#                                        y, test_size=0.2, random_state=40)"
   ]
  },
  {
   "cell_type": "code",
   "execution_count": 112,
   "id": "e03d1eeb-0cf7-4eaf-a9be-823c7b4d01e3",
   "metadata": {},
   "outputs": [
    {
     "name": "stdout",
     "output_type": "stream",
     "text": [
      "Identified outliers: 28\n",
      "Non-outlier observations: 1836\n"
     ]
    }
   ],
   "source": [
    "from numpy import mean\n",
    "from numpy import std\n",
    "from sklearn.feature_selection import SelectKBest, f_regression\n",
    "data = y\n",
    "\n",
    "data_mean, data_std = mean(y), std(y)\n",
    "# identify outliers\n",
    "cut_off = data_std * 3\n",
    "lower, upper = data_mean - cut_off, data_mean + cut_off\n",
    "# identify outliers\n",
    "outliers = [x for x in data if x < lower or x > upper]\n",
    "print('Identified outliers: %d' % len(outliers))\n",
    "# remove outliers\n",
    "outliers_removed = [x for x in data if x >= lower and x <= upper]\n",
    "print('Non-outlier observations: %d' % len(outliers_removed))"
   ]
  },
  {
   "cell_type": "code",
   "execution_count": 113,
   "id": "8ae34666-dd8a-42ed-bafb-10a05ba6dcdf",
   "metadata": {},
   "outputs": [
    {
     "data": {
      "text/plain": [
       "[449, 464, 466, 470, 495]"
      ]
     },
     "execution_count": 113,
     "metadata": {},
     "output_type": "execute_result"
    }
   ],
   "source": [
    "outliers_index = [i for i,x in zip(data.index, data) if x < lower or x > upper]\n",
    "outliers_index[:5]"
   ]
  },
  {
   "cell_type": "code",
   "execution_count": 114,
   "id": "bed712b6-45a0-4035-926a-f2471367cf97",
   "metadata": {},
   "outputs": [],
   "source": [
    "x_no_outliers = x.drop(index=outliers_index)\n",
    "y_no_outliers = y.drop(index=outliers_index)"
   ]
  },
  {
   "cell_type": "code",
   "execution_count": 115,
   "id": "aa7b35e8-4bbb-43e3-8889-ded25e4ff567",
   "metadata": {},
   "outputs": [
    {
     "name": "stdout",
     "output_type": "stream",
     "text": [
      "(1864, 99) (1836, 99)\n",
      "1864 1836\n"
     ]
    }
   ],
   "source": [
    "print(x.shape, x_no_outliers.shape)\n",
    "print(y.shape[0], y_no_outliers.shape[0])"
   ]
  },
  {
   "cell_type": "code",
   "execution_count": null,
   "id": "d0c13670-8733-4b99-8d4b-a3636fb41ccf",
   "metadata": {},
   "outputs": [],
   "source": []
  },
  {
   "cell_type": "code",
   "execution_count": 116,
   "id": "8a8b83ed-7757-4d0b-88cd-9d7554f58bc4",
   "metadata": {},
   "outputs": [],
   "source": [
    "alphas = np.linspace(0.001, 1,100)\n",
    "kf = KFold(5, random_state=42, shuffle=True )\n",
    "\n",
    "params = {'alpha':alphas}\n",
    "gs = GridSearchCV(ElasticNet(), param_grid=params, cv=kf)\n",
    "model = gs.fit(X_train, y_train)"
   ]
  },
  {
   "cell_type": "code",
   "execution_count": null,
   "id": "12aed0a9-73fa-4b40-b3e3-77169da6fd87",
   "metadata": {},
   "outputs": [],
   "source": []
  },
  {
   "cell_type": "code",
   "execution_count": 117,
   "id": "c9d4b2d5-34a7-4e63-b3d6-e7b4c2486e38",
   "metadata": {},
   "outputs": [],
   "source": [
    "fs = SelectKBest(score_func=f_regression, k=best_score)\n",
    "X_selected = fs.fit_transform(x_no_outliers,  y_no_outliers)\n",
    "cols = fs.get_support(indices=True)\n",
    "x = x.iloc[:,cols]\n",
    "y = df['price']\n",
    "X_train, X_test, y_train, y_test = train_test_split(x_no_outliers,  y_no_outliers\n",
    "                                                    , test_size=0.2, random_state=40)"
   ]
  },
  {
   "cell_type": "code",
   "execution_count": 118,
   "id": "85d5fd65-4305-4e50-b07b-3d4bd4ce555b",
   "metadata": {},
   "outputs": [],
   "source": [
    "alphas = np.linspace(0.001, 1,100)\n",
    "kf = KFold(5, random_state=42, shuffle=True )\n",
    "\n",
    "params = {'alpha':alphas}\n",
    "gs = GridSearchCV(ElasticNet(), param_grid=params, cv=kf)\n",
    "model = gs.fit(X_train, y_train)"
   ]
  },
  {
   "cell_type": "code",
   "execution_count": 119,
   "id": "2053b6db-e82b-427b-ab89-027054f36d97",
   "metadata": {},
   "outputs": [
    {
     "name": "stdout",
     "output_type": "stream",
     "text": [
      "score 45.87381133184274\n",
      "mae 270.78518830541833\n"
     ]
    }
   ],
   "source": [
    "print('score', model.score(X_test,y_test) * 100)\n",
    "print('mae', mean_absolute_error(model.predict(X_test), y_test))"
   ]
  },
  {
   "cell_type": "code",
   "execution_count": 104,
   "id": "7a9916cb-c4e1-4cdf-a6c8-815d78e5a14e",
   "metadata": {},
   "outputs": [
    {
     "data": {
      "text/plain": [
       "62"
      ]
     },
     "execution_count": 104,
     "metadata": {},
     "output_type": "execute_result"
    }
   ],
   "source": [
    "best_score"
   ]
  },
  {
   "cell_type": "code",
   "execution_count": 105,
   "id": "7a234718-7b7f-4fec-95d9-f4d67f1ec561",
   "metadata": {},
   "outputs": [],
   "source": [
    "###########"
   ]
  },
  {
   "cell_type": "code",
   "execution_count": 106,
   "id": "6e4d7032-feb8-48d8-84f8-0ba1ea9c1109",
   "metadata": {},
   "outputs": [
    {
     "data": {
      "text/plain": [
       "2"
      ]
     },
     "execution_count": 106,
     "metadata": {},
     "output_type": "execute_result"
    }
   ],
   "source": [
    "sz = df.shape[1] -1\n",
    "scores = [0]*(sz-7)\n",
    "mae_error = [0]*(sz-7)\n",
    "num_of_features = [0]*(sz-7)\n",
    "\n",
    "\n",
    "for i in range(1,sz-6):\n",
    "    x = x_no_outliers.copy(deep=True)\n",
    "    y = y_no_outliers.copy(deep=True)\n",
    "    fs = SelectKBest(score_func=f_regression, k=i)\n",
    "    X_selected = fs.fit_transform(x, y)\n",
    "    cols = fs.get_support(indices=True)\n",
    "    x = x.iloc[:,cols]\n",
    "    \n",
    "    X_train, X_test, y_train, y_test = train_test_split(x, \n",
    "                                            y, test_size=0.2, random_state=40)\n",
    "    m = LinearRegression().fit(X_train,y_train)\n",
    "    scores[i-1] = m.score(X_test,y_test) * 100\n",
    "    mae_error[i-1] = mean_absolute_error(m.predict(X_test), y_test)\n",
    "    num_of_features[i-1] = i\n",
    "best_score = scores.index(max(scores))\n",
    "best_score"
   ]
  },
  {
   "cell_type": "code",
   "execution_count": 107,
   "id": "8d17268a-5d59-4ba7-9595-4a046048efc9",
   "metadata": {},
   "outputs": [],
   "source": [
    "fs = SelectKBest(score_func=f_regression, k=best_score)\n",
    "X_selected = fs.fit_transform(x_no_outliers,  y_no_outliers)\n",
    "cols = fs.get_support(indices=True)\n",
    "x = x.iloc[:,cols]\n",
    "y = y_no_outliers\n",
    "X_train, X_test, y_train, y_test = train_test_split(x_no_outliers,  y_no_outliers\n",
    "                                                    , test_size=0.2, random_state=40)"
   ]
  },
  {
   "cell_type": "code",
   "execution_count": 108,
   "id": "a900d6eb-678a-40e8-bd31-2e0e39004772",
   "metadata": {},
   "outputs": [],
   "source": [
    "alphas = np.linspace(0.001, 1,100)\n",
    "kf = KFold(5, random_state=42, shuffle=True )\n",
    "\n",
    "params = {'alpha':alphas}\n",
    "gs = GridSearchCV(ElasticNet(), param_grid=params, cv=kf)\n",
    "model = gs.fit(X_train, y_train)"
   ]
  },
  {
   "cell_type": "code",
   "execution_count": 109,
   "id": "66605168-0714-4ae7-80c2-aa1969e165a6",
   "metadata": {},
   "outputs": [
    {
     "name": "stdout",
     "output_type": "stream",
     "text": [
      "score 45.87381133184274\n",
      "mae 270.78518830541833\n"
     ]
    }
   ],
   "source": [
    "print('score', model.score(X_test,y_test) * 100)\n",
    "print('mae', mean_absolute_error(model.predict(X_test), y_test))"
   ]
  },
  {
   "cell_type": "code",
   "execution_count": null,
   "id": "2cf01a71-a8b5-428e-82c3-7b355796f53c",
   "metadata": {},
   "outputs": [],
   "source": []
  },
  {
   "cell_type": "code",
   "execution_count": null,
   "id": "35eb547c-90f8-4c5f-8379-6f8d2f36f747",
   "metadata": {},
   "outputs": [],
   "source": []
  },
  {
   "cell_type": "code",
   "execution_count": null,
   "id": "69dcd95c-6552-4f67-a32e-fc33bf876667",
   "metadata": {},
   "outputs": [],
   "source": []
  },
  {
   "cell_type": "code",
   "execution_count": null,
   "id": "4237d24b-2cd9-4c7b-9955-321ebad1f42d",
   "metadata": {},
   "outputs": [],
   "source": []
  },
  {
   "cell_type": "markdown",
   "id": "fa4d8215-a153-415d-9cbb-3f3cbf9dcdcd",
   "metadata": {},
   "source": [
    "## plot data"
   ]
  },
  {
   "cell_type": "code",
   "execution_count": 583,
   "id": "cb779773-4b3f-42de-851b-a1603adec328",
   "metadata": {},
   "outputs": [
    {
     "data": {
      "text/plain": [
       "<matplotlib.collections.PathCollection at 0x12d81861340>"
      ]
     },
     "execution_count": 583,
     "metadata": {},
     "output_type": "execute_result"
    },
    {
     "data": {
      "image/png": "[encoded data removed]",
      "text/plain": [
       "<Figure size 720x288 with 1 Axes>"
      ]
     },
     "metadata": {
      "needs_background": "light"
     },
     "output_type": "display_data"
    }
   ],
   "source": [
    "plt.figure(figsize=(10,4))\n",
    "plt.scatter(range(y_test.shape[0]), y_test, s=10)\n",
    "plt.scatter(range(y_test.shape[0]),model.predict(X_test),s=10)"
   ]
  },
  {
   "cell_type": "code",
   "execution_count": 584,
   "id": "5eafb1dc-769f-4037-b9ea-2bba554a15dc",
   "metadata": {},
   "outputs": [
    {
     "data": {
      "text/plain": [
       "<matplotlib.collections.PathCollection at 0x12d9b6c6a00>"
      ]
     },
     "execution_count": 584,
     "metadata": {},
     "output_type": "execute_result"
    },
    {
     "data": {
      "image/png": "[encoded data removed]",
      "text/plain": [
       "<Figure size 1080x504 with 1 Axes>"
      ]
     },
     "metadata": {
      "needs_background": "light"
     },
     "output_type": "display_data"
    }
   ],
   "source": [
    "plt.figure(figsize=(15,7))\n",
    "plt.scatter(range(y_train.shape[0]), y_train, s=10)\n",
    "plt.scatter(range(model.predict(X_train).shape[0]),model.predict(X_train),s=10)"
   ]
  },
  {
   "cell_type": "code",
   "execution_count": 521,
   "id": "9f7911e6-000f-4dc4-9f37-c2439d86d05f",
   "metadata": {},
   "outputs": [
    {
     "data": {
      "text/plain": [
       "373"
      ]
     },
     "execution_count": 521,
     "metadata": {},
     "output_type": "execute_result"
    }
   ],
   "source": [
    "range(y_test.shape[0])"
   ]
  },
  {
   "cell_type": "code",
   "execution_count": null,
   "id": "6d62e345-0be7-451b-8356-65f2553f7f8b",
   "metadata": {},
   "outputs": [],
   "source": []
  },
  {
   "cell_type": "code",
   "execution_count": null,
   "id": "e154f27d-34d6-4790-8cdd-8846b9c4626f",
   "metadata": {},
   "outputs": [],
   "source": []
  },
  {
   "cell_type": "code",
   "execution_count": 112,
   "id": "202c906a-1e53-4d0c-88c0-af878d5b004e",
   "metadata": {},
   "outputs": [
    {
     "data": {
      "text/html": [
       "<div>\n",
       "<style scoped>\n",
       "    .dataframe tbody tr th:only-of-type {\n",
       "        vertical-align: middle;\n",
       "    }\n",
       "\n",
       "    .dataframe tbody tr th {\n",
       "        vertical-align: top;\n",
       "    }\n",
       "\n",
       "    .dataframe thead th {\n",
       "        text-align: right;\n",
       "    }\n",
       "</style>\n",
       "<table border=\"1\" class=\"dataframe\">\n",
       "  <thead>\n",
       "    <tr style=\"text-align: right;\">\n",
       "      <th></th>\n",
       "      <th>price</th>\n",
       "    </tr>\n",
       "    <tr>\n",
       "      <th>province</th>\n",
       "      <th></th>\n",
       "    </tr>\n",
       "  </thead>\n",
       "  <tbody>\n",
       "    <tr>\n",
       "      <th>1</th>\n",
       "      <td>796.384615</td>\n",
       "    </tr>\n",
       "    <tr>\n",
       "      <th>2</th>\n",
       "      <td>678.601660</td>\n",
       "    </tr>\n",
       "    <tr>\n",
       "      <th>3</th>\n",
       "      <td>706.963731</td>\n",
       "    </tr>\n",
       "    <tr>\n",
       "      <th>4</th>\n",
       "      <td>552.083916</td>\n",
       "    </tr>\n",
       "    <tr>\n",
       "      <th>5</th>\n",
       "      <td>746.797872</td>\n",
       "    </tr>\n",
       "    <tr>\n",
       "      <th>6</th>\n",
       "      <td>648.982759</td>\n",
       "    </tr>\n",
       "    <tr>\n",
       "      <th>7</th>\n",
       "      <td>768.750000</td>\n",
       "    </tr>\n",
       "    <tr>\n",
       "      <th>8</th>\n",
       "      <td>600.000000</td>\n",
       "    </tr>\n",
       "    <tr>\n",
       "      <th>9</th>\n",
       "      <td>250.000000</td>\n",
       "    </tr>\n",
       "    <tr>\n",
       "      <th>10</th>\n",
       "      <td>85.000000</td>\n",
       "    </tr>\n",
       "  </tbody>\n",
       "</table>\n",
       "</div>"
      ],
      "text/plain": [
       "               price\n",
       "province            \n",
       "1         796.384615\n",
       "2         678.601660\n",
       "3         706.963731\n",
       "4         552.083916\n",
       "5         746.797872\n",
       "6         648.982759\n",
       "7         768.750000\n",
       "8         600.000000\n",
       "9         250.000000\n",
       "10         85.000000"
      ]
     },
     "execution_count": 112,
     "metadata": {},
     "output_type": "execute_result"
    }
   ],
   "source": [
    "df.groupby(['province'])[['price']].mean()"
   ]
  },
  {
   "cell_type": "markdown",
   "id": "d37be598",
   "metadata": {},
   "source": [
    "### Random Forest\n",
    "Same as above but apply random forest. It has teh highset Score "
   ]
  },
  {
   "cell_type": "code",
   "execution_count": 107,
   "id": "804200f3",
   "metadata": {
    "collapsed": true,
    "jupyter": {
     "outputs_hidden": true
    },
    "tags": []
   },
   "outputs": [
    {
     "name": "stdout",
     "output_type": "stream",
     "text": [
      "[ 841.08498213  451.37661189  535.26413618  469.12546392  535.26413618\n",
      "  724.79003154  469.12546392  553.4139353   743.06717535  451.37661189\n",
      "  469.12546392 1541.95448434  451.37661189  469.12546392  469.12546392\n",
      " 1952.90542344  462.1643909  1429.09087454 1345.77368831  543.16110536\n",
      "  451.37661189  451.37661189 1740.0097997   462.1643909   451.37661189\n",
      "  469.12546392  578.40920751  451.37661189  553.4139353   451.37661189\n",
      " 1710.77178034 1677.49302592  495.70177383  451.37661189  451.37661189\n",
      "  451.37661189  458.33768491  458.33768491  451.37661189  451.37661189\n",
      "  546.45286228  462.1643909   469.12546392  458.33768491  458.33768491\n",
      "  451.37661189 2300.57437934  535.26413618 1759.0848113   451.37661189\n",
      " 1505.61041882  451.37661189  469.12546392  469.12546392  469.12546392\n",
      "  451.37661189 1373.71242033  543.88417708  553.4139353   451.37661189\n",
      " 1752.46426732  451.37661189  553.94888437  469.12546392 1837.96072031\n",
      "  451.37661189  546.45286228  469.12546392  451.37661189  535.26413618\n",
      "  451.37661189 1609.38170702 2247.35165958  458.33768491 8412.04095465\n",
      "  451.37661189  451.37661189  495.70177383  458.33768491  477.95292179\n",
      "  451.37661189 1651.10938588  469.12546392  477.95292179  451.37661189\n",
      " 1315.20772585  469.12546392 1791.53007141  469.12546392  553.4139353\n",
      " 1727.03363706  451.37661189 1167.43957949  535.26413618  488.7407008\n",
      "  469.12546392  451.37661189  451.37661189  451.37661189 1345.77368831\n",
      "  495.70177383  451.37661189  553.4139353   451.37661189  451.37661189\n",
      "  484.91399482 1721.96436877  451.37661189  484.91399482  458.33768491\n",
      "  561.84044608 1335.74918831 1739.47211643 1380.72891947  451.37661189\n",
      "  451.37661189  462.1643909   522.83300203  469.12546392  469.12546392\n",
      " 1692.72634941  469.12546392  451.37661189  579.99024521  462.1643909\n",
      "  469.12546392  553.4139353   535.26413618  561.84044608  458.33768491\n",
      "  451.37661189  553.4139353   458.33768491  553.4139353   522.83300203\n",
      "  462.1643909   522.83300203  553.4139353   553.4139353   469.12546392\n",
      "  458.33768491  913.03233339  458.33768491  458.33768491 1922.50796292\n",
      "  451.37661189  495.70177383  624.84634458  477.95292179  451.37661189\n",
      " 1423.29231533  579.99024521  495.70177383  469.12546392  451.37661189\n",
      "  553.94888437  477.95292179  477.95292179  579.99024521  546.45286228\n",
      "  451.37661189  451.37661189  553.94888437 1740.0097997  2176.16750473\n",
      "  458.33768491  451.37661189  642.89177551  598.9314608   451.37661189\n",
      "  451.37661189  553.4139353   458.33768491  553.4139353   543.16110536\n",
      "  451.37661189  451.37661189  477.95292179  732.27939634  451.37661189\n",
      "  553.4139353   458.33768491  469.12546392  451.37661189  469.12546392\n",
      "  579.99024521  458.33768491  469.12546392 1651.10938588  561.84044608\n",
      "  462.1643909   458.33768491  451.37661189  451.37661189  451.37661189\n",
      " 1335.74918831  451.37661189  458.33768491  451.37661189  451.37661189\n",
      "  469.12546392  451.37661189  451.37661189  451.37661189  469.12546392\n",
      " 1427.07988664  469.12546392  495.70177383  451.37661189  458.33768491\n",
      "  631.19931904  451.37661189  477.95292179  488.7407008   451.37661189\n",
      "  451.37661189  451.37661189  451.37661189  484.91399482  604.65731616\n",
      "  631.19931904  451.37661189  477.95292179  451.37661189  451.37661189\n",
      "  553.4139353  1740.0097997   451.37661189  458.33768491 1910.52360576\n",
      "  553.94888437  553.4139353   458.33768491  451.37661189  451.37661189\n",
      "  451.37661189 1812.580489    535.26413618  451.37661189 1780.44609938\n",
      "  451.37661189  458.33768491  462.1643909   535.26413618  451.37661189\n",
      "  451.37661189 1363.56295718  451.37661189  458.33768491 1852.12895615\n",
      "  604.65731616  469.12546392  469.12546392 2247.35165958  657.77562894\n",
      "  451.37661189  451.37661189 1592.48894255 1231.77577209  451.37661189\n",
      "  469.12546392 1423.29231533  451.37661189 1529.50695911  451.37661189\n",
      "  451.37661189  451.37661189  451.37661189  451.37661189  451.37661189\n",
      "  765.93041387  462.1643909   458.33768491  451.37661189 1801.62492943\n",
      "  451.37661189 1552.04404977  469.12546392  579.99024521 1823.87958524\n",
      "  805.89738924 1396.71308296 1838.63817738  773.9513448   495.70177383\n",
      "  805.89738924  477.95292179  469.12546392 1185.48501042  477.95292179\n",
      "  477.95292179 1477.74337537  451.37661189  451.37661189  553.94888437\n",
      "  763.16356579  469.12546392  451.37661189  553.94888437  451.37661189\n",
      "  553.4139353   451.37661189 1149.23913496  898.81687884  451.37661189\n",
      "  458.33768491  535.26413618  488.7407008   503.85521041 1775.49688303\n",
      "  451.37661189 1585.06727831  451.37661189  451.37661189  458.33768491\n",
      "  451.37661189 1879.60686239 1427.07988664  469.12546392  469.12546392\n",
      "  543.16110536  451.37661189  469.12546392  451.37661189  451.37661189\n",
      "  462.1643909   451.37661189  553.4139353   535.26413618  451.37661189\n",
      "  451.37661189  451.37661189  469.12546392  451.37661189  451.37661189\n",
      "  451.37661189  451.37661189 1506.98139473  535.26413618  543.16110536\n",
      "  458.33768491  469.12546392  451.37661189 1396.21478437  451.37661189\n",
      " 1115.10177539  488.7407008   451.37661189  458.33768491  458.33768491\n",
      "  451.37661189  451.37661189  451.37661189  458.33768491  469.12546392\n",
      "  469.12546392 1525.69262761  469.12546392  488.7407008   495.70177383\n",
      "  451.37661189  469.12546392  451.37661189  451.37661189  469.12546392\n",
      "  451.37661189  458.33768491  458.33768491  451.37661189  451.37661189\n",
      "  477.95292179  509.58106577  495.70177383]\n"
     ]
    }
   ],
   "source": [
    "from sklearn.ensemble import RandomForestRegressor\n",
    "\n",
    "regr = RandomForestRegressor(max_depth=2, random_state=0)\n",
    "regr.fit(X_test, y_test)\n",
    "print(regr.predict(X_test))"
   ]
  },
  {
   "cell_type": "code",
   "execution_count": 108,
   "id": "88395a22-2893-43b4-93e6-c4c1b4adc251",
   "metadata": {},
   "outputs": [],
   "source": [
    "x = df.drop(columns = ['id', 'price', 'city', 'province', 'house_type', 'link'])\n",
    "y = df['price']"
   ]
  },
  {
   "cell_type": "code",
   "execution_count": 123,
   "id": "e4b852c1",
   "metadata": {},
   "outputs": [
    {
     "name": "stdout",
     "output_type": "stream",
     "text": [
      "47.1229479760376 273.8507774076993\n"
     ]
    }
   ],
   "source": [
    "\n",
    "model = LinearRegression()\n",
    "#X_train, X_test, y_train, y_test = train_test_split(x, \n",
    "#                                        y, test_size=0.2, random_state=40)\n",
    "m = RandomForestRegressor(max_depth=2, random_state=0).fit(X_train, y_train)\n",
    "\n",
    "y_pred = m.predict(X_test)\n",
    "print(m.score(X_test, y_test) * 100, mean_absolute_error(y_pred, y_test))\n"
   ]
  },
  {
   "cell_type": "code",
   "execution_count": null,
   "id": "8e03df0e",
   "metadata": {},
   "outputs": [],
   "source": []
  }
 ],
 "metadata": {
  "kernelspec": {
   "display_name": "Python 3 (ipykernel)",
   "language": "python",
   "name": "python3"
  },
  "language_info": {
   "codemirror_mode": {
    "name": "ipython",
    "version": 3
   },
   "file_extension": ".py",
   "mimetype": "text/x-python",
   "name": "python",
   "nbconvert_exporter": "python",
   "pygments_lexer": "ipython3",
   "version": "3.8.11"
  }
 },
 "nbformat": 4,
 "nbformat_minor": 5
}
