{
 "cells": [
  {
   "cell_type": "code",
   "execution_count": 124,
   "id": "24de3b37-98d5-4213-9cd3-b382385830d9",
   "metadata": {},
   "outputs": [],
   "source": [
    "import pandas as pd\n",
    "import numpy as np\n",
    "import seaborn as sns"
   ]
  },
  {
   "cell_type": "code",
   "execution_count": 125,
   "id": "12cdc267-c56a-42a0-9b6e-76b2063b20b8",
   "metadata": {},
   "outputs": [],
   "source": [
    "from sklearn.datasets import make_regression\n",
    "from sklearn.linear_model import LinearRegression\n",
    "import matplotlib.pyplot as plt"
   ]
  },
  {
   "cell_type": "code",
   "execution_count": 126,
   "id": "ac7a39cc-6258-4f50-94cb-776cd9c52a61",
   "metadata": {},
   "outputs": [],
   "source": [
    "df = pd.read_csv('cleaned_v5.csv', index_col=0)"
   ]
  },
  {
   "cell_type": "code",
   "execution_count": 127,
   "id": "d3513e7e-d304-4b6d-b84d-370112bb1682",
   "metadata": {},
   "outputs": [
    {
     "data": {
      "text/html": [
       "<div>\n",
       "<style scoped>\n",
       "    .dataframe tbody tr th:only-of-type {\n",
       "        vertical-align: middle;\n",
       "    }\n",
       "\n",
       "    .dataframe tbody tr th {\n",
       "        vertical-align: top;\n",
       "    }\n",
       "\n",
       "    .dataframe thead th {\n",
       "        text-align: right;\n",
       "    }\n",
       "</style>\n",
       "<table border=\"1\" class=\"dataframe\">\n",
       "  <thead>\n",
       "    <tr style=\"text-align: right;\">\n",
       "      <th></th>\n",
       "      <th>rating</th>\n",
       "      <th>city</th>\n",
       "      <th>province</th>\n",
       "      <th>superhost</th>\n",
       "      <th>price</th>\n",
       "      <th>house_type</th>\n",
       "      <th>link</th>\n",
       "      <th>Hangers</th>\n",
       "      <th>Bed linens</th>\n",
       "      <th>Extra pillows and blankets</th>\n",
       "      <th>...</th>\n",
       "      <th>game console</th>\n",
       "      <th>guest_num</th>\n",
       "      <th>bath_num</th>\n",
       "      <th>id</th>\n",
       "      <th>pool</th>\n",
       "      <th>backyard</th>\n",
       "      <th>free carport</th>\n",
       "      <th>ski-in</th>\n",
       "      <th>beach access</th>\n",
       "      <th>balcony</th>\n",
       "    </tr>\n",
       "    <tr>\n",
       "      <th>index</th>\n",
       "      <th></th>\n",
       "      <th></th>\n",
       "      <th></th>\n",
       "      <th></th>\n",
       "      <th></th>\n",
       "      <th></th>\n",
       "      <th></th>\n",
       "      <th></th>\n",
       "      <th></th>\n",
       "      <th></th>\n",
       "      <th></th>\n",
       "      <th></th>\n",
       "      <th></th>\n",
       "      <th></th>\n",
       "      <th></th>\n",
       "      <th></th>\n",
       "      <th></th>\n",
       "      <th></th>\n",
       "      <th></th>\n",
       "      <th></th>\n",
       "      <th></th>\n",
       "    </tr>\n",
       "  </thead>\n",
       "  <tbody>\n",
       "    <tr>\n",
       "      <th>0</th>\n",
       "      <td>0.0</td>\n",
       "      <td>buraydah</td>\n",
       "      <td>AlQassim</td>\n",
       "      <td>0.0</td>\n",
       "      <td>1100</td>\n",
       "      <td>Earth house</td>\n",
       "      <td>https://www.airbnb.com/rooms/44085675?previous...</td>\n",
       "      <td>1</td>\n",
       "      <td>1</td>\n",
       "      <td>1</td>\n",
       "      <td>...</td>\n",
       "      <td>1</td>\n",
       "      <td>10</td>\n",
       "      <td>3.0</td>\n",
       "      <td>0.0BuraydahAlQassimFalse1100.0Earth house</td>\n",
       "      <td>0</td>\n",
       "      <td>1</td>\n",
       "      <td>0</td>\n",
       "      <td>0</td>\n",
       "      <td>0</td>\n",
       "      <td>1</td>\n",
       "    </tr>\n",
       "    <tr>\n",
       "      <th>1</th>\n",
       "      <td>0.0</td>\n",
       "      <td>buraydah</td>\n",
       "      <td>AlQassim</td>\n",
       "      <td>0.0</td>\n",
       "      <td>2200</td>\n",
       "      <td>Entire chalet</td>\n",
       "      <td>https://www.airbnb.com/rooms/19854001?previous...</td>\n",
       "      <td>1</td>\n",
       "      <td>0</td>\n",
       "      <td>0</td>\n",
       "      <td>...</td>\n",
       "      <td>0</td>\n",
       "      <td>4</td>\n",
       "      <td>4.0</td>\n",
       "      <td>0.0BuraydahAlQassimFalse2200.0Entire chalet</td>\n",
       "      <td>1</td>\n",
       "      <td>0</td>\n",
       "      <td>0</td>\n",
       "      <td>0</td>\n",
       "      <td>0</td>\n",
       "      <td>0</td>\n",
       "    </tr>\n",
       "    <tr>\n",
       "      <th>2</th>\n",
       "      <td>0.0</td>\n",
       "      <td>buraydah</td>\n",
       "      <td>AlQassim</td>\n",
       "      <td>0.0</td>\n",
       "      <td>400</td>\n",
       "      <td>Shared room in chalet</td>\n",
       "      <td>https://www.airbnb.com/rooms/37763947?previous...</td>\n",
       "      <td>1</td>\n",
       "      <td>0</td>\n",
       "      <td>0</td>\n",
       "      <td>...</td>\n",
       "      <td>0</td>\n",
       "      <td>16</td>\n",
       "      <td>4.5</td>\n",
       "      <td>0.0BuraydahAlQassimFalse400.0Shared room in ch...</td>\n",
       "      <td>1</td>\n",
       "      <td>0</td>\n",
       "      <td>0</td>\n",
       "      <td>0</td>\n",
       "      <td>0</td>\n",
       "      <td>0</td>\n",
       "    </tr>\n",
       "    <tr>\n",
       "      <th>3</th>\n",
       "      <td>0.0</td>\n",
       "      <td>buraydah</td>\n",
       "      <td>AlQassim</td>\n",
       "      <td>0.0</td>\n",
       "      <td>550</td>\n",
       "      <td>Private room in resort</td>\n",
       "      <td>https://www.airbnb.com/rooms/44031535?previous...</td>\n",
       "      <td>1</td>\n",
       "      <td>1</td>\n",
       "      <td>1</td>\n",
       "      <td>...</td>\n",
       "      <td>0</td>\n",
       "      <td>5</td>\n",
       "      <td>2.0</td>\n",
       "      <td>0.0BuraydahAlQassimFalse550.0Private room in r...</td>\n",
       "      <td>1</td>\n",
       "      <td>0</td>\n",
       "      <td>0</td>\n",
       "      <td>0</td>\n",
       "      <td>0</td>\n",
       "      <td>0</td>\n",
       "    </tr>\n",
       "    <tr>\n",
       "      <th>4</th>\n",
       "      <td>0.0</td>\n",
       "      <td>buraydah</td>\n",
       "      <td>AlQassim</td>\n",
       "      <td>0.0</td>\n",
       "      <td>2500</td>\n",
       "      <td>Entire villa</td>\n",
       "      <td>https://www.airbnb.com/rooms/35754885?previous...</td>\n",
       "      <td>1</td>\n",
       "      <td>0</td>\n",
       "      <td>0</td>\n",
       "      <td>...</td>\n",
       "      <td>0</td>\n",
       "      <td>7</td>\n",
       "      <td>3.0</td>\n",
       "      <td>0.0BuraydahAlQassimFalse2500.0Entire villa</td>\n",
       "      <td>1</td>\n",
       "      <td>0</td>\n",
       "      <td>0</td>\n",
       "      <td>0</td>\n",
       "      <td>0</td>\n",
       "      <td>0</td>\n",
       "    </tr>\n",
       "  </tbody>\n",
       "</table>\n",
       "<p>5 rows × 144 columns</p>\n",
       "</div>"
      ],
      "text/plain": [
       "       rating      city  province  superhost  price              house_type  \\\n",
       "index                                                                         \n",
       "0         0.0  buraydah  AlQassim        0.0   1100             Earth house   \n",
       "1         0.0  buraydah  AlQassim        0.0   2200           Entire chalet   \n",
       "2         0.0  buraydah  AlQassim        0.0    400   Shared room in chalet   \n",
       "3         0.0  buraydah  AlQassim        0.0    550  Private room in resort   \n",
       "4         0.0  buraydah  AlQassim        0.0   2500            Entire villa   \n",
       "\n",
       "                                                    link  Hangers  Bed linens  \\\n",
       "index                                                                           \n",
       "0      https://www.airbnb.com/rooms/44085675?previous...        1           1   \n",
       "1      https://www.airbnb.com/rooms/19854001?previous...        1           0   \n",
       "2      https://www.airbnb.com/rooms/37763947?previous...        1           0   \n",
       "3      https://www.airbnb.com/rooms/44031535?previous...        1           1   \n",
       "4      https://www.airbnb.com/rooms/35754885?previous...        1           0   \n",
       "\n",
       "       Extra pillows and blankets  ...  game console  guest_num  bath_num  \\\n",
       "index                              ...                                      \n",
       "0                               1  ...             1         10       3.0   \n",
       "1                               0  ...             0          4       4.0   \n",
       "2                               0  ...             0         16       4.5   \n",
       "3                               1  ...             0          5       2.0   \n",
       "4                               0  ...             0          7       3.0   \n",
       "\n",
       "                                                      id  pool  backyard  \\\n",
       "index                                                                      \n",
       "0              0.0BuraydahAlQassimFalse1100.0Earth house     0         1   \n",
       "1            0.0BuraydahAlQassimFalse2200.0Entire chalet     1         0   \n",
       "2      0.0BuraydahAlQassimFalse400.0Shared room in ch...     1         0   \n",
       "3      0.0BuraydahAlQassimFalse550.0Private room in r...     1         0   \n",
       "4             0.0BuraydahAlQassimFalse2500.0Entire villa     1         0   \n",
       "\n",
       "       free carport  ski-in  beach access  balcony  \n",
       "index                                               \n",
       "0                 0       0             0        1  \n",
       "1                 0       0             0        0  \n",
       "2                 0       0             0        0  \n",
       "3                 0       0             0        0  \n",
       "4                 0       0             0        0  \n",
       "\n",
       "[5 rows x 144 columns]"
      ]
     },
     "execution_count": 127,
     "metadata": {},
     "output_type": "execute_result"
    }
   ],
   "source": [
    "df.head()"
   ]
  },
  {
   "cell_type": "code",
   "execution_count": null,
   "id": "b2873057-98ca-4d99-b924-fee6a199df44",
   "metadata": {},
   "outputs": [],
   "source": []
  },
  {
   "cell_type": "code",
   "execution_count": 5,
   "id": "353e0f68-42f6-4cae-9708-e8fd41f7a970",
   "metadata": {},
   "outputs": [],
   "source": [
    "test = df[df.rating != 0]"
   ]
  },
  {
   "cell_type": "markdown",
   "id": "fc654c7e-0519-4cfa-921a-f9b609988dfa",
   "metadata": {},
   "source": [
    "## Problem:\n",
    "province has some errors"
   ]
  },
  {
   "cell_type": "code",
   "execution_count": 128,
   "id": "a95018fc-85c8-48ec-8fc0-239451a5b785",
   "metadata": {},
   "outputs": [
    {
     "data": {
      "text/plain": [
       "province\n",
       "Mecca          503947\n",
       "Riyadh         489244\n",
       "Eastern        136194\n",
       "Medina          78948\n",
       "Asir            70199\n",
       "AlQassim        37641\n",
       "Tabuk            8793\n",
       "SaudiArabia      5167\n",
       "Ha'il             600\n",
       "Al Bahah          500\n",
       "West              250\n",
       "Jizan              85\n",
       "Name: price, dtype: int64"
      ]
     },
     "execution_count": 128,
     "metadata": {},
     "output_type": "execute_result"
    }
   ],
   "source": [
    "df.groupby(['province'])['price'].sum().sort_values()[::-1]\n",
    "\n"
   ]
  },
  {
   "cell_type": "code",
   "execution_count": 129,
   "id": "7731451b-0a15-482b-9437-bf2e6f8c027c",
   "metadata": {},
   "outputs": [],
   "source": [
    "to_modifiy = ['SaudiArabia',\n",
    "             'West']"
   ]
  },
  {
   "cell_type": "code",
   "execution_count": 130,
   "id": "f9b7d300-89eb-481b-8c4c-4848b5f73982",
   "metadata": {},
   "outputs": [
    {
     "data": {
      "text/plain": [
       "index\n",
       "446     https://www.airbnb.com/rooms/32981610?previous...\n",
       "642     https://www.airbnb.com/rooms/40233658?previous...\n",
       "1080    https://www.airbnb.com/rooms/31290673?previous...\n",
       "1147    https://www.airbnb.com/rooms/52120401?previous...\n",
       "1148    https://www.airbnb.com/rooms/52044809?previous...\n",
       "1337    https://www.airbnb.com/rooms/30261396?previous...\n",
       "1358    https://www.airbnb.com/rooms/32461582?previous...\n",
       "1545    https://www.airbnb.com/rooms/48231186?previous...\n",
       "1635    https://www.airbnb.com/rooms/48744340?previous...\n",
       "1652    https://www.airbnb.com/rooms/38116013?previous...\n",
       "1716    https://www.airbnb.com/rooms/37942037?previous...\n",
       "1858    https://www.airbnb.com/rooms/49905128?previous...\n",
       "Name: link, dtype: object"
      ]
     },
     "execution_count": 130,
     "metadata": {},
     "output_type": "execute_result"
    }
   ],
   "source": [
    "df[df['province']  == to_modifiy[0]]['link']"
   ]
  },
  {
   "cell_type": "code",
   "execution_count": 131,
   "id": "db860d0b-3dac-491c-82f8-72b8a361c2d2",
   "metadata": {},
   "outputs": [],
   "source": [
    "df.loc[446      ,'province'] = 'Eastern'"
   ]
  },
  {
   "cell_type": "code",
   "execution_count": 132,
   "id": "82be44a8-d0d2-4904-8452-6cdeb14a8d3f",
   "metadata": {},
   "outputs": [],
   "source": [
    "df.loc[642      ,'province'] = 'Riyadh'"
   ]
  },
  {
   "cell_type": "code",
   "execution_count": 133,
   "id": "5be1f0cc-72dd-453f-aeb8-ddfad0981fc6",
   "metadata": {},
   "outputs": [],
   "source": [
    "df.loc[1080      ,'province'] = 'Mecca'"
   ]
  },
  {
   "cell_type": "code",
   "execution_count": 134,
   "id": "0ea4563d-d02e-4bf4-93c5-1661a4ba90b1",
   "metadata": {},
   "outputs": [],
   "source": [
    "df.loc[1147      ,'province'] = 'Mecca'"
   ]
  },
  {
   "cell_type": "code",
   "execution_count": 135,
   "id": "12e2656e-0436-49c8-b3c3-24d5c06b5665",
   "metadata": {},
   "outputs": [],
   "source": [
    "df.loc[1148      ,'province'] = 'Mecca'"
   ]
  },
  {
   "cell_type": "code",
   "execution_count": 136,
   "id": "741b8ce4-2ed9-4574-b4ea-ad31f76bdb4e",
   "metadata": {},
   "outputs": [],
   "source": [
    "df.loc[1337      ,'province'] = 'Mecca'"
   ]
  },
  {
   "cell_type": "code",
   "execution_count": 137,
   "id": "36495f2d-485e-4115-ab34-1f33e44889ee",
   "metadata": {},
   "outputs": [],
   "source": [
    "df.loc[1358      ,'province'] = 'Mecca'"
   ]
  },
  {
   "cell_type": "code",
   "execution_count": 138,
   "id": "59a50235-f744-4f6d-a4c9-02bcc2de7def",
   "metadata": {},
   "outputs": [],
   "source": [
    "df.loc[1635      ,'province'] = 'Riyadh'"
   ]
  },
  {
   "cell_type": "code",
   "execution_count": 139,
   "id": "7bd8ebf0-fa8f-4bbe-9a3a-57873ce2fdfa",
   "metadata": {},
   "outputs": [],
   "source": [
    "df.loc[1545      ,'province'] = 'Riyadh'"
   ]
  },
  {
   "cell_type": "code",
   "execution_count": 140,
   "id": "4ff816de-721f-4c9a-8192-ad358c8f64d4",
   "metadata": {},
   "outputs": [],
   "source": [
    "df.loc[1652      ,'province'] = 'Riyadh'"
   ]
  },
  {
   "cell_type": "code",
   "execution_count": 141,
   "id": "ffd91578-5711-42d6-81ff-0a706340b391",
   "metadata": {},
   "outputs": [],
   "source": [
    "df.loc[1716      ,'province'] = 'Riyadh'"
   ]
  },
  {
   "cell_type": "code",
   "execution_count": 142,
   "id": "060004ec-8b91-4a49-a303-0e5a5584aab4",
   "metadata": {},
   "outputs": [],
   "source": [
    "df.loc[1858      ,'province'] = 'Tabuk'"
   ]
  },
  {
   "cell_type": "code",
   "execution_count": 143,
   "id": "abe71710-36ed-4fcc-92af-88334061e4bb",
   "metadata": {},
   "outputs": [
    {
     "data": {
      "text/plain": [
       "province\n",
       "Mecca       507047\n",
       "Riyadh      490629\n",
       "Eastern     136444\n",
       "Medina       78948\n",
       "Asir         70199\n",
       "AlQassim     37641\n",
       "Tabuk         9225\n",
       "Ha'il          600\n",
       "Al Bahah       500\n",
       "West           250\n",
       "Jizan           85\n",
       "Name: price, dtype: int64"
      ]
     },
     "execution_count": 143,
     "metadata": {},
     "output_type": "execute_result"
    }
   ],
   "source": [
    "df.groupby(['province'])['price'].sum().sort_values()[::-1]"
   ]
  },
  {
   "cell_type": "code",
   "execution_count": 144,
   "id": "6f40c581-b54f-44a2-9aae-9abc16cda738",
   "metadata": {},
   "outputs": [
    {
     "data": {
      "text/plain": [
       "index\n",
       "851    https://www.airbnb.com/rooms/42831842?previous...\n",
       "Name: link, dtype: object"
      ]
     },
     "execution_count": 144,
     "metadata": {},
     "output_type": "execute_result"
    }
   ],
   "source": [
    "df[df['province']  == to_modifiy[1]]['link']"
   ]
  },
  {
   "cell_type": "code",
   "execution_count": 145,
   "id": "67246ef3-cc71-4136-8e7d-803431f33cd2",
   "metadata": {},
   "outputs": [],
   "source": [
    "df.loc[851    ,'province'] = 'Mecca'"
   ]
  },
  {
   "cell_type": "code",
   "execution_count": 146,
   "id": "8af02374-8421-4c99-98f0-c21b3740b851",
   "metadata": {},
   "outputs": [
    {
     "data": {
      "text/plain": [
       "province\n",
       "Riyadh      723\n",
       "Mecca       637\n",
       "Eastern     193\n",
       "Medina      143\n",
       "Asir         94\n",
       "AlQassim     58\n",
       "Tabuk        12\n",
       "Al Bahah      2\n",
       "Jizan         1\n",
       "Ha'il         1\n",
       "Name: price, dtype: int64"
      ]
     },
     "execution_count": 146,
     "metadata": {},
     "output_type": "execute_result"
    }
   ],
   "source": [
    "df.groupby(['province'])['price'].count().sort_values()[::-1]"
   ]
  },
  {
   "cell_type": "code",
   "execution_count": 147,
   "id": "73d9dc5a-d5d1-436b-8cb0-a9bc77cc26f4",
   "metadata": {},
   "outputs": [],
   "source": [
    "prov = {\n",
    "'Mecca':1,\n",
    "'Riyadh':2,\n",
    "'Eastern':3,\n",
    "'Medina':4,\n",
    "'Asir':5,\n",
    "'AlQassim':6,\n",
    "'Tabuk':7,\n",
    "'Ha\\'il':8  ,\n",
    "'Al Bahah':9 ,\n",
    "'Jizan':10} "
   ]
  },
  {
   "cell_type": "code",
   "execution_count": null,
   "id": "615593da-7e05-436a-89c2-f5ae69c02555",
   "metadata": {},
   "outputs": [],
   "source": []
  },
  {
   "cell_type": "code",
   "execution_count": 148,
   "id": "3bd35597-62b7-4ec9-a6e6-70303f1dd728",
   "metadata": {},
   "outputs": [],
   "source": [
    "df['province'].replace(prov, inplace=True)"
   ]
  },
  {
   "cell_type": "code",
   "execution_count": 149,
   "id": "8f1b1059-a4bb-49c4-833d-d9fa684d2341",
   "metadata": {},
   "outputs": [
    {
     "data": {
      "text/plain": [
       "province\n",
       "2     723\n",
       "1     637\n",
       "3     193\n",
       "4     143\n",
       "5      94\n",
       "6      58\n",
       "7      12\n",
       "9       2\n",
       "10      1\n",
       "8       1\n",
       "Name: price, dtype: int64"
      ]
     },
     "execution_count": 149,
     "metadata": {},
     "output_type": "execute_result"
    }
   ],
   "source": [
    "df.groupby(['province'])['price'].count().sort_values()[::-1]"
   ]
  },
  {
   "cell_type": "code",
   "execution_count": 213,
   "id": "7ee1d1b2-89b1-47e9-b9c5-b2be8c711710",
   "metadata": {
    "tags": []
   },
   "outputs": [
    {
     "name": "stdout",
     "output_type": "stream",
     "text": [
      "<class 'pandas.core.frame.DataFrame'>\n",
      "Int64Index: 1864 entries, 0 to 1863\n",
      "Data columns (total 124 columns):\n",
      " #    Column                            Non-Null Count  Dtype  \n",
      "---   ------                            --------------  -----  \n",
      " 0    rating                            1864 non-null   float64\n",
      " 1    city                              1864 non-null   object \n",
      " 2    province                          1864 non-null   int64  \n",
      " 3    superhost                         1864 non-null   float64\n",
      " 4    price                             1864 non-null   int64  \n",
      " 5    house_type                        1864 non-null   object \n",
      " 6    link                              1864 non-null   object \n",
      " 7    Room-darkening shades             1864 non-null   int64  \n",
      " 8    Suitable for events               1864 non-null   int64  \n",
      " 9    Window guards                     1864 non-null   int64  \n",
      " 10   Smoke alarm                       1864 non-null   int64  \n",
      " 11   Carbon monoxide alarm             1864 non-null   int64  \n",
      " 12   Microwave                         1864 non-null   int64  \n",
      " 13   Cooking basics                    1864 non-null   int64  \n",
      " 14   Private entrance                  1864 non-null   int64  \n",
      " 15   Pets allowed                      1864 non-null   int64  \n",
      " 16   Smoking allowed                   1864 non-null   int64  \n",
      " 17   Long term stays allowed           1864 non-null   int64  \n",
      " 18   Security cameras on property      1864 non-null   int64  \n",
      " 19   Iron                              1864 non-null   int64  \n",
      " 20   Breakfast                         1864 non-null   int64  \n",
      " 21   Essentials                        1864 non-null   int64  \n",
      " 22   Fire extinguisher                 1864 non-null   int64  \n",
      " 23   Lock on bedroom door              1864 non-null   int64  \n",
      " 24   First aid kit                     1864 non-null   int64  \n",
      " 25   Hot tub                           1864 non-null   int64  \n",
      " 26   Private living room               1864 non-null   int64  \n",
      " 27   Host greets you                   1864 non-null   int64  \n",
      " 28   Fire pit                          1864 non-null   int64  \n",
      " 29   Outdoor dining area               1864 non-null   int64  \n",
      " 30   Self check-in                     1864 non-null   int64  \n",
      " 31   Lockbox                           1864 non-null   int64  \n",
      " 32   Outdoor shower                    1864 non-null   int64  \n",
      " 33   Outdoor furniture                 1864 non-null   int64  \n",
      " 34   Cleaning before checkout          1864 non-null   int64  \n",
      " 35   Safe                              1864 non-null   int64  \n",
      " 36   Mini fridge                       1864 non-null   int64  \n",
      " 37   Luggage dropoff allowed           1864 non-null   int64  \n",
      " 38   Elevator                          1864 non-null   int64  \n",
      " 39   Trash compactor                   1864 non-null   int64  \n",
      " 40   Ceiling fan                       1864 non-null   int64  \n",
      " 41   Freezer                           1864 non-null   int64  \n",
      " 42   Laundromat nearby                 1864 non-null   int64  \n",
      " 43   Smart lock                        1864 non-null   int64  \n",
      " 44   Dining table                      1864 non-null   int64  \n",
      " 45   Cleaning products                 1864 non-null   int64  \n",
      " 46   Shower gel                        1864 non-null   int64  \n",
      " 47   Ethernet connection               1864 non-null   int64  \n",
      " 48   Rice maker                        1864 non-null   int64  \n",
      " 49   Bread maker                       1864 non-null   int64  \n",
      " 50   EV charger                        1864 non-null   int64  \n",
      " 51   Mosquito net                      1864 non-null   int64  \n",
      " 52   Outlet covers                     1864 non-null   int64  \n",
      " 53   Table corner guards               1864 non-null   int64  \n",
      " 54   Private hot tub                   1864 non-null   int64  \n",
      " 55   Paid street parking off premises  1864 non-null   int64  \n",
      " 56   Single level home                 1864 non-null   int64  \n",
      " 57   Bathtub                           1864 non-null   int64  \n",
      " 58   Blender                           1864 non-null   int64  \n",
      " 59   Books and reading material        1864 non-null   int64  \n",
      " 60   Portable heater                   1864 non-null   int64  \n",
      " 61   Building staff                    1864 non-null   int64  \n",
      " 62   Baking sheet                      1864 non-null   int64  \n",
      " 63   Waterfront                        1864 non-null   int64  \n",
      " 64   Wine glasses                      1864 non-null   int64  \n",
      " 65   Record player                     1864 non-null   int64  \n",
      " 66   Lake access                       1864 non-null   int64  \n",
      " 67   Keypad                            1864 non-null   int64  \n",
      " 68   Portable fans                     1864 non-null   int64  \n",
      " 69   Bikes                             1864 non-null   int64  \n",
      " 70   Resort access                     1864 non-null   int64  \n",
      " 71   Toaster                           1864 non-null   int64  \n",
      " 72   Shared hot tub                    1864 non-null   int64  \n",
      " 73   Window AC unit                    1864 non-null   int64  \n",
      " 74   Piano                             1864 non-null   int64  \n",
      " 75   Fireplace guards                  1864 non-null   int64  \n",
      " 76   Board games                       1864 non-null   int64  \n",
      " 77   Ping pong table                   1864 non-null   int64  \n",
      " 78   Boat slip                         1864 non-null   int64  \n",
      " 79   Paid resort access                1864 non-null   int64  \n",
      " 80   Hammock                           1864 non-null   int64  \n",
      " 81   Beach essentials                  1864 non-null   int64  \n",
      " 82   Kayak                             1864 non-null   int64  \n",
      " 83   Bed_num                           1864 non-null   int64  \n",
      " 84   bedroom_num                       1864 non-null   int64  \n",
      " 85   tv                                1864 non-null   int64  \n",
      " 86   coffee                            1864 non-null   int64  \n",
      " 87   shampoo                           1864 non-null   int64  \n",
      " 88   soap                              1864 non-null   int64  \n",
      " 89   conditioner                       1864 non-null   int64  \n",
      " 90   dedicated workspace               1864 non-null   int64  \n",
      " 91   stove                             1864 non-null   int64  \n",
      " 92   gym                               1864 non-null   int64  \n",
      " 93   indoor fireplace                  1864 non-null   int64  \n",
      " 94   kitchen                           1864 non-null   int64  \n",
      " 95   wifi                              1864 non-null   int64  \n",
      " 96   clothing storage                  1864 non-null   int64  \n",
      " 97   refrigerator                      1864 non-null   int64  \n",
      " 98   exercise equipment                1864 non-null   int64  \n",
      " 99   paid parking                      1864 non-null   int64  \n",
      " 100  free parking                      1864 non-null   int64  \n",
      " 101  oven                              1864 non-null   int64  \n",
      " 102  washer                            1864 non-null   int64  \n",
      " 103  sound system                      1864 non-null   int64  \n",
      " 104  dryer                             1864 non-null   int64  \n",
      " 105  view                              1864 non-null   int64  \n",
      " 106  air conditioning                  1864 non-null   int64  \n",
      " 107  game console                      1864 non-null   int64  \n",
      " 108  guest_num                         1864 non-null   int64  \n",
      " 109  bath_num                          1864 non-null   float64\n",
      " 110  id                                1864 non-null   object \n",
      " 111  pool                              1864 non-null   int64  \n",
      " 112  backyard                          1864 non-null   int64  \n",
      " 113  ski-in                            1864 non-null   int64  \n",
      " 114  beach access                      1864 non-null   int64  \n",
      " 115  balcony                           1864 non-null   int64  \n",
      " 116  rating_count                      1864 non-null   int64  \n",
      " 117  bbq                               1864 non-null   int64  \n",
      " 118  hot_water                         1864 non-null   int64  \n",
      " 119  child_friendly                    1864 non-null   int64  \n",
      " 120  heating                           1864 non-null   int64  \n",
      " 121  home_utensils                     1864 non-null   int64  \n",
      " 122  mean_per_prov                     1864 non-null   float64\n",
      " 123  sauna                             1864 non-null   int64  \n",
      "dtypes: float64(4), int64(116), object(4)\n",
      "memory usage: 1.8+ MB\n"
     ]
    },
    {
     "name": "stderr",
     "output_type": "stream",
     "text": [
      "C:\\Users\\elaaf\\AppData\\Local\\Temp/ipykernel_20216/2612161665.py:1: FutureWarning: null_counts is deprecated. Use show_counts instead\n",
      "  df.info(verbose=True, null_counts=True)\n"
     ]
    }
   ],
   "source": [
    "df.info(verbose=True, null_counts=True)"
   ]
  },
  {
   "cell_type": "code",
   "execution_count": 151,
   "id": "b88f1e8c-f307-4640-a516-699c7fe4a2a0",
   "metadata": {},
   "outputs": [
    {
     "data": {
      "text/html": [
       "<div>\n",
       "<style scoped>\n",
       "    .dataframe tbody tr th:only-of-type {\n",
       "        vertical-align: middle;\n",
       "    }\n",
       "\n",
       "    .dataframe tbody tr th {\n",
       "        vertical-align: top;\n",
       "    }\n",
       "\n",
       "    .dataframe thead th {\n",
       "        text-align: right;\n",
       "    }\n",
       "</style>\n",
       "<table border=\"1\" class=\"dataframe\">\n",
       "  <thead>\n",
       "    <tr style=\"text-align: right;\">\n",
       "      <th></th>\n",
       "      <th>rating</th>\n",
       "      <th>city</th>\n",
       "      <th>province</th>\n",
       "      <th>superhost</th>\n",
       "      <th>price</th>\n",
       "      <th>house_type</th>\n",
       "      <th>link</th>\n",
       "      <th>Hangers</th>\n",
       "      <th>Bed linens</th>\n",
       "      <th>Extra pillows and blankets</th>\n",
       "      <th>...</th>\n",
       "      <th>game console</th>\n",
       "      <th>guest_num</th>\n",
       "      <th>bath_num</th>\n",
       "      <th>id</th>\n",
       "      <th>pool</th>\n",
       "      <th>backyard</th>\n",
       "      <th>free carport</th>\n",
       "      <th>ski-in</th>\n",
       "      <th>beach access</th>\n",
       "      <th>balcony</th>\n",
       "    </tr>\n",
       "    <tr>\n",
       "      <th>index</th>\n",
       "      <th></th>\n",
       "      <th></th>\n",
       "      <th></th>\n",
       "      <th></th>\n",
       "      <th></th>\n",
       "      <th></th>\n",
       "      <th></th>\n",
       "      <th></th>\n",
       "      <th></th>\n",
       "      <th></th>\n",
       "      <th></th>\n",
       "      <th></th>\n",
       "      <th></th>\n",
       "      <th></th>\n",
       "      <th></th>\n",
       "      <th></th>\n",
       "      <th></th>\n",
       "      <th></th>\n",
       "      <th></th>\n",
       "      <th></th>\n",
       "      <th></th>\n",
       "    </tr>\n",
       "  </thead>\n",
       "  <tbody>\n",
       "    <tr>\n",
       "      <th>0</th>\n",
       "      <td>0.0</td>\n",
       "      <td>buraydah</td>\n",
       "      <td>6</td>\n",
       "      <td>0.0</td>\n",
       "      <td>1100</td>\n",
       "      <td>Earth house</td>\n",
       "      <td>https://www.airbnb.com/rooms/44085675?previous...</td>\n",
       "      <td>1</td>\n",
       "      <td>1</td>\n",
       "      <td>1</td>\n",
       "      <td>...</td>\n",
       "      <td>1</td>\n",
       "      <td>10</td>\n",
       "      <td>3.0</td>\n",
       "      <td>0.0BuraydahAlQassimFalse1100.0Earth house</td>\n",
       "      <td>0</td>\n",
       "      <td>1</td>\n",
       "      <td>0</td>\n",
       "      <td>0</td>\n",
       "      <td>0</td>\n",
       "      <td>1</td>\n",
       "    </tr>\n",
       "    <tr>\n",
       "      <th>1</th>\n",
       "      <td>0.0</td>\n",
       "      <td>buraydah</td>\n",
       "      <td>6</td>\n",
       "      <td>0.0</td>\n",
       "      <td>2200</td>\n",
       "      <td>Entire chalet</td>\n",
       "      <td>https://www.airbnb.com/rooms/19854001?previous...</td>\n",
       "      <td>1</td>\n",
       "      <td>0</td>\n",
       "      <td>0</td>\n",
       "      <td>...</td>\n",
       "      <td>0</td>\n",
       "      <td>4</td>\n",
       "      <td>4.0</td>\n",
       "      <td>0.0BuraydahAlQassimFalse2200.0Entire chalet</td>\n",
       "      <td>1</td>\n",
       "      <td>0</td>\n",
       "      <td>0</td>\n",
       "      <td>0</td>\n",
       "      <td>0</td>\n",
       "      <td>0</td>\n",
       "    </tr>\n",
       "    <tr>\n",
       "      <th>2</th>\n",
       "      <td>0.0</td>\n",
       "      <td>buraydah</td>\n",
       "      <td>6</td>\n",
       "      <td>0.0</td>\n",
       "      <td>400</td>\n",
       "      <td>Shared room in chalet</td>\n",
       "      <td>https://www.airbnb.com/rooms/37763947?previous...</td>\n",
       "      <td>1</td>\n",
       "      <td>0</td>\n",
       "      <td>0</td>\n",
       "      <td>...</td>\n",
       "      <td>0</td>\n",
       "      <td>16</td>\n",
       "      <td>4.5</td>\n",
       "      <td>0.0BuraydahAlQassimFalse400.0Shared room in ch...</td>\n",
       "      <td>1</td>\n",
       "      <td>0</td>\n",
       "      <td>0</td>\n",
       "      <td>0</td>\n",
       "      <td>0</td>\n",
       "      <td>0</td>\n",
       "    </tr>\n",
       "    <tr>\n",
       "      <th>3</th>\n",
       "      <td>0.0</td>\n",
       "      <td>buraydah</td>\n",
       "      <td>6</td>\n",
       "      <td>0.0</td>\n",
       "      <td>550</td>\n",
       "      <td>Private room in resort</td>\n",
       "      <td>https://www.airbnb.com/rooms/44031535?previous...</td>\n",
       "      <td>1</td>\n",
       "      <td>1</td>\n",
       "      <td>1</td>\n",
       "      <td>...</td>\n",
       "      <td>0</td>\n",
       "      <td>5</td>\n",
       "      <td>2.0</td>\n",
       "      <td>0.0BuraydahAlQassimFalse550.0Private room in r...</td>\n",
       "      <td>1</td>\n",
       "      <td>0</td>\n",
       "      <td>0</td>\n",
       "      <td>0</td>\n",
       "      <td>0</td>\n",
       "      <td>0</td>\n",
       "    </tr>\n",
       "    <tr>\n",
       "      <th>4</th>\n",
       "      <td>0.0</td>\n",
       "      <td>buraydah</td>\n",
       "      <td>6</td>\n",
       "      <td>0.0</td>\n",
       "      <td>2500</td>\n",
       "      <td>Entire villa</td>\n",
       "      <td>https://www.airbnb.com/rooms/35754885?previous...</td>\n",
       "      <td>1</td>\n",
       "      <td>0</td>\n",
       "      <td>0</td>\n",
       "      <td>...</td>\n",
       "      <td>0</td>\n",
       "      <td>7</td>\n",
       "      <td>3.0</td>\n",
       "      <td>0.0BuraydahAlQassimFalse2500.0Entire villa</td>\n",
       "      <td>1</td>\n",
       "      <td>0</td>\n",
       "      <td>0</td>\n",
       "      <td>0</td>\n",
       "      <td>0</td>\n",
       "      <td>0</td>\n",
       "    </tr>\n",
       "  </tbody>\n",
       "</table>\n",
       "<p>5 rows × 144 columns</p>\n",
       "</div>"
      ],
      "text/plain": [
       "       rating      city  province  superhost  price              house_type  \\\n",
       "index                                                                         \n",
       "0         0.0  buraydah         6        0.0   1100             Earth house   \n",
       "1         0.0  buraydah         6        0.0   2200           Entire chalet   \n",
       "2         0.0  buraydah         6        0.0    400   Shared room in chalet   \n",
       "3         0.0  buraydah         6        0.0    550  Private room in resort   \n",
       "4         0.0  buraydah         6        0.0   2500            Entire villa   \n",
       "\n",
       "                                                    link  Hangers  Bed linens  \\\n",
       "index                                                                           \n",
       "0      https://www.airbnb.com/rooms/44085675?previous...        1           1   \n",
       "1      https://www.airbnb.com/rooms/19854001?previous...        1           0   \n",
       "2      https://www.airbnb.com/rooms/37763947?previous...        1           0   \n",
       "3      https://www.airbnb.com/rooms/44031535?previous...        1           1   \n",
       "4      https://www.airbnb.com/rooms/35754885?previous...        1           0   \n",
       "\n",
       "       Extra pillows and blankets  ...  game console  guest_num  bath_num  \\\n",
       "index                              ...                                      \n",
       "0                               1  ...             1         10       3.0   \n",
       "1                               0  ...             0          4       4.0   \n",
       "2                               0  ...             0         16       4.5   \n",
       "3                               1  ...             0          5       2.0   \n",
       "4                               0  ...             0          7       3.0   \n",
       "\n",
       "                                                      id  pool  backyard  \\\n",
       "index                                                                      \n",
       "0              0.0BuraydahAlQassimFalse1100.0Earth house     0         1   \n",
       "1            0.0BuraydahAlQassimFalse2200.0Entire chalet     1         0   \n",
       "2      0.0BuraydahAlQassimFalse400.0Shared room in ch...     1         0   \n",
       "3      0.0BuraydahAlQassimFalse550.0Private room in r...     1         0   \n",
       "4             0.0BuraydahAlQassimFalse2500.0Entire villa     1         0   \n",
       "\n",
       "       free carport  ski-in  beach access  balcony  \n",
       "index                                               \n",
       "0                 0       0             0        1  \n",
       "1                 0       0             0        0  \n",
       "2                 0       0             0        0  \n",
       "3                 0       0             0        0  \n",
       "4                 0       0             0        0  \n",
       "\n",
       "[5 rows x 144 columns]"
      ]
     },
     "execution_count": 151,
     "metadata": {},
     "output_type": "execute_result"
    }
   ],
   "source": [
    "df.head(5)"
   ]
  },
  {
   "cell_type": "code",
   "execution_count": 153,
   "id": "de0897de-ccc1-4ca3-a22f-d8d064e39ff7",
   "metadata": {},
   "outputs": [],
   "source": [
    "#df.to_csv('cleaned_v6.csv')"
   ]
  },
  {
   "cell_type": "markdown",
   "id": "abe4bf7a-bbc3-40fa-b972-91befb3bda7c",
   "metadata": {},
   "source": [
    "## Cleaning columns"
   ]
  },
  {
   "cell_type": "code",
   "execution_count": 225,
   "id": "c91dcc4e-c71b-494d-b4b2-d2e08bdcbe3e",
   "metadata": {},
   "outputs": [],
   "source": [
    "df = pd.read_csv('data_v6_with_ratingcount.csv')"
   ]
  },
  {
   "cell_type": "code",
   "execution_count": 226,
   "id": "e8012bd6-8cd1-4bbb-adbd-f08e37623d31",
   "metadata": {
    "tags": []
   },
   "outputs": [],
   "source": [
    "#df.head()"
   ]
  },
  {
   "cell_type": "code",
   "execution_count": 227,
   "id": "823883c3-8ad1-4d67-990a-0465f6fbb841",
   "metadata": {
    "tags": []
   },
   "outputs": [],
   "source": [
    "c = list(df.columns)\n",
    "c.sort()"
   ]
  },
  {
   "cell_type": "code",
   "execution_count": 228,
   "id": "76679f56-ea42-42b4-a71a-103aa5d297ee",
   "metadata": {},
   "outputs": [],
   "source": [
    "#c"
   ]
  },
  {
   "cell_type": "code",
   "execution_count": null,
   "id": "209dd658-ebe2-4784-9faa-ff70caae53ac",
   "metadata": {},
   "outputs": [],
   "source": []
  },
  {
   "cell_type": "code",
   "execution_count": 229,
   "id": "faaf1806-9d32-4850-af1c-da8a7fe039cb",
   "metadata": {},
   "outputs": [],
   "source": [
    "def combine_certain_columns(cols, name, df):\n",
    "    print(len(cols))\n",
    "    all_cols = list(df.columns)\n",
    "    if name not in all_cols:\n",
    "        df[name] = 0\n",
    "    print(df.shape)\n",
    "    for e in cols:\n",
    "        df[name] += df[e]\n",
    "    df[name].loc[name] = 1\n",
    "    df.drop(columns=cols, inplace=True)\n",
    "    if df[df[name] > 1].shape[0] != 0:\n",
    "        print('# some values sum to more than 1')\n",
    "        df[name].loc[df[name] > 1] = 1\n",
    "    print(df.shape)\n",
    "    return df\n",
    "\n",
    "\n",
    "def find_and_remove(name, df):\n",
    "    print('data size before {}.'.format(df.shape))\n",
    "    L = df.columns\n",
    "    col_to_remove = [x for x in L if name.lower() in x.lower()]\n",
    "    all_cols = list(df.columns)\n",
    "    sz = len(col_to_remove)\n",
    "    print(sz)\n",
    "    if sz>1:\n",
    "        print('We are about to remove {} columns.'.format(sz))\n",
    "        if name not in L:\n",
    "            print(name)\n",
    "            df[name] = 0\n",
    "\n",
    "        for e in col_to_remove:\n",
    "            try:\n",
    "                df[name] += df[e]\n",
    "            except:\n",
    "                continue\n",
    "                \n",
    "        for i in col_to_remove:\n",
    "            try:\n",
    "                df.drop(columns=i, inplace=True)\n",
    "            except:\n",
    "                continue\n",
    "        \n",
    "        print('data size after {}.'.format(df.shape))\n",
    "    else:\n",
    "        print('column is not found')\n",
    "        \n",
    "    if df[df[name] > 1].shape[0] != 0:\n",
    "        print('# some values sum to more than 1')\n",
    "        df[name].loc[df[name] > 1] = 1\n",
    "    return df\n",
    "\n"
   ]
  },
  {
   "cell_type": "code",
   "execution_count": 230,
   "id": "21a830cf-4e29-469c-9027-7de4ea998d1f",
   "metadata": {},
   "outputs": [
    {
     "name": "stdout",
     "output_type": "stream",
     "text": [
      "2\n",
      "(1864, 146)\n",
      "# some values sum to more than 1\n",
      "(1864, 144)\n"
     ]
    }
   ],
   "source": [
    "df = combine_certain_columns(['Barbecue utensils',  'bbq grill'], 'bbq', df)"
   ]
  },
  {
   "cell_type": "code",
   "execution_count": 231,
   "id": "e7e49071-2cfd-4955-879a-12d33ff754dd",
   "metadata": {},
   "outputs": [
    {
     "name": "stdout",
     "output_type": "stream",
     "text": [
      "2\n",
      "(1864, 145)\n",
      "# some values sum to more than 1\n",
      "(1864, 143)\n"
     ]
    }
   ],
   "source": [
    "df = combine_certain_columns(['Hot water','Hot water kettle'], 'hot_water', df)"
   ]
  },
  {
   "cell_type": "code",
   "execution_count": 232,
   "id": "2e0d1952-cc35-49c3-8f62-01fd797d3195",
   "metadata": {},
   "outputs": [
    {
     "name": "stdout",
     "output_type": "stream",
     "text": [
      "3\n",
      "(1864, 144)\n",
      "# some values sum to more than 1\n",
      "(1864, 141)\n"
     ]
    }
   ],
   "source": [
    "df = combine_certain_columns(['Changing table','Children’s dinnerware', 'Crib'], 'child_friendly', df)"
   ]
  },
  {
   "cell_type": "code",
   "execution_count": 233,
   "id": "f4cacab4-3774-4c75-a94e-0a3702a4b077",
   "metadata": {},
   "outputs": [
    {
     "name": "stdout",
     "output_type": "stream",
     "text": [
      "1\n",
      "(1864, 141)\n",
      "# some values sum to more than 1\n",
      "(1864, 140)\n"
     ]
    }
   ],
   "source": [
    "df = combine_certain_columns(['baby'], 'child_friendly', df)"
   ]
  },
  {
   "cell_type": "code",
   "execution_count": 234,
   "id": "33af47d4-93c5-44a0-afaa-59e361b52e0e",
   "metadata": {},
   "outputs": [
    {
     "name": "stdout",
     "output_type": "stream",
     "text": [
      "3\n",
      "(1864, 141)\n",
      "# some values sum to more than 1\n",
      "(1864, 138)\n"
     ]
    }
   ],
   "source": [
    "df = combine_certain_columns(['Heating', 'Central heating', 'Radiant heating'], 'heating', df)"
   ]
  },
  {
   "cell_type": "code",
   "execution_count": 235,
   "id": "d0d11eff-a43b-4474-af20-71f80e931df8",
   "metadata": {},
   "outputs": [
    {
     "name": "stdout",
     "output_type": "stream",
     "text": [
      "2\n",
      "(1864, 138)\n",
      "# some values sum to more than 1\n",
      "(1864, 136)\n"
     ]
    }
   ],
   "source": [
    "df = combine_certain_columns(['Pack ’n play/Travel crib', 'children’s books and toys'], 'child_friendly', df)"
   ]
  },
  {
   "cell_type": "code",
   "execution_count": 236,
   "id": "70068c91-649e-47e5-a98a-546e546d0df5",
   "metadata": {},
   "outputs": [],
   "source": [
    "home_utensils = [\n",
    "    'Hangers',\n",
    "    'Bed linens',\n",
    "    'Extra pillows and blankets',\n",
    "    'Dishes and silverware',\n",
    "    'Bidet',\n",
    "    'Drying rack for clothing',\n",
    "    'Hangers',\n",
    "    'High chair',\n",
    "    \n",
    "]\n",
    "\n"
   ]
  },
  {
   "cell_type": "code",
   "execution_count": 237,
   "id": "ff76dc08-2e81-425f-bda5-7a6779ff5b35",
   "metadata": {},
   "outputs": [
    {
     "name": "stdout",
     "output_type": "stream",
     "text": [
      "8\n",
      "(1864, 137)\n",
      "# some values sum to more than 1\n",
      "(1864, 130)\n"
     ]
    }
   ],
   "source": [
    "df = combine_certain_columns(home_utensils, 'home_utensils', df)"
   ]
  },
  {
   "cell_type": "code",
   "execution_count": 238,
   "id": "97332ea8-7cd4-484d-88ec-97c1ed00b700",
   "metadata": {},
   "outputs": [],
   "source": [
    "parking = ['Free driveway parking on premises',\n",
    " 'Free resort access',\n",
    " 'Free street parking']"
   ]
  },
  {
   "cell_type": "code",
   "execution_count": 239,
   "id": "79fd7e84-cd83-4baf-b555-6f692a153793",
   "metadata": {},
   "outputs": [
    {
     "name": "stdout",
     "output_type": "stream",
     "text": [
      "3\n",
      "(1864, 130)\n",
      "# some values sum to more than 1\n",
      "(1864, 127)\n"
     ]
    }
   ],
   "source": [
    "df = combine_certain_columns(parking, \n",
    "                             'free parking', \n",
    "                             df)\n"
   ]
  },
  {
   "cell_type": "code",
   "execution_count": 241,
   "id": "5a5978d3-a08d-4299-80d6-ba268dd10c9b",
   "metadata": {},
   "outputs": [],
   "source": [
    "df.to_csv('data_v7_127col.csv')"
   ]
  },
  {
   "cell_type": "code",
   "execution_count": null,
   "id": "c9e62345-3d9a-4b3c-ba2b-8d5d3e5f206e",
   "metadata": {},
   "outputs": [],
   "source": []
  },
  {
   "cell_type": "code",
   "execution_count": 242,
   "id": "e90dc6fe-5932-4ac9-b906-00640f892a8e",
   "metadata": {
    "tags": []
   },
   "outputs": [],
   "source": [
    "df_prov = pd.DataFrame(df.groupby([df['province'], df.house_type] )['price'].mean())\n",
    "#.mean()\n",
    "#.sort_values(ascending=False)"
   ]
  },
  {
   "cell_type": "code",
   "execution_count": 243,
   "id": "9aace547-ceac-4944-9a2a-bf8013e5caed",
   "metadata": {},
   "outputs": [],
   "source": [
    "df_prov.to_csv('test2.csv')"
   ]
  },
  {
   "cell_type": "code",
   "execution_count": 244,
   "id": "9838df79-0189-4a00-9d11-5678e2be4270",
   "metadata": {
    "tags": []
   },
   "outputs": [],
   "source": [
    "df_prov = df_prov.reset_index()"
   ]
  },
  {
   "cell_type": "code",
   "execution_count": 245,
   "id": "deef33e1-53d0-4811-8038-229f6b47fa2e",
   "metadata": {},
   "outputs": [
    {
     "data": {
      "text/html": [
       "<div>\n",
       "<style scoped>\n",
       "    .dataframe tbody tr th:only-of-type {\n",
       "        vertical-align: middle;\n",
       "    }\n",
       "\n",
       "    .dataframe tbody tr th {\n",
       "        vertical-align: top;\n",
       "    }\n",
       "\n",
       "    .dataframe thead th {\n",
       "        text-align: right;\n",
       "    }\n",
       "</style>\n",
       "<table border=\"1\" class=\"dataframe\">\n",
       "  <thead>\n",
       "    <tr style=\"text-align: right;\">\n",
       "      <th></th>\n",
       "      <th>province</th>\n",
       "      <th>house_type</th>\n",
       "      <th>price</th>\n",
       "    </tr>\n",
       "  </thead>\n",
       "  <tbody>\n",
       "    <tr>\n",
       "      <th>0</th>\n",
       "      <td>1</td>\n",
       "      <td>Campsite</td>\n",
       "      <td>1000.000000</td>\n",
       "    </tr>\n",
       "    <tr>\n",
       "      <th>1</th>\n",
       "      <td>1</td>\n",
       "      <td>Cycladic house</td>\n",
       "      <td>100.000000</td>\n",
       "    </tr>\n",
       "    <tr>\n",
       "      <th>2</th>\n",
       "      <td>1</td>\n",
       "      <td>Entire bungalow</td>\n",
       "      <td>1115.750000</td>\n",
       "    </tr>\n",
       "    <tr>\n",
       "      <th>3</th>\n",
       "      <td>1</td>\n",
       "      <td>Entire cabin</td>\n",
       "      <td>515.666667</td>\n",
       "    </tr>\n",
       "    <tr>\n",
       "      <th>4</th>\n",
       "      <td>1</td>\n",
       "      <td>Entire chalet</td>\n",
       "      <td>993.166667</td>\n",
       "    </tr>\n",
       "    <tr>\n",
       "      <th>...</th>\n",
       "      <td>...</td>\n",
       "      <td>...</td>\n",
       "      <td>...</td>\n",
       "    </tr>\n",
       "    <tr>\n",
       "      <th>187</th>\n",
       "      <td>7</td>\n",
       "      <td>Room in aparthotel</td>\n",
       "      <td>200.000000</td>\n",
       "    </tr>\n",
       "    <tr>\n",
       "      <th>188</th>\n",
       "      <td>8</td>\n",
       "      <td>Farm stay</td>\n",
       "      <td>600.000000</td>\n",
       "    </tr>\n",
       "    <tr>\n",
       "      <th>189</th>\n",
       "      <td>9</td>\n",
       "      <td>Entire rental unit</td>\n",
       "      <td>300.000000</td>\n",
       "    </tr>\n",
       "    <tr>\n",
       "      <th>190</th>\n",
       "      <td>9</td>\n",
       "      <td>Private room in rental unit</td>\n",
       "      <td>200.000000</td>\n",
       "    </tr>\n",
       "    <tr>\n",
       "      <th>191</th>\n",
       "      <td>10</td>\n",
       "      <td>Shared room in bed and breakfast</td>\n",
       "      <td>85.000000</td>\n",
       "    </tr>\n",
       "  </tbody>\n",
       "</table>\n",
       "<p>192 rows × 3 columns</p>\n",
       "</div>"
      ],
      "text/plain": [
       "     province                        house_type        price\n",
       "0           1                          Campsite  1000.000000\n",
       "1           1                    Cycladic house   100.000000\n",
       "2           1                   Entire bungalow  1115.750000\n",
       "3           1                      Entire cabin   515.666667\n",
       "4           1                     Entire chalet   993.166667\n",
       "..        ...                               ...          ...\n",
       "187         7                Room in aparthotel   200.000000\n",
       "188         8                         Farm stay   600.000000\n",
       "189         9                Entire rental unit   300.000000\n",
       "190         9       Private room in rental unit   200.000000\n",
       "191        10  Shared room in bed and breakfast    85.000000\n",
       "\n",
       "[192 rows x 3 columns]"
      ]
     },
     "execution_count": 245,
     "metadata": {},
     "output_type": "execute_result"
    }
   ],
   "source": [
    "df_prov"
   ]
  },
  {
   "cell_type": "code",
   "execution_count": 246,
   "id": "1bdcecda-6ac1-4f78-93f4-a1ba5603cfd6",
   "metadata": {},
   "outputs": [],
   "source": [
    "df_prov['id'] = [str(s)+''+str(w) for s,w in zip(df_prov.province,df_prov.house_type)] "
   ]
  },
  {
   "cell_type": "code",
   "execution_count": 247,
   "id": "21463fda-a071-42fc-8493-621cb088fb39",
   "metadata": {},
   "outputs": [
    {
     "data": {
      "text/html": [
       "<div>\n",
       "<style scoped>\n",
       "    .dataframe tbody tr th:only-of-type {\n",
       "        vertical-align: middle;\n",
       "    }\n",
       "\n",
       "    .dataframe tbody tr th {\n",
       "        vertical-align: top;\n",
       "    }\n",
       "\n",
       "    .dataframe thead th {\n",
       "        text-align: right;\n",
       "    }\n",
       "</style>\n",
       "<table border=\"1\" class=\"dataframe\">\n",
       "  <thead>\n",
       "    <tr style=\"text-align: right;\">\n",
       "      <th></th>\n",
       "      <th>province</th>\n",
       "      <th>house_type</th>\n",
       "      <th>price</th>\n",
       "      <th>id</th>\n",
       "    </tr>\n",
       "  </thead>\n",
       "  <tbody>\n",
       "    <tr>\n",
       "      <th>0</th>\n",
       "      <td>1</td>\n",
       "      <td>Campsite</td>\n",
       "      <td>1000.000000</td>\n",
       "      <td>1Campsite</td>\n",
       "    </tr>\n",
       "    <tr>\n",
       "      <th>1</th>\n",
       "      <td>1</td>\n",
       "      <td>Cycladic house</td>\n",
       "      <td>100.000000</td>\n",
       "      <td>1Cycladic house</td>\n",
       "    </tr>\n",
       "    <tr>\n",
       "      <th>2</th>\n",
       "      <td>1</td>\n",
       "      <td>Entire bungalow</td>\n",
       "      <td>1115.750000</td>\n",
       "      <td>1Entire bungalow</td>\n",
       "    </tr>\n",
       "    <tr>\n",
       "      <th>3</th>\n",
       "      <td>1</td>\n",
       "      <td>Entire cabin</td>\n",
       "      <td>515.666667</td>\n",
       "      <td>1Entire cabin</td>\n",
       "    </tr>\n",
       "    <tr>\n",
       "      <th>4</th>\n",
       "      <td>1</td>\n",
       "      <td>Entire chalet</td>\n",
       "      <td>993.166667</td>\n",
       "      <td>1Entire chalet</td>\n",
       "    </tr>\n",
       "  </tbody>\n",
       "</table>\n",
       "</div>"
      ],
      "text/plain": [
       "   province       house_type        price                id\n",
       "0         1         Campsite  1000.000000         1Campsite\n",
       "1         1   Cycladic house   100.000000   1Cycladic house\n",
       "2         1  Entire bungalow  1115.750000  1Entire bungalow\n",
       "3         1     Entire cabin   515.666667     1Entire cabin\n",
       "4         1    Entire chalet   993.166667    1Entire chalet"
      ]
     },
     "execution_count": 247,
     "metadata": {},
     "output_type": "execute_result"
    }
   ],
   "source": [
    "df_prov.head()"
   ]
  },
  {
   "cell_type": "code",
   "execution_count": 248,
   "id": "78c39c84-d7d4-4153-80cd-0d8c382a8450",
   "metadata": {},
   "outputs": [
    {
     "data": {
      "text/plain": [
       "192"
      ]
     },
     "execution_count": 248,
     "metadata": {},
     "output_type": "execute_result"
    }
   ],
   "source": [
    "len(df_prov.house_type)"
   ]
  },
  {
   "cell_type": "code",
   "execution_count": 249,
   "id": "dac29a5d-5528-45fa-9069-01f527aa48fe",
   "metadata": {},
   "outputs": [
    {
     "data": {
      "text/plain": [
       "(192, 4)"
      ]
     },
     "execution_count": 249,
     "metadata": {},
     "output_type": "execute_result"
    }
   ],
   "source": [
    "df_prov.shape"
   ]
  },
  {
   "cell_type": "code",
   "execution_count": 250,
   "id": "f5d232ab-c2ee-4455-ad6d-916ce0bbff57",
   "metadata": {},
   "outputs": [],
   "source": [
    "df_new = pd.read_csv('data_v7_127col.csv', index_col=0)\n",
    "df_new['mean_per_prov'] = [str(s)+''+str(w) for s,w in zip(df_new.province,df_new.house_type)] "
   ]
  },
  {
   "cell_type": "code",
   "execution_count": 251,
   "id": "24acb6e1-c8d5-40ff-80b7-edab46ce4dcc",
   "metadata": {},
   "outputs": [],
   "source": [
    "a = list(df_prov['id'])\n",
    "b = list(df_prov['price'])"
   ]
  },
  {
   "cell_type": "code",
   "execution_count": 252,
   "id": "7f9478ae-6e8c-4a72-8b6d-ba853ed4ca60",
   "metadata": {},
   "outputs": [],
   "source": [
    "dictio = {}\n",
    "\n",
    "for i, j in zip(a,b):\n",
    "    dictio.update({i:j})"
   ]
  },
  {
   "cell_type": "code",
   "execution_count": 253,
   "id": "9aa62343-b8eb-449e-93df-11030714c0b8",
   "metadata": {},
   "outputs": [],
   "source": [
    "df_new['mean_per_prov'] = df_new['mean_per_prov'].replace(dictio)"
   ]
  },
  {
   "cell_type": "code",
   "execution_count": 254,
   "id": "6f689ce3-cb39-4541-a532-f03d86aef7db",
   "metadata": {},
   "outputs": [
    {
     "data": {
      "text/plain": [
       "0        560.000000\n",
       "1        702.263158\n",
       "2        400.000000\n",
       "3        450.000000\n",
       "4       1852.000000\n",
       "           ...     \n",
       "1859    1155.500000\n",
       "1860     708.666667\n",
       "1861     740.000000\n",
       "1862     708.666667\n",
       "1863     740.000000\n",
       "Name: mean_per_prov, Length: 1864, dtype: float64"
      ]
     },
     "execution_count": 254,
     "metadata": {},
     "output_type": "execute_result"
    }
   ],
   "source": [
    "df_new['mean_per_prov']"
   ]
  },
  {
   "cell_type": "code",
   "execution_count": 273,
   "id": "a662eea5-4284-4750-905c-dc153d6d3ca2",
   "metadata": {},
   "outputs": [],
   "source": [
    "df.loc[1863,'superhost'] = 0"
   ]
  },
  {
   "cell_type": "code",
   "execution_count": 274,
   "id": "b5a6080a-381a-4a42-bdde-20a38ece04f0",
   "metadata": {},
   "outputs": [],
   "source": [
    "df['superhost'] = pd.Series([int(x) for x in df['superhost']])"
   ]
  },
  {
   "cell_type": "code",
   "execution_count": 275,
   "id": "5a81b546-9fe9-4f15-b225-4f4000f6e066",
   "metadata": {},
   "outputs": [
    {
     "data": {
      "text/plain": [
       "0"
      ]
     },
     "execution_count": 275,
     "metadata": {},
     "output_type": "execute_result"
    }
   ],
   "source": [
    "sum(df.superhost.isna())"
   ]
  },
  {
   "cell_type": "code",
   "execution_count": null,
   "id": "7b176e5d-0122-4ac9-ac66-79030d67aa7a",
   "metadata": {},
   "outputs": [],
   "source": []
  },
  {
   "cell_type": "code",
   "execution_count": 277,
   "id": "97f83c99-c5df-4469-92e4-70c1179d6895",
   "metadata": {},
   "outputs": [],
   "source": [
    "df.to_csv('data_v8_127col.csv')"
   ]
  },
  {
   "cell_type": "code",
   "execution_count": 225,
   "id": "8ea31084-245b-46a5-b878-d7ee88f926fa",
   "metadata": {},
   "outputs": [],
   "source": [
    "#df_new.join(df_prov[['price']], on=df_prov['id'])"
   ]
  },
  {
   "cell_type": "code",
   "execution_count": null,
   "id": "b0fa60c8-05da-4ef7-b55d-3593f7479e1f",
   "metadata": {},
   "outputs": [],
   "source": []
  },
  {
   "cell_type": "markdown",
   "id": "ef0fcbbf-db13-4d46-92a0-3fe4536f05db",
   "metadata": {},
   "source": [
    "## EDA"
   ]
  },
  {
   "cell_type": "code",
   "execution_count": 35,
   "id": "d53dd0b0-0821-4659-995f-673505df6eaf",
   "metadata": {},
   "outputs": [],
   "source": [
    "\n",
    "from sklearn.linear_model import Lasso, Ridge, ElasticNet, LinearRegression\n",
    "\n",
    "from sklearn.model_selection import (cross_val_score, train_test_split, \n",
    "                                     KFold, GridSearchCV)"
   ]
  },
  {
   "cell_type": "code",
   "execution_count": 66,
   "id": "c203fa6f-732d-4c9a-9f41-d4e120cc1470",
   "metadata": {},
   "outputs": [],
   "source": [
    "#test.iloc[:,:10]"
   ]
  },
  {
   "cell_type": "code",
   "execution_count": 36,
   "id": "e2963b1f-77f4-4e86-86ee-88c5a6e35294",
   "metadata": {},
   "outputs": [
    {
     "data": {
      "text/plain": [
       "['pool']"
      ]
     },
     "execution_count": 36,
     "metadata": {},
     "output_type": "execute_result"
    }
   ],
   "source": [
    "L = df.columns\n",
    "\n",
    "[x for x in L if 'pool' in x]"
   ]
  },
  {
   "cell_type": "code",
   "execution_count": 42,
   "id": "1db3b893-7182-4781-bee0-31d2fb5da760",
   "metadata": {},
   "outputs": [],
   "source": [
    "p = list(prov.keys())"
   ]
  },
  {
   "cell_type": "code",
   "execution_count": 180,
   "id": "11a2a489-5363-460b-927e-9d8414336f45",
   "metadata": {},
   "outputs": [],
   "source": [
    "#fig, ax = plt.subplots()\n",
    "#plt.figure(figsize=(25,7));\n",
    "#ax.set_xticks(p) \n",
    "#sns.lineplot(x=prov[df.province], y=df.price)"
   ]
  },
  {
   "cell_type": "code",
   "execution_count": 181,
   "id": "4097ca5a-fc53-44f5-a9a1-d8fcf0a7c807",
   "metadata": {},
   "outputs": [],
   "source": [
    "#plt.figure(figsize=(25,7));\n",
    "#sns.catplot(x=df.pool, y=df.price, data = df)\n",
    "#sns.catplot(x=df.tv, y=df.price, data = df)"
   ]
  },
  {
   "cell_type": "code",
   "execution_count": 70,
   "id": "84cc32a9-d3a7-408e-a33e-39b90134f969",
   "metadata": {},
   "outputs": [
    {
     "data": {
      "image/png": "[encoded data removed]",
      "text/plain": [
       "<Figure size 1800x504 with 1 Axes>"
      ]
     },
     "metadata": {
      "needs_background": "light"
     },
     "output_type": "display_data"
    }
   ],
   "source": [
    "plt.figure(figsize=(25,7));\n",
    "plt.hist(df.rating);"
   ]
  },
  {
   "cell_type": "code",
   "execution_count": 71,
   "id": "c16533d3-a405-4483-b77f-4070034d8640",
   "metadata": {},
   "outputs": [
    {
     "data": {
      "image/png": "[encoded data removed]",
      "text/plain": [
       "<Figure size 1800x504 with 1 Axes>"
      ]
     },
     "metadata": {
      "needs_background": "light"
     },
     "output_type": "display_data"
    }
   ],
   "source": [
    "plt.figure(figsize=(25,7));\n",
    "plt.hist(df.price);"
   ]
  },
  {
   "cell_type": "code",
   "execution_count": 118,
   "id": "1e7a1c02-2183-4625-8c3e-4fbad4ba512b",
   "metadata": {},
   "outputs": [],
   "source": []
  },
  {
   "cell_type": "code",
   "execution_count": 278,
   "id": "257755db-322b-41e7-982b-c70d0881976f",
   "metadata": {},
   "outputs": [],
   "source": [
    "df = pd.read_csv('data_v8_127col.csv', index_col=0)"
   ]
  },
  {
   "cell_type": "code",
   "execution_count": 279,
   "id": "c709e688-1347-42ba-876e-eb1498abe98b",
   "metadata": {},
   "outputs": [
    {
     "data": {
      "text/plain": [
       "0"
      ]
     },
     "execution_count": 279,
     "metadata": {},
     "output_type": "execute_result"
    }
   ],
   "source": [
    "sum(df['superhost'].isna())"
   ]
  },
  {
   "cell_type": "code",
   "execution_count": 280,
   "id": "26856145-7b87-4e34-bc32-c80149dcfbb3",
   "metadata": {
    "tags": []
   },
   "outputs": [
    {
     "data": {
      "text/plain": [
       "(1864, 128)"
      ]
     },
     "execution_count": 280,
     "metadata": {},
     "output_type": "execute_result"
    }
   ],
   "source": [
    "df.shape"
   ]
  },
  {
   "cell_type": "code",
   "execution_count": 281,
   "id": "f932ed24-6ec0-46e0-bb3a-000df2109b8a",
   "metadata": {},
   "outputs": [],
   "source": [
    "c = [ 'free carport',\n",
    " 'free residential garage']"
   ]
  },
  {
   "cell_type": "code",
   "execution_count": 285,
   "id": "3c66adfb-86f5-4bf5-a948-dcad8f16507a",
   "metadata": {},
   "outputs": [],
   "source": [
    "#df = combine_certain_columns(c, 'free parking', df)\n"
   ]
  },
  {
   "cell_type": "code",
   "execution_count": 286,
   "id": "7ba3895f-abc7-4d6c-b8f0-afd5b844d03d",
   "metadata": {},
   "outputs": [
    {
     "name": "stdout",
     "output_type": "stream",
     "text": [
      "7\n",
      "(1864, 127)\n",
      "# some values sum to more than 1\n",
      "(1864, 120)\n"
     ]
    }
   ],
   "source": [
    "c = ['Blender','Bread maker','Freezer','Iron','Microwave','Toaster','Rice maker']\n",
    "\n",
    "df = combine_certain_columns(c, 'appliance', df)"
   ]
  },
  {
   "cell_type": "code",
   "execution_count": 289,
   "id": "7f5ea6f7-c446-47fb-acee-cb960ab508d5",
   "metadata": {},
   "outputs": [
    {
     "name": "stdout",
     "output_type": "stream",
     "text": [
      "4\n",
      "(1864, 119)\n",
      "# some values sum to more than 1\n",
      "(1864, 115)\n"
     ]
    }
   ],
   "source": [
    "c = ['Board games','Books and reading material',\n",
    "               'Ping pong table','Record player']\n",
    "\n",
    "df = combine_certain_columns(c, 'entertainment', df)"
   ]
  },
  {
   "cell_type": "code",
   "execution_count": 290,
   "id": "339554e6-824e-48ee-a590-a6a9ce99a304",
   "metadata": {},
   "outputs": [
    {
     "name": "stdout",
     "output_type": "stream",
     "text": [
      "data size before (1864, 115).\n",
      "1\n",
      "column is not found\n"
     ]
    }
   ],
   "source": [
    "#df = find_and_remove('sauna', df)"
   ]
  },
  {
   "cell_type": "code",
   "execution_count": 291,
   "id": "df135ce4-adba-4a45-a460-321554d59c32",
   "metadata": {},
   "outputs": [
    {
     "name": "stdout",
     "output_type": "stream",
     "text": [
      "6\n",
      "(1864, 116)\n",
      "# some values sum to more than 1\n",
      "(1864, 110)\n"
     ]
    },
    {
     "name": "stderr",
     "output_type": "stream",
     "text": [
      "C:\\Users\\elaaf\\anaconda3\\lib\\site-packages\\pandas\\core\\indexing.py:1732: SettingWithCopyWarning: \n",
      "A value is trying to be set on a copy of a slice from a DataFrame\n",
      "\n",
      "See the caveats in the documentation: https://pandas.pydata.org/pandas-docs/stable/user_guide/indexing.html#returning-a-view-versus-a-copy\n",
      "  self._setitem_single_block(indexer, value, name)\n"
     ]
    }
   ],
   "source": [
    "c = ['Fire extinguisher', 'Fireplace guards', 'Outlet covers','Safe',\n",
    " 'Security cameras on property','Smoke alarm']\n",
    "\n",
    "df = combine_certain_columns(c, 'safety', df)"
   ]
  },
  {
   "cell_type": "code",
   "execution_count": 294,
   "id": "ac3c9a80-1687-468c-b998-d8e1c3a07967",
   "metadata": {},
   "outputs": [
    {
     "name": "stdout",
     "output_type": "stream",
     "text": [
      "2\n",
      "(1864, 111)\n",
      "# some values sum to more than 1\n",
      "(1864, 109)\n"
     ]
    },
    {
     "name": "stderr",
     "output_type": "stream",
     "text": [
      "C:\\Users\\elaaf\\anaconda3\\lib\\site-packages\\pandas\\core\\indexing.py:1732: SettingWithCopyWarning: \n",
      "A value is trying to be set on a copy of a slice from a DataFrame\n",
      "\n",
      "See the caveats in the documentation: https://pandas.pydata.org/pandas-docs/stable/user_guide/indexing.html#returning-a-view-versus-a-copy\n",
      "  self._setitem_single_block(indexer, value, name)\n"
     ]
    }
   ],
   "source": [
    "df = combine_certain_columns(['Boat slip',  'Kayak'], 'boat', df)\n"
   ]
  },
  {
   "cell_type": "code",
   "execution_count": 295,
   "id": "f8e45c7c-98f8-456f-ad07-6e4e609db86d",
   "metadata": {},
   "outputs": [
    {
     "data": {
      "text/plain": [
       "1168"
      ]
     },
     "execution_count": 295,
     "metadata": {},
     "output_type": "execute_result"
    }
   ],
   "source": [
    "sum(df['wifi'])"
   ]
  },
  {
   "cell_type": "code",
   "execution_count": null,
   "id": "9f1a2a1c-eeaf-471f-9889-b1911526b14a",
   "metadata": {},
   "outputs": [],
   "source": [
    "'internet': ['Ethernet connection', 'wifi']"
   ]
  },
  {
   "cell_type": "code",
   "execution_count": 296,
   "id": "cb6d8682-61f0-45bf-9732-05e3124df9d1",
   "metadata": {},
   "outputs": [
    {
     "name": "stdout",
     "output_type": "stream",
     "text": [
      "2\n",
      "(1864, 110)\n",
      "# some values sum to more than 1\n",
      "(1864, 108)\n"
     ]
    }
   ],
   "source": [
    "df = combine_certain_columns(['Ethernet connection', 'wifi'], 'internet', df)\n"
   ]
  },
  {
   "cell_type": "code",
   "execution_count": 299,
   "id": "288b1d8a-7951-4bde-ac11-378335f95f51",
   "metadata": {},
   "outputs": [
    {
     "name": "stdout",
     "output_type": "stream",
     "text": [
      "1\n",
      "(1864, 108)\n",
      "# some values sum to more than 1\n",
      "(1864, 107)\n"
     ]
    }
   ],
   "source": [
    "df = combine_certain_columns(['Mini fridge'], 'refrigerator', df)\n"
   ]
  },
  {
   "cell_type": "code",
   "execution_count": 302,
   "id": "16404aee-1fb8-442e-9326-9e329791fa77",
   "metadata": {},
   "outputs": [
    {
     "name": "stdout",
     "output_type": "stream",
     "text": [
      "1\n",
      "(1864, 107)\n",
      "# some values sum to more than 1\n",
      "(1864, 106)\n"
     ]
    }
   ],
   "source": [
    "df = combine_certain_columns(['Window AC unit'], 'air conditioning', df)\n"
   ]
  },
  {
   "cell_type": "code",
   "execution_count": 303,
   "id": "d11cb10a-742f-4c23-97cd-1ba490daa25e",
   "metadata": {},
   "outputs": [
    {
     "name": "stdout",
     "output_type": "stream",
     "text": [
      "1\n",
      "(1864, 106)\n",
      "# some values sum to more than 1\n",
      "(1864, 105)\n"
     ]
    }
   ],
   "source": [
    "df = combine_certain_columns([ 'Paid street parking off premises'], 'paid parking', df)\n"
   ]
  },
  {
   "cell_type": "code",
   "execution_count": 293,
   "id": "3f2f7065-72c5-4b6b-9480-ee6f09b26721",
   "metadata": {},
   "outputs": [
    {
     "data": {
      "text/plain": [
       "1055"
      ]
     },
     "execution_count": 293,
     "metadata": {},
     "output_type": "execute_result"
    }
   ],
   "source": [
    "#sum(df['safety'])"
   ]
  },
  {
   "cell_type": "code",
   "execution_count": 211,
   "id": "6cc38a91-6bfc-410c-8c90-5f40745cc840",
   "metadata": {
    "collapsed": true,
    "jupyter": {
     "outputs_hidden": true
    },
    "tags": []
   },
   "outputs": [
    {
     "data": {
      "text/plain": [
       "['Baking sheet',\n",
       " 'Bathtub',\n",
       " 'Beach essentials',\n",
       " 'Bed_num',\n",
       " 'Bikes',\n",
       " 'Blender',\n",
       " 'Board games',\n",
       " 'Boat slip',\n",
       " 'Books and reading material',\n",
       " 'Bread maker',\n",
       " 'Breakfast',\n",
       " 'Building staff',\n",
       " 'Carbon monoxide alarm',\n",
       " 'Ceiling fan',\n",
       " 'Cleaning before checkout',\n",
       " 'Cleaning products',\n",
       " 'Cooking basics',\n",
       " 'Dining table',\n",
       " 'EV charger',\n",
       " 'Elevator',\n",
       " 'Essentials',\n",
       " 'Ethernet connection',\n",
       " 'Fire extinguisher',\n",
       " 'Fire pit',\n",
       " 'Fireplace guards',\n",
       " 'First aid kit',\n",
       " 'Freezer',\n",
       " 'Hammock',\n",
       " 'Host greets you',\n",
       " 'Hot tub',\n",
       " 'Iron',\n",
       " 'Kayak',\n",
       " 'Keypad',\n",
       " 'Lake access',\n",
       " 'Laundromat nearby',\n",
       " 'Lock on bedroom door',\n",
       " 'Lockbox',\n",
       " 'Long term stays allowed',\n",
       " 'Luggage dropoff allowed',\n",
       " 'Microwave',\n",
       " 'Mini fridge',\n",
       " 'Mosquito net',\n",
       " 'Outdoor dining area',\n",
       " 'Outdoor furniture',\n",
       " 'Outdoor shower',\n",
       " 'Outlet covers',\n",
       " 'Paid resort access',\n",
       " 'Paid street parking off premises',\n",
       " 'Pets allowed',\n",
       " 'Piano',\n",
       " 'Ping pong table',\n",
       " 'Portable fans',\n",
       " 'Portable heater',\n",
       " 'Private entrance',\n",
       " 'Private hot tub',\n",
       " 'Private living room',\n",
       " 'Record player',\n",
       " 'Resort access',\n",
       " 'Rice maker',\n",
       " 'Room-darkening shades',\n",
       " 'Safe',\n",
       " 'Security cameras on property',\n",
       " 'Self check-in',\n",
       " 'Shared hot tub',\n",
       " 'Shower gel',\n",
       " 'Single level home',\n",
       " 'Smart lock',\n",
       " 'Smoke alarm',\n",
       " 'Smoking allowed',\n",
       " 'Suitable for events',\n",
       " 'Table corner guards',\n",
       " 'Toaster',\n",
       " 'Trash compactor',\n",
       " 'Waterfront',\n",
       " 'Window AC unit',\n",
       " 'Window guards',\n",
       " 'Wine glasses',\n",
       " 'air conditioning',\n",
       " 'backyard',\n",
       " 'balcony',\n",
       " 'bath_num',\n",
       " 'bbq',\n",
       " 'beach access',\n",
       " 'bedroom_num',\n",
       " 'child_friendly',\n",
       " 'city',\n",
       " 'clothing storage',\n",
       " 'coffee',\n",
       " 'conditioner',\n",
       " 'dedicated workspace',\n",
       " 'dryer',\n",
       " 'exercise equipment',\n",
       " 'free parking',\n",
       " 'game console',\n",
       " 'guest_num',\n",
       " 'gym',\n",
       " 'heating',\n",
       " 'home_utensils',\n",
       " 'hot_water',\n",
       " 'house_type',\n",
       " 'id',\n",
       " 'indoor fireplace',\n",
       " 'kitchen',\n",
       " 'link',\n",
       " 'mean_per_prov',\n",
       " 'oven',\n",
       " 'paid parking',\n",
       " 'pool',\n",
       " 'price',\n",
       " 'province',\n",
       " 'rating',\n",
       " 'rating_count',\n",
       " 'refrigerator',\n",
       " 'sauna',\n",
       " 'shampoo',\n",
       " 'ski-in',\n",
       " 'soap',\n",
       " 'sound system',\n",
       " 'stove',\n",
       " 'superhost',\n",
       " 'tv',\n",
       " 'view',\n",
       " 'washer',\n",
       " 'wifi']"
      ]
     },
     "execution_count": 211,
     "metadata": {},
     "output_type": "execute_result"
    }
   ],
   "source": [
    "x = list(df.columns)\n",
    "x.sort()\n",
    "x"
   ]
  },
  {
   "cell_type": "code",
   "execution_count": 304,
   "id": "88a35fc9-ed78-4f81-a568-274fc89941ff",
   "metadata": {},
   "outputs": [],
   "source": [
    "df.to_csv('data_v9.csv')"
   ]
  },
  {
   "cell_type": "code",
   "execution_count": null,
   "id": "575a13cb-dabd-4c1a-be14-20f4c3417e2c",
   "metadata": {},
   "outputs": [],
   "source": []
  }
 ],
 "metadata": {
  "kernelspec": {
   "display_name": "Python 3 (ipykernel)",
   "language": "python",
   "name": "python3"
  },
  "language_info": {
   "codemirror_mode": {
    "name": "ipython",
    "version": 3
   },
   "file_extension": ".py",
   "mimetype": "text/x-python",
   "name": "python",
   "nbconvert_exporter": "python",
   "pygments_lexer": "ipython3",
   "version": "3.8.11"
  }
 },
 "nbformat": 4,
 "nbformat_minor": 5
}
