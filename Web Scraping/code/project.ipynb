{
 "cells": [
  {
   "cell_type": "markdown",
   "id": "cc2e13e4-13a8-4248-b216-a9123d1461bf",
   "metadata": {},
   "source": [
    "## PROJECT 2"
   ]
  },
  {
   "cell_type": "markdown",
   "id": "43058c6f-d4a9-4a80-a391-d626ef6c9651",
   "metadata": {},
   "source": [
    "### imports"
   ]
  },
  {
   "cell_type": "code",
   "execution_count": 35,
   "id": "3d0af04e-94e6-4a80-aff7-88cc78ecb8c3",
   "metadata": {},
   "outputs": [],
   "source": [
    "from bs4 import BeautifulSoup\n",
    "import requests\n",
    "import time, os\n",
    "import pandas as pd\n",
    "import datetime\n",
    "import numpy as np\n",
    "from selenium import webdriver\n",
    "from selenium.webdriver.common.keys import Keys\n",
    "import regex as re"
   ]
  },
  {
   "cell_type": "markdown",
   "id": "60fa8a1e-bfb5-47b8-98df-ea7baf0f677e",
   "metadata": {},
   "source": [
    "### constants"
   ]
  },
  {
   "cell_type": "code",
   "execution_count": 36,
   "id": "31221c61-2a6f-4346-80b6-83a4dcf5d88f",
   "metadata": {},
   "outputs": [],
   "source": [
    "url = 'https://www.airbnb.com/s/homes?refinement_paths[]=%2Fhomes&date_picker_type=flexible_dates&search_mode=flex_destinations_search'\n",
    "tag_ctg = '&category_tag=Tag%'\n",
    "root = 'https://www.airbnb.com'\n",
    "\n",
    "tag_list = {'Beachfront':'3A789', 'Shipping containers':'3A8157', 'Cabins':'3A5348','Yurts':'3A8192','Amazing pools':'3A677',\n",
    "            'Domes':'3A8173', 'Cycladic Houses':'3A8227', 'A-frames':'3A8148', 'Islands':'3A675', 'Campers':'3A8166',\n",
    "            'Tiny homes':'3A8186', 'Farms':'3A8175', 'Houseboats':'3A8176', 'Castles':'3A8047', 'Barns':'3A8159', \n",
    "            'Boats':'3A1073', 'Ryokans':'3A8228', 'Treehouses':'3A8188', 'Kezhan':'3A8231', 'Trulli':'3A8229'}\n",
    "\n",
    "c = pd.read_csv(r\"C:\\Users\\elaaf\\Desktop\\SDS\\Project_2\\Data\\list_of_cities_of_saudi_arabia-1648j.csv\")\n",
    "cities = c['City name']\n"
   ]
  },
  {
   "cell_type": "code",
   "execution_count": 37,
   "id": "6f8214d6-83ac-48b9-8aa4-e11e9709b787",
   "metadata": {},
   "outputs": [],
   "source": [
    "amenities_not_included = [\"Bathroom\",\"Bedroom and laundry\",\"Essentials\",\"Towels, bed sheets, soap, and toilet paper\",\n",
    "                           \"Entertainment\",\"Family\",\"Heating and cooling\",\"Home safety\",\"Internet and office\"\n",
    "                           \"Available throughout the listing\",\"A desk or table with a chair and space for a laptop.\"\n",
    "                           \"Kitchen and dining\",\"Bowls, chopsticks, plates, cups, etc.\",\"Location features\"\n",
    "                           \"Separate street or building entrance\",\"Outdoor\",\"Parking and facilities\",\"Services\"\n",
    "                           \"Not included\",\"Bowls, chopsticks, plates, cups, etc.\",\"Separate street or building entrance\",\n",
    "                           \"An open space on the property usually covered in grass\",\"Breakfast is provided\",\"Allow stay for 28 days or more\",\n",
    "                           \"Someone is available 24 hours a day to let guests in\",\"This place may not have a smoke detector. Reach out to the host with any questions.\",\n",
    "                           \"This place may not have a carbon monoxide detector. Reach out to the host with any questions.\"]"
   ]
  },
  {
   "cell_type": "markdown",
   "id": "0b5f58e8-7d3e-4b63-a3f1-8b8a4ae2a2bd",
   "metadata": {},
   "source": [
    "### functions"
   ]
  },
  {
   "cell_type": "code",
   "execution_count": 38,
   "id": "5a8d7e02-7e50-4825-b3f0-1b52d76239d2",
   "metadata": {},
   "outputs": [],
   "source": [
    "## set up firefox driver\n",
    "DRIVER_PATH = 'C:\\Program Files\\Mozilla Firefox\\geckodriver-v0.30.0-win64/geckodriver.exe'\n",
    "def driver_set_up_firefox():\n",
    "    geckodriver = \"C:\\Program Files\\Mozilla Firefox\\geckodriver-v0.30.0-win64\" # path to the chromedriver executable\n",
    "    os.environ[\"webdriver.firefox.driver\"] = geckodriver\n",
    "    \n",
    "    \n",
    "    \n",
    "    firefox_profile = webdriver.FirefoxProfile()\n",
    "    firefox_profile.set_preference('permissions.default.image', 2)\n",
    "    firefox_profile.set_preference('dom.ipc.plugins.enabled.libflashplayer.so', 'false')\n",
    "\n",
    "    driver = webdriver.Firefox(executable_path=DRIVER_PATH, firefox_profile=firefox_profile)\n",
    "    \n",
    "    \n",
    "    return driver"
   ]
  },
  {
   "cell_type": "code",
   "execution_count": 39,
   "id": "e5492ada-20a5-4889-8e73-180a0d61054c",
   "metadata": {},
   "outputs": [],
   "source": [
    "def open_city_page(city, driver):\n",
    "    \n",
    "    driver.find_element_by_css_selector('button._b2fxuo:nth-child(2)').click()\n",
    "    #time.sleep(4)\n",
    "    \n",
    "    search_box = driver.find_element_by_xpath('//*[@id=\"bigsearch-query-attached-location-input\"]')\n",
    "\n",
    "    \n",
    "    search_box.clear()\n",
    "    \n",
    "    search_box.send_keys(city+', Saudi Arabia')\n",
    "    \n",
    "    search_box.send_keys(Keys.RETURN)  \n",
    "\n",
    "    time.sleep(3)\n",
    "    \n",
    "    search_button = driver.find_element_by_css_selector('._1mzhry13')\n",
    "\n",
    "    search_button.click()\n",
    "    \n"
   ]
  },
  {
   "cell_type": "code",
   "execution_count": 40,
   "id": "b59c4b72-0638-4fb4-9c65-7bea3bd3e6ce",
   "metadata": {},
   "outputs": [],
   "source": [
    "def get_pages_links(soup):\n",
    "    link = soup.find_all('a', class_ ='_1y623pm')\n",
    "    \n",
    "    if link != []:\n",
    "        last_link=link[-1].get('href')\n",
    "        le = last_link.find('items_offset=')\n",
    "        txt = last_link[le:]\n",
    "\n",
    "        start = txt.find('=') + le + 1\n",
    "        end = txt.find('&') + le\n",
    "        max_offset = last_link[start:end]\n",
    "        \n",
    "        L = [root+last_link]\n",
    "        \n",
    "        i=0\n",
    "        \n",
    "        while (i!=int(max_offset)):\n",
    "            L.append(root+last_link[:start]+str(i)+'&section_offset=2')\n",
    "            i+=20\n",
    "           \n",
    "        return L\n",
    "        \n",
    "    return []"
   ]
  },
  {
   "cell_type": "code",
   "execution_count": 41,
   "id": "63f2255e-3c4b-4c9e-9ddc-3ab1791f1895",
   "metadata": {},
   "outputs": [],
   "source": [
    "## find all links for all houses \n",
    "\n",
    "def find_links_of_a_page(soup):\n",
    "    links_a = soup.find_all('a', class_='_mm360j')\n",
    "    links = []\n",
    "    for l in links_a:\n",
    "        links.append(root + l.get('href'))\n",
    "    return links"
   ]
  },
  {
   "cell_type": "code",
   "execution_count": 42,
   "id": "8f9966cb-92c5-437a-9286-c5cb85917a2a",
   "metadata": {},
   "outputs": [],
   "source": [
    "def get_links():\n",
    "    driver = driver_set_up_firefox()\n",
    "    url = 'https://www.airbnb.com/s/Rabigh-Saudi-Arabia/homes?refinement_paths%5B%5D=%2Fhomes&flexible_trip_dates%5B%5D=november&flexible_trip_dates%5B%5D=october&flexible_trip_lengths%5B%5D=weekend_trip&date_picker_type=calendar&source=structured_search_input_header&search_type=user_map_move&click_referer=t%3ASEE_ALL%7Csid%3A7a124ac4-292c-45d6-87f1-de36f25a8936%7Cst%3ASTAYS_LARGE_AREA_DESTINATION_CAROUSELS&tab_id=home_tab&query=Saudi%20Arabia&ne_lat=22.872738901828196&ne_lng=39.99952439880374&sw_lat=22.41265888730569&sw_lng=38.59464768981937&zoom=10&search_by_map=true'\n",
    "    driver.get(url)\n",
    "    time.sleep(2)\n",
    "    \n",
    "    for city in cities:\n",
    "        print(city)\n",
    "        open_city_page(city, driver)\n",
    "        time.sleep(2)\n",
    "        soup = BeautifulSoup(driver.page_source, 'html.parser')\n",
    "        links = get_pages_links(soup)\n",
    "        \n",
    "        for l in links:\n",
    "            driver.get(l)\n",
    "            time.sleep(3)\n",
    "            soup =  BeautifulSoup(driver.page_source, 'html.parser')\n",
    "            pages = find_links_of_a_page(soup)\n",
    "            for p in pages:\n",
    "                tab_links.append(p)\n",
    "        \n",
    "    \n",
    "    driver.close()\n",
    "    #return tab_links\n",
    "    \n",
    "    "
   ]
  },
  {
   "cell_type": "markdown",
   "id": "e63ad789-41bf-438e-ab13-435a0a079779",
   "metadata": {},
   "source": [
    "### Total links code"
   ]
  },
  {
   "cell_type": "code",
   "execution_count": 36,
   "id": "95f2a601-c46b-4166-be4c-0116175f2a8e",
   "metadata": {
    "collapsed": true,
    "jupyter": {
     "outputs_hidden": true
    },
    "tags": []
   },
   "outputs": [
    {
     "name": "stdout",
     "output_type": "stream",
     "text": [
      "Al-Abwa\n",
      "Al Artaweeiyah\n",
      "Badr\n",
      "Baljurashi\n",
      "Bisha\n",
      "Bareg\n",
      "Buraydah\n",
      "Al Bahah\n",
      "Buq a\n",
      "Dammam\n",
      "Dhahran\n",
      "Dhurma\n",
      "Dahaban\n",
      "Diriyah\n",
      "Duba\n",
      "Dumat Al-Jandal\n",
      "Dawadmi\n",
      "Farasan city\n",
      "Gatgat\n",
      "Gerrha\n",
      "Gurayat\n",
      "Al-Gwei'iyyah\n",
      "Hautat Sudair\n",
      "Habala\n",
      "Hajrah\n",
      "Haql\n",
      "Al-Hareeq\n",
      "Harmah\n",
      "Ha'il\n",
      "Hotat Bani Tamim\n",
      "Hofuf\n",
      "Huraymila\n",
      "Hafr Al-Batin\n",
      "Jabal Umm al Ru'us\n",
      "Jalajil\n",
      "Al Jawf\n",
      "Jeddah\n",
      "Jizan\n",
      "Jizan Economic City\n",
      "Jubail\n",
      "Al Jafer\n",
      "Khafji\n",
      "Khaybar\n",
      "King Abdullah Economic City\n",
      "Khamis Mushayt\n",
      "Al Kharj\n",
      "Knowledge Economic City , Medina\n",
      "Khobar\n",
      "Al-Khutt\n",
      "Layla\n",
      "Lihyan\n",
      "Al Lith\n",
      "Al Majma'ah\n",
      "Mastoorah\n",
      "Al Mikhwah\n",
      "Al-Mubarraz\n",
      "Al Mawain\n",
      "Mecca\n",
      "Medina\n",
      "Muzahmiyya\n",
      "Najran\n",
      "Al-Namas\n",
      "Omloj\n",
      "Al-Omran\n",
      "Al-Oyoon\n",
      "Qadeimah\n",
      "Qatif\n",
      "Qaisumah\n",
      "Al Qunfudhah\n",
      "Rabigh\n",
      "Rafha\n",
      "Ar Rass\n",
      "Ras Tanura\n",
      "Riyadh\n",
      "Riyadh Al-Khabra\n",
      "Rumailah\n",
      "Sabt Al Alaya\n",
      "Saihat\n",
      "Safwa city\n",
      "Sakakah\n",
      "Sharurah\n",
      "Shaqraa\n",
      "Shaybah\n",
      "As Sulayyil\n",
      "Taif\n",
      "Tabuk\n",
      "Tanomah\n",
      "Tarout\n",
      "Tayma\n",
      "Thadiq\n",
      "Thuwal\n",
      "Thuqbah\n",
      "Turaif\n",
      "Tabarjal\n",
      "Udhailiyah\n",
      "Al-`Ula\n",
      "Um Al-Sahek\n",
      "Unaizah\n",
      "Uqair\n",
      "'Uyayna\n",
      "Uyun AlJiwa\n",
      "Wadi Al-Dawasir\n",
      "Al Wajh\n",
      "Yanbu\n",
      "Az Zaimah\n",
      "Zulfi\n"
     ]
    }
   ],
   "source": [
    "tab_links = [] \n",
    "\n",
    "\n",
    "get_links()"
   ]
  },
  {
   "cell_type": "code",
   "execution_count": 83,
   "id": "3e90b9ce-eae2-41ba-8725-e0a8e32b54f7",
   "metadata": {},
   "outputs": [],
   "source": [
    "links_df = pd.DataFrame(tab_links)"
   ]
  },
  {
   "cell_type": "code",
   "execution_count": 34,
   "id": "cb43379f-c4ab-44bf-9f00-df8e22202f2f",
   "metadata": {},
   "outputs": [],
   "source": [
    "#pd.to_pickle(links_df, 'links_.csv')\n",
    "tab_links = pd.read_pickle('links_.csv').iloc[:, 0] "
   ]
  },
  {
   "cell_type": "code",
   "execution_count": 18,
   "id": "84021f82-2fef-443f-95ea-cf7d93a36ee5",
   "metadata": {},
   "outputs": [
    {
     "data": {
      "text/plain": [
       "(4972, 579)"
      ]
     },
     "execution_count": 18,
     "metadata": {},
     "output_type": "execute_result"
    }
   ],
   "source": [
    "df.shape"
   ]
  },
  {
   "cell_type": "markdown",
   "id": "a0460e6d-0b2a-41ef-b6f9-060cdd95eab2",
   "metadata": {},
   "source": [
    "### Data Collection"
   ]
  },
  {
   "cell_type": "code",
   "execution_count": 288,
   "id": "4166e0d9-0363-4da9-8cde-285c02335e35",
   "metadata": {},
   "outputs": [],
   "source": [
    "df = pd.DataFrame(columns=['rating', 'house_count', 'city',\n",
    "                          'province', 'country', 'superhost',\n",
    "                          'price', 'start_date', 'end_date', 'house_type'])\n",
    "\n",
    "\n"
   ]
  },
  {
   "cell_type": "code",
   "execution_count": 414,
   "id": "30aa77a4-3418-4dcd-9190-1344f1e1f4de",
   "metadata": {},
   "outputs": [
    {
     "ename": "KeyboardInterrupt",
     "evalue": "",
     "output_type": "error",
     "traceback": [
      "\u001b[1;31m---------------------------------------------------------------------------\u001b[0m",
      "\u001b[1;31mKeyboardInterrupt\u001b[0m                         Traceback (most recent call last)",
      "\u001b[1;32m~\\AppData\\Local\\Temp/ipykernel_23660/3505993030.py\u001b[0m in \u001b[0;36m<module>\u001b[1;34m\u001b[0m\n\u001b[1;32m----> 1\u001b[1;33m \u001b[0mdriver\u001b[0m \u001b[1;33m=\u001b[0m \u001b[0mdriver_set_up_firefox\u001b[0m\u001b[1;33m(\u001b[0m\u001b[1;33m)\u001b[0m\u001b[1;33m\u001b[0m\u001b[1;33m\u001b[0m\u001b[0m\n\u001b[0m\u001b[0;32m      2\u001b[0m \u001b[1;33m\u001b[0m\u001b[0m\n\u001b[0;32m      3\u001b[0m \u001b[0mL\u001b[0m \u001b[1;33m=\u001b[0m \u001b[1;33m[\u001b[0m\u001b[1;33m]\u001b[0m\u001b[1;33m\u001b[0m\u001b[1;33m\u001b[0m\u001b[0m\n\u001b[0;32m      4\u001b[0m \u001b[1;33m\u001b[0m\u001b[0m\n\u001b[0;32m      5\u001b[0m cols = ['rating', 'house_rating_count', 'city',\n",
      "\u001b[1;32m~\\AppData\\Local\\Temp/ipykernel_23660/1622848281.py\u001b[0m in \u001b[0;36mdriver_set_up_firefox\u001b[1;34m()\u001b[0m\n\u001b[0;32m     11\u001b[0m     \u001b[0mfirefox_profile\u001b[0m\u001b[1;33m.\u001b[0m\u001b[0mset_preference\u001b[0m\u001b[1;33m(\u001b[0m\u001b[1;34m'dom.ipc.plugins.enabled.libflashplayer.so'\u001b[0m\u001b[1;33m,\u001b[0m \u001b[1;34m'false'\u001b[0m\u001b[1;33m)\u001b[0m\u001b[1;33m\u001b[0m\u001b[1;33m\u001b[0m\u001b[0m\n\u001b[0;32m     12\u001b[0m \u001b[1;33m\u001b[0m\u001b[0m\n\u001b[1;32m---> 13\u001b[1;33m     \u001b[0mdriver\u001b[0m \u001b[1;33m=\u001b[0m \u001b[0mwebdriver\u001b[0m\u001b[1;33m.\u001b[0m\u001b[0mFirefox\u001b[0m\u001b[1;33m(\u001b[0m\u001b[0mexecutable_path\u001b[0m\u001b[1;33m=\u001b[0m\u001b[0mDRIVER_PATH\u001b[0m\u001b[1;33m,\u001b[0m \u001b[0mfirefox_profile\u001b[0m\u001b[1;33m=\u001b[0m\u001b[0mfirefox_profile\u001b[0m\u001b[1;33m)\u001b[0m\u001b[1;33m\u001b[0m\u001b[1;33m\u001b[0m\u001b[0m\n\u001b[0m\u001b[0;32m     14\u001b[0m \u001b[1;33m\u001b[0m\u001b[0m\n\u001b[0;32m     15\u001b[0m \u001b[1;33m\u001b[0m\u001b[0m\n",
      "\u001b[1;32m~\\anaconda3\\lib\\site-packages\\selenium\\webdriver\\firefox\\webdriver.py\u001b[0m in \u001b[0;36m__init__\u001b[1;34m(self, firefox_profile, firefox_binary, timeout, capabilities, proxy, executable_path, options, service_log_path, firefox_options, service_args, desired_capabilities, log_path, keep_alive)\u001b[0m\n\u001b[0;32m    168\u001b[0m             executor = FirefoxRemoteConnection(\n\u001b[0;32m    169\u001b[0m                 remote_server_addr=self.service.service_url)\n\u001b[1;32m--> 170\u001b[1;33m             RemoteWebDriver.__init__(\n\u001b[0m\u001b[0;32m    171\u001b[0m                 \u001b[0mself\u001b[0m\u001b[1;33m,\u001b[0m\u001b[1;33m\u001b[0m\u001b[1;33m\u001b[0m\u001b[0m\n\u001b[0;32m    172\u001b[0m                 \u001b[0mcommand_executor\u001b[0m\u001b[1;33m=\u001b[0m\u001b[0mexecutor\u001b[0m\u001b[1;33m,\u001b[0m\u001b[1;33m\u001b[0m\u001b[1;33m\u001b[0m\u001b[0m\n",
      "\u001b[1;32m~\\anaconda3\\lib\\site-packages\\selenium\\webdriver\\remote\\webdriver.py\u001b[0m in \u001b[0;36m__init__\u001b[1;34m(self, command_executor, desired_capabilities, browser_profile, proxy, keep_alive, file_detector, options)\u001b[0m\n\u001b[0;32m    155\u001b[0m             warnings.warn(\"Please use FirefoxOptions to set browser profile\",\n\u001b[0;32m    156\u001b[0m                           DeprecationWarning, stacklevel=2)\n\u001b[1;32m--> 157\u001b[1;33m         \u001b[0mself\u001b[0m\u001b[1;33m.\u001b[0m\u001b[0mstart_session\u001b[0m\u001b[1;33m(\u001b[0m\u001b[0mcapabilities\u001b[0m\u001b[1;33m,\u001b[0m \u001b[0mbrowser_profile\u001b[0m\u001b[1;33m)\u001b[0m\u001b[1;33m\u001b[0m\u001b[1;33m\u001b[0m\u001b[0m\n\u001b[0m\u001b[0;32m    158\u001b[0m         \u001b[0mself\u001b[0m\u001b[1;33m.\u001b[0m\u001b[0m_switch_to\u001b[0m \u001b[1;33m=\u001b[0m \u001b[0mSwitchTo\u001b[0m\u001b[1;33m(\u001b[0m\u001b[0mself\u001b[0m\u001b[1;33m)\u001b[0m\u001b[1;33m\u001b[0m\u001b[1;33m\u001b[0m\u001b[0m\n\u001b[0;32m    159\u001b[0m         \u001b[0mself\u001b[0m\u001b[1;33m.\u001b[0m\u001b[0m_mobile\u001b[0m \u001b[1;33m=\u001b[0m \u001b[0mMobile\u001b[0m\u001b[1;33m(\u001b[0m\u001b[0mself\u001b[0m\u001b[1;33m)\u001b[0m\u001b[1;33m\u001b[0m\u001b[1;33m\u001b[0m\u001b[0m\n",
      "\u001b[1;32m~\\anaconda3\\lib\\site-packages\\selenium\\webdriver\\remote\\webdriver.py\u001b[0m in \u001b[0;36mstart_session\u001b[1;34m(self, capabilities, browser_profile)\u001b[0m\n\u001b[0;32m    250\u001b[0m         parameters = {\"capabilities\": w3c_caps,\n\u001b[0;32m    251\u001b[0m                       \"desiredCapabilities\": capabilities}\n\u001b[1;32m--> 252\u001b[1;33m         \u001b[0mresponse\u001b[0m \u001b[1;33m=\u001b[0m \u001b[0mself\u001b[0m\u001b[1;33m.\u001b[0m\u001b[0mexecute\u001b[0m\u001b[1;33m(\u001b[0m\u001b[0mCommand\u001b[0m\u001b[1;33m.\u001b[0m\u001b[0mNEW_SESSION\u001b[0m\u001b[1;33m,\u001b[0m \u001b[0mparameters\u001b[0m\u001b[1;33m)\u001b[0m\u001b[1;33m\u001b[0m\u001b[1;33m\u001b[0m\u001b[0m\n\u001b[0m\u001b[0;32m    253\u001b[0m         \u001b[1;32mif\u001b[0m \u001b[1;34m'sessionId'\u001b[0m \u001b[1;32mnot\u001b[0m \u001b[1;32min\u001b[0m \u001b[0mresponse\u001b[0m\u001b[1;33m:\u001b[0m\u001b[1;33m\u001b[0m\u001b[1;33m\u001b[0m\u001b[0m\n\u001b[0;32m    254\u001b[0m             \u001b[0mresponse\u001b[0m \u001b[1;33m=\u001b[0m \u001b[0mresponse\u001b[0m\u001b[1;33m[\u001b[0m\u001b[1;34m'value'\u001b[0m\u001b[1;33m]\u001b[0m\u001b[1;33m\u001b[0m\u001b[1;33m\u001b[0m\u001b[0m\n",
      "\u001b[1;32m~\\anaconda3\\lib\\site-packages\\selenium\\webdriver\\remote\\webdriver.py\u001b[0m in \u001b[0;36mexecute\u001b[1;34m(self, driver_command, params)\u001b[0m\n\u001b[0;32m    317\u001b[0m \u001b[1;33m\u001b[0m\u001b[0m\n\u001b[0;32m    318\u001b[0m         \u001b[0mparams\u001b[0m \u001b[1;33m=\u001b[0m \u001b[0mself\u001b[0m\u001b[1;33m.\u001b[0m\u001b[0m_wrap_value\u001b[0m\u001b[1;33m(\u001b[0m\u001b[0mparams\u001b[0m\u001b[1;33m)\u001b[0m\u001b[1;33m\u001b[0m\u001b[1;33m\u001b[0m\u001b[0m\n\u001b[1;32m--> 319\u001b[1;33m         \u001b[0mresponse\u001b[0m \u001b[1;33m=\u001b[0m \u001b[0mself\u001b[0m\u001b[1;33m.\u001b[0m\u001b[0mcommand_executor\u001b[0m\u001b[1;33m.\u001b[0m\u001b[0mexecute\u001b[0m\u001b[1;33m(\u001b[0m\u001b[0mdriver_command\u001b[0m\u001b[1;33m,\u001b[0m \u001b[0mparams\u001b[0m\u001b[1;33m)\u001b[0m\u001b[1;33m\u001b[0m\u001b[1;33m\u001b[0m\u001b[0m\n\u001b[0m\u001b[0;32m    320\u001b[0m         \u001b[1;32mif\u001b[0m \u001b[0mresponse\u001b[0m\u001b[1;33m:\u001b[0m\u001b[1;33m\u001b[0m\u001b[1;33m\u001b[0m\u001b[0m\n\u001b[0;32m    321\u001b[0m             \u001b[0mself\u001b[0m\u001b[1;33m.\u001b[0m\u001b[0merror_handler\u001b[0m\u001b[1;33m.\u001b[0m\u001b[0mcheck_response\u001b[0m\u001b[1;33m(\u001b[0m\u001b[0mresponse\u001b[0m\u001b[1;33m)\u001b[0m\u001b[1;33m\u001b[0m\u001b[1;33m\u001b[0m\u001b[0m\n",
      "\u001b[1;32m~\\anaconda3\\lib\\site-packages\\selenium\\webdriver\\remote\\remote_connection.py\u001b[0m in \u001b[0;36mexecute\u001b[1;34m(self, command, params)\u001b[0m\n\u001b[0;32m    372\u001b[0m         \u001b[0mdata\u001b[0m \u001b[1;33m=\u001b[0m \u001b[0mutils\u001b[0m\u001b[1;33m.\u001b[0m\u001b[0mdump_json\u001b[0m\u001b[1;33m(\u001b[0m\u001b[0mparams\u001b[0m\u001b[1;33m)\u001b[0m\u001b[1;33m\u001b[0m\u001b[1;33m\u001b[0m\u001b[0m\n\u001b[0;32m    373\u001b[0m         \u001b[0murl\u001b[0m \u001b[1;33m=\u001b[0m \u001b[1;34m'%s%s'\u001b[0m \u001b[1;33m%\u001b[0m \u001b[1;33m(\u001b[0m\u001b[0mself\u001b[0m\u001b[1;33m.\u001b[0m\u001b[0m_url\u001b[0m\u001b[1;33m,\u001b[0m \u001b[0mpath\u001b[0m\u001b[1;33m)\u001b[0m\u001b[1;33m\u001b[0m\u001b[1;33m\u001b[0m\u001b[0m\n\u001b[1;32m--> 374\u001b[1;33m         \u001b[1;32mreturn\u001b[0m \u001b[0mself\u001b[0m\u001b[1;33m.\u001b[0m\u001b[0m_request\u001b[0m\u001b[1;33m(\u001b[0m\u001b[0mcommand_info\u001b[0m\u001b[1;33m[\u001b[0m\u001b[1;36m0\u001b[0m\u001b[1;33m]\u001b[0m\u001b[1;33m,\u001b[0m \u001b[0murl\u001b[0m\u001b[1;33m,\u001b[0m \u001b[0mbody\u001b[0m\u001b[1;33m=\u001b[0m\u001b[0mdata\u001b[0m\u001b[1;33m)\u001b[0m\u001b[1;33m\u001b[0m\u001b[1;33m\u001b[0m\u001b[0m\n\u001b[0m\u001b[0;32m    375\u001b[0m \u001b[1;33m\u001b[0m\u001b[0m\n\u001b[0;32m    376\u001b[0m     \u001b[1;32mdef\u001b[0m \u001b[0m_request\u001b[0m\u001b[1;33m(\u001b[0m\u001b[0mself\u001b[0m\u001b[1;33m,\u001b[0m \u001b[0mmethod\u001b[0m\u001b[1;33m,\u001b[0m \u001b[0murl\u001b[0m\u001b[1;33m,\u001b[0m \u001b[0mbody\u001b[0m\u001b[1;33m=\u001b[0m\u001b[1;32mNone\u001b[0m\u001b[1;33m)\u001b[0m\u001b[1;33m:\u001b[0m\u001b[1;33m\u001b[0m\u001b[1;33m\u001b[0m\u001b[0m\n",
      "\u001b[1;32m~\\anaconda3\\lib\\site-packages\\selenium\\webdriver\\remote\\remote_connection.py\u001b[0m in \u001b[0;36m_request\u001b[1;34m(self, method, url, body)\u001b[0m\n\u001b[0;32m    395\u001b[0m \u001b[1;33m\u001b[0m\u001b[0m\n\u001b[0;32m    396\u001b[0m         \u001b[1;32mif\u001b[0m \u001b[0mself\u001b[0m\u001b[1;33m.\u001b[0m\u001b[0mkeep_alive\u001b[0m\u001b[1;33m:\u001b[0m\u001b[1;33m\u001b[0m\u001b[1;33m\u001b[0m\u001b[0m\n\u001b[1;32m--> 397\u001b[1;33m             \u001b[0mresp\u001b[0m \u001b[1;33m=\u001b[0m \u001b[0mself\u001b[0m\u001b[1;33m.\u001b[0m\u001b[0m_conn\u001b[0m\u001b[1;33m.\u001b[0m\u001b[0mrequest\u001b[0m\u001b[1;33m(\u001b[0m\u001b[0mmethod\u001b[0m\u001b[1;33m,\u001b[0m \u001b[0murl\u001b[0m\u001b[1;33m,\u001b[0m \u001b[0mbody\u001b[0m\u001b[1;33m=\u001b[0m\u001b[0mbody\u001b[0m\u001b[1;33m,\u001b[0m \u001b[0mheaders\u001b[0m\u001b[1;33m=\u001b[0m\u001b[0mheaders\u001b[0m\u001b[1;33m)\u001b[0m\u001b[1;33m\u001b[0m\u001b[1;33m\u001b[0m\u001b[0m\n\u001b[0m\u001b[0;32m    398\u001b[0m \u001b[1;33m\u001b[0m\u001b[0m\n\u001b[0;32m    399\u001b[0m             \u001b[0mstatuscode\u001b[0m \u001b[1;33m=\u001b[0m \u001b[0mresp\u001b[0m\u001b[1;33m.\u001b[0m\u001b[0mstatus\u001b[0m\u001b[1;33m\u001b[0m\u001b[1;33m\u001b[0m\u001b[0m\n",
      "\u001b[1;32m~\\anaconda3\\lib\\site-packages\\urllib3\\request.py\u001b[0m in \u001b[0;36mrequest\u001b[1;34m(self, method, url, fields, headers, **urlopen_kw)\u001b[0m\n\u001b[0;32m     76\u001b[0m             )\n\u001b[0;32m     77\u001b[0m         \u001b[1;32melse\u001b[0m\u001b[1;33m:\u001b[0m\u001b[1;33m\u001b[0m\u001b[1;33m\u001b[0m\u001b[0m\n\u001b[1;32m---> 78\u001b[1;33m             return self.request_encode_body(\n\u001b[0m\u001b[0;32m     79\u001b[0m                 \u001b[0mmethod\u001b[0m\u001b[1;33m,\u001b[0m \u001b[0murl\u001b[0m\u001b[1;33m,\u001b[0m \u001b[0mfields\u001b[0m\u001b[1;33m=\u001b[0m\u001b[0mfields\u001b[0m\u001b[1;33m,\u001b[0m \u001b[0mheaders\u001b[0m\u001b[1;33m=\u001b[0m\u001b[0mheaders\u001b[0m\u001b[1;33m,\u001b[0m \u001b[1;33m**\u001b[0m\u001b[0murlopen_kw\u001b[0m\u001b[1;33m\u001b[0m\u001b[1;33m\u001b[0m\u001b[0m\n\u001b[0;32m     80\u001b[0m             )\n",
      "\u001b[1;32m~\\anaconda3\\lib\\site-packages\\urllib3\\request.py\u001b[0m in \u001b[0;36mrequest_encode_body\u001b[1;34m(self, method, url, fields, headers, encode_multipart, multipart_boundary, **urlopen_kw)\u001b[0m\n\u001b[0;32m    168\u001b[0m         \u001b[0mextra_kw\u001b[0m\u001b[1;33m.\u001b[0m\u001b[0mupdate\u001b[0m\u001b[1;33m(\u001b[0m\u001b[0murlopen_kw\u001b[0m\u001b[1;33m)\u001b[0m\u001b[1;33m\u001b[0m\u001b[1;33m\u001b[0m\u001b[0m\n\u001b[0;32m    169\u001b[0m \u001b[1;33m\u001b[0m\u001b[0m\n\u001b[1;32m--> 170\u001b[1;33m         \u001b[1;32mreturn\u001b[0m \u001b[0mself\u001b[0m\u001b[1;33m.\u001b[0m\u001b[0murlopen\u001b[0m\u001b[1;33m(\u001b[0m\u001b[0mmethod\u001b[0m\u001b[1;33m,\u001b[0m \u001b[0murl\u001b[0m\u001b[1;33m,\u001b[0m \u001b[1;33m**\u001b[0m\u001b[0mextra_kw\u001b[0m\u001b[1;33m)\u001b[0m\u001b[1;33m\u001b[0m\u001b[1;33m\u001b[0m\u001b[0m\n\u001b[0m",
      "\u001b[1;32m~\\anaconda3\\lib\\site-packages\\urllib3\\poolmanager.py\u001b[0m in \u001b[0;36murlopen\u001b[1;34m(self, method, url, redirect, **kw)\u001b[0m\n\u001b[0;32m    373\u001b[0m             \u001b[0mresponse\u001b[0m \u001b[1;33m=\u001b[0m \u001b[0mconn\u001b[0m\u001b[1;33m.\u001b[0m\u001b[0murlopen\u001b[0m\u001b[1;33m(\u001b[0m\u001b[0mmethod\u001b[0m\u001b[1;33m,\u001b[0m \u001b[0murl\u001b[0m\u001b[1;33m,\u001b[0m \u001b[1;33m**\u001b[0m\u001b[0mkw\u001b[0m\u001b[1;33m)\u001b[0m\u001b[1;33m\u001b[0m\u001b[1;33m\u001b[0m\u001b[0m\n\u001b[0;32m    374\u001b[0m         \u001b[1;32melse\u001b[0m\u001b[1;33m:\u001b[0m\u001b[1;33m\u001b[0m\u001b[1;33m\u001b[0m\u001b[0m\n\u001b[1;32m--> 375\u001b[1;33m             \u001b[0mresponse\u001b[0m \u001b[1;33m=\u001b[0m \u001b[0mconn\u001b[0m\u001b[1;33m.\u001b[0m\u001b[0murlopen\u001b[0m\u001b[1;33m(\u001b[0m\u001b[0mmethod\u001b[0m\u001b[1;33m,\u001b[0m \u001b[0mu\u001b[0m\u001b[1;33m.\u001b[0m\u001b[0mrequest_uri\u001b[0m\u001b[1;33m,\u001b[0m \u001b[1;33m**\u001b[0m\u001b[0mkw\u001b[0m\u001b[1;33m)\u001b[0m\u001b[1;33m\u001b[0m\u001b[1;33m\u001b[0m\u001b[0m\n\u001b[0m\u001b[0;32m    376\u001b[0m \u001b[1;33m\u001b[0m\u001b[0m\n\u001b[0;32m    377\u001b[0m         \u001b[0mredirect_location\u001b[0m \u001b[1;33m=\u001b[0m \u001b[0mredirect\u001b[0m \u001b[1;32mand\u001b[0m \u001b[0mresponse\u001b[0m\u001b[1;33m.\u001b[0m\u001b[0mget_redirect_location\u001b[0m\u001b[1;33m(\u001b[0m\u001b[1;33m)\u001b[0m\u001b[1;33m\u001b[0m\u001b[1;33m\u001b[0m\u001b[0m\n",
      "\u001b[1;32m~\\anaconda3\\lib\\site-packages\\urllib3\\connectionpool.py\u001b[0m in \u001b[0;36murlopen\u001b[1;34m(self, method, url, body, headers, retries, redirect, assert_same_host, timeout, pool_timeout, release_conn, chunked, body_pos, **response_kw)\u001b[0m\n\u001b[0;32m    697\u001b[0m \u001b[1;33m\u001b[0m\u001b[0m\n\u001b[0;32m    698\u001b[0m             \u001b[1;31m# Make the request on the httplib connection object.\u001b[0m\u001b[1;33m\u001b[0m\u001b[1;33m\u001b[0m\u001b[1;33m\u001b[0m\u001b[0m\n\u001b[1;32m--> 699\u001b[1;33m             httplib_response = self._make_request(\n\u001b[0m\u001b[0;32m    700\u001b[0m                 \u001b[0mconn\u001b[0m\u001b[1;33m,\u001b[0m\u001b[1;33m\u001b[0m\u001b[1;33m\u001b[0m\u001b[0m\n\u001b[0;32m    701\u001b[0m                 \u001b[0mmethod\u001b[0m\u001b[1;33m,\u001b[0m\u001b[1;33m\u001b[0m\u001b[1;33m\u001b[0m\u001b[0m\n",
      "\u001b[1;32m~\\anaconda3\\lib\\site-packages\\urllib3\\connectionpool.py\u001b[0m in \u001b[0;36m_make_request\u001b[1;34m(self, conn, method, url, timeout, chunked, **httplib_request_kw)\u001b[0m\n\u001b[0;32m    443\u001b[0m                     \u001b[1;31m# Python 3 (including for exceptions like SystemExit).\u001b[0m\u001b[1;33m\u001b[0m\u001b[1;33m\u001b[0m\u001b[1;33m\u001b[0m\u001b[0m\n\u001b[0;32m    444\u001b[0m                     \u001b[1;31m# Otherwise it looks like a bug in the code.\u001b[0m\u001b[1;33m\u001b[0m\u001b[1;33m\u001b[0m\u001b[1;33m\u001b[0m\u001b[0m\n\u001b[1;32m--> 445\u001b[1;33m                     \u001b[0msix\u001b[0m\u001b[1;33m.\u001b[0m\u001b[0mraise_from\u001b[0m\u001b[1;33m(\u001b[0m\u001b[0me\u001b[0m\u001b[1;33m,\u001b[0m \u001b[1;32mNone\u001b[0m\u001b[1;33m)\u001b[0m\u001b[1;33m\u001b[0m\u001b[1;33m\u001b[0m\u001b[0m\n\u001b[0m\u001b[0;32m    446\u001b[0m         \u001b[1;32mexcept\u001b[0m \u001b[1;33m(\u001b[0m\u001b[0mSocketTimeout\u001b[0m\u001b[1;33m,\u001b[0m \u001b[0mBaseSSLError\u001b[0m\u001b[1;33m,\u001b[0m \u001b[0mSocketError\u001b[0m\u001b[1;33m)\u001b[0m \u001b[1;32mas\u001b[0m \u001b[0me\u001b[0m\u001b[1;33m:\u001b[0m\u001b[1;33m\u001b[0m\u001b[1;33m\u001b[0m\u001b[0m\n\u001b[0;32m    447\u001b[0m             \u001b[0mself\u001b[0m\u001b[1;33m.\u001b[0m\u001b[0m_raise_timeout\u001b[0m\u001b[1;33m(\u001b[0m\u001b[0merr\u001b[0m\u001b[1;33m=\u001b[0m\u001b[0me\u001b[0m\u001b[1;33m,\u001b[0m \u001b[0murl\u001b[0m\u001b[1;33m=\u001b[0m\u001b[0murl\u001b[0m\u001b[1;33m,\u001b[0m \u001b[0mtimeout_value\u001b[0m\u001b[1;33m=\u001b[0m\u001b[0mread_timeout\u001b[0m\u001b[1;33m)\u001b[0m\u001b[1;33m\u001b[0m\u001b[1;33m\u001b[0m\u001b[0m\n",
      "\u001b[1;32m~\\anaconda3\\lib\\site-packages\\urllib3\\packages\\six.py\u001b[0m in \u001b[0;36mraise_from\u001b[1;34m(value, from_value)\u001b[0m\n",
      "\u001b[1;32m~\\anaconda3\\lib\\site-packages\\urllib3\\connectionpool.py\u001b[0m in \u001b[0;36m_make_request\u001b[1;34m(self, conn, method, url, timeout, chunked, **httplib_request_kw)\u001b[0m\n\u001b[0;32m    438\u001b[0m                 \u001b[1;31m# Python 3\u001b[0m\u001b[1;33m\u001b[0m\u001b[1;33m\u001b[0m\u001b[1;33m\u001b[0m\u001b[0m\n\u001b[0;32m    439\u001b[0m                 \u001b[1;32mtry\u001b[0m\u001b[1;33m:\u001b[0m\u001b[1;33m\u001b[0m\u001b[1;33m\u001b[0m\u001b[0m\n\u001b[1;32m--> 440\u001b[1;33m                     \u001b[0mhttplib_response\u001b[0m \u001b[1;33m=\u001b[0m \u001b[0mconn\u001b[0m\u001b[1;33m.\u001b[0m\u001b[0mgetresponse\u001b[0m\u001b[1;33m(\u001b[0m\u001b[1;33m)\u001b[0m\u001b[1;33m\u001b[0m\u001b[1;33m\u001b[0m\u001b[0m\n\u001b[0m\u001b[0;32m    441\u001b[0m                 \u001b[1;32mexcept\u001b[0m \u001b[0mBaseException\u001b[0m \u001b[1;32mas\u001b[0m \u001b[0me\u001b[0m\u001b[1;33m:\u001b[0m\u001b[1;33m\u001b[0m\u001b[1;33m\u001b[0m\u001b[0m\n\u001b[0;32m    442\u001b[0m                     \u001b[1;31m# Remove the TypeError from the exception chain in\u001b[0m\u001b[1;33m\u001b[0m\u001b[1;33m\u001b[0m\u001b[1;33m\u001b[0m\u001b[0m\n",
      "\u001b[1;32m~\\anaconda3\\lib\\http\\client.py\u001b[0m in \u001b[0;36mgetresponse\u001b[1;34m(self)\u001b[0m\n\u001b[0;32m   1346\u001b[0m         \u001b[1;32mtry\u001b[0m\u001b[1;33m:\u001b[0m\u001b[1;33m\u001b[0m\u001b[1;33m\u001b[0m\u001b[0m\n\u001b[0;32m   1347\u001b[0m             \u001b[1;32mtry\u001b[0m\u001b[1;33m:\u001b[0m\u001b[1;33m\u001b[0m\u001b[1;33m\u001b[0m\u001b[0m\n\u001b[1;32m-> 1348\u001b[1;33m                 \u001b[0mresponse\u001b[0m\u001b[1;33m.\u001b[0m\u001b[0mbegin\u001b[0m\u001b[1;33m(\u001b[0m\u001b[1;33m)\u001b[0m\u001b[1;33m\u001b[0m\u001b[1;33m\u001b[0m\u001b[0m\n\u001b[0m\u001b[0;32m   1349\u001b[0m             \u001b[1;32mexcept\u001b[0m \u001b[0mConnectionError\u001b[0m\u001b[1;33m:\u001b[0m\u001b[1;33m\u001b[0m\u001b[1;33m\u001b[0m\u001b[0m\n\u001b[0;32m   1350\u001b[0m                 \u001b[0mself\u001b[0m\u001b[1;33m.\u001b[0m\u001b[0mclose\u001b[0m\u001b[1;33m(\u001b[0m\u001b[1;33m)\u001b[0m\u001b[1;33m\u001b[0m\u001b[1;33m\u001b[0m\u001b[0m\n",
      "\u001b[1;32m~\\anaconda3\\lib\\http\\client.py\u001b[0m in \u001b[0;36mbegin\u001b[1;34m(self)\u001b[0m\n\u001b[0;32m    314\u001b[0m         \u001b[1;31m# read until we get a non-100 response\u001b[0m\u001b[1;33m\u001b[0m\u001b[1;33m\u001b[0m\u001b[1;33m\u001b[0m\u001b[0m\n\u001b[0;32m    315\u001b[0m         \u001b[1;32mwhile\u001b[0m \u001b[1;32mTrue\u001b[0m\u001b[1;33m:\u001b[0m\u001b[1;33m\u001b[0m\u001b[1;33m\u001b[0m\u001b[0m\n\u001b[1;32m--> 316\u001b[1;33m             \u001b[0mversion\u001b[0m\u001b[1;33m,\u001b[0m \u001b[0mstatus\u001b[0m\u001b[1;33m,\u001b[0m \u001b[0mreason\u001b[0m \u001b[1;33m=\u001b[0m \u001b[0mself\u001b[0m\u001b[1;33m.\u001b[0m\u001b[0m_read_status\u001b[0m\u001b[1;33m(\u001b[0m\u001b[1;33m)\u001b[0m\u001b[1;33m\u001b[0m\u001b[1;33m\u001b[0m\u001b[0m\n\u001b[0m\u001b[0;32m    317\u001b[0m             \u001b[1;32mif\u001b[0m \u001b[0mstatus\u001b[0m \u001b[1;33m!=\u001b[0m \u001b[0mCONTINUE\u001b[0m\u001b[1;33m:\u001b[0m\u001b[1;33m\u001b[0m\u001b[1;33m\u001b[0m\u001b[0m\n\u001b[0;32m    318\u001b[0m                 \u001b[1;32mbreak\u001b[0m\u001b[1;33m\u001b[0m\u001b[1;33m\u001b[0m\u001b[0m\n",
      "\u001b[1;32m~\\anaconda3\\lib\\http\\client.py\u001b[0m in \u001b[0;36m_read_status\u001b[1;34m(self)\u001b[0m\n\u001b[0;32m    275\u001b[0m \u001b[1;33m\u001b[0m\u001b[0m\n\u001b[0;32m    276\u001b[0m     \u001b[1;32mdef\u001b[0m \u001b[0m_read_status\u001b[0m\u001b[1;33m(\u001b[0m\u001b[0mself\u001b[0m\u001b[1;33m)\u001b[0m\u001b[1;33m:\u001b[0m\u001b[1;33m\u001b[0m\u001b[1;33m\u001b[0m\u001b[0m\n\u001b[1;32m--> 277\u001b[1;33m         \u001b[0mline\u001b[0m \u001b[1;33m=\u001b[0m \u001b[0mstr\u001b[0m\u001b[1;33m(\u001b[0m\u001b[0mself\u001b[0m\u001b[1;33m.\u001b[0m\u001b[0mfp\u001b[0m\u001b[1;33m.\u001b[0m\u001b[0mreadline\u001b[0m\u001b[1;33m(\u001b[0m\u001b[0m_MAXLINE\u001b[0m \u001b[1;33m+\u001b[0m \u001b[1;36m1\u001b[0m\u001b[1;33m)\u001b[0m\u001b[1;33m,\u001b[0m \u001b[1;34m\"iso-8859-1\"\u001b[0m\u001b[1;33m)\u001b[0m\u001b[1;33m\u001b[0m\u001b[1;33m\u001b[0m\u001b[0m\n\u001b[0m\u001b[0;32m    278\u001b[0m         \u001b[1;32mif\u001b[0m \u001b[0mlen\u001b[0m\u001b[1;33m(\u001b[0m\u001b[0mline\u001b[0m\u001b[1;33m)\u001b[0m \u001b[1;33m>\u001b[0m \u001b[0m_MAXLINE\u001b[0m\u001b[1;33m:\u001b[0m\u001b[1;33m\u001b[0m\u001b[1;33m\u001b[0m\u001b[0m\n\u001b[0;32m    279\u001b[0m             \u001b[1;32mraise\u001b[0m \u001b[0mLineTooLong\u001b[0m\u001b[1;33m(\u001b[0m\u001b[1;34m\"status line\"\u001b[0m\u001b[1;33m)\u001b[0m\u001b[1;33m\u001b[0m\u001b[1;33m\u001b[0m\u001b[0m\n",
      "\u001b[1;32m~\\anaconda3\\lib\\socket.py\u001b[0m in \u001b[0;36mreadinto\u001b[1;34m(self, b)\u001b[0m\n\u001b[0;32m    667\u001b[0m         \u001b[1;32mwhile\u001b[0m \u001b[1;32mTrue\u001b[0m\u001b[1;33m:\u001b[0m\u001b[1;33m\u001b[0m\u001b[1;33m\u001b[0m\u001b[0m\n\u001b[0;32m    668\u001b[0m             \u001b[1;32mtry\u001b[0m\u001b[1;33m:\u001b[0m\u001b[1;33m\u001b[0m\u001b[1;33m\u001b[0m\u001b[0m\n\u001b[1;32m--> 669\u001b[1;33m                 \u001b[1;32mreturn\u001b[0m \u001b[0mself\u001b[0m\u001b[1;33m.\u001b[0m\u001b[0m_sock\u001b[0m\u001b[1;33m.\u001b[0m\u001b[0mrecv_into\u001b[0m\u001b[1;33m(\u001b[0m\u001b[0mb\u001b[0m\u001b[1;33m)\u001b[0m\u001b[1;33m\u001b[0m\u001b[1;33m\u001b[0m\u001b[0m\n\u001b[0m\u001b[0;32m    670\u001b[0m             \u001b[1;32mexcept\u001b[0m \u001b[0mtimeout\u001b[0m\u001b[1;33m:\u001b[0m\u001b[1;33m\u001b[0m\u001b[1;33m\u001b[0m\u001b[0m\n\u001b[0;32m    671\u001b[0m                 \u001b[0mself\u001b[0m\u001b[1;33m.\u001b[0m\u001b[0m_timeout_occurred\u001b[0m \u001b[1;33m=\u001b[0m \u001b[1;32mTrue\u001b[0m\u001b[1;33m\u001b[0m\u001b[1;33m\u001b[0m\u001b[0m\n",
      "\u001b[1;31mKeyboardInterrupt\u001b[0m: "
     ]
    }
   ],
   "source": [
    "\n",
    "\n",
    "driver = driver_set_up_firefox()\n",
    "\n",
    "L = []\n",
    "\n",
    "cols = ['rating', 'house_rating_count', 'city',\n",
    "        'province', 'country', 'superhost',\n",
    "        'price', 'start_date', 'end_date', 'house_type', 'link']\n",
    "\n",
    "\n",
    "for link in tab_links[4963:]:\n",
    "    \n",
    "    driver.get(link)\n",
    "    time.sleep(2)\n",
    "    soup = BeautifulSoup(driver.page_source, 'html.parser')\n",
    "    try:\n",
    "        city, prov, country = get_city_prov_country(soup)\n",
    "        \n",
    "    except:\n",
    "        continue\n",
    "    start_date, end_date = get_dates(soup)\n",
    "    \n",
    "    L = [get_rating(soup),\n",
    "        get_rating_count(soup),\n",
    "        city,\n",
    "        prov, \n",
    "        country,\n",
    "        get_superhost(soup),\n",
    "        get_price(soup),\n",
    "        start_date,\n",
    "        end_date,\n",
    "        get_house_type(soup),\n",
    "        link]\n",
    "    \n",
    "    d = {}\n",
    "    \n",
    "    \n",
    "    for e, r in zip(L, cols):\n",
    "        d[r] = e\n",
    "        #print(r, e)\n",
    "    \n",
    "    d.update(get_rooms_details(soup))  \n",
    "    d.update(get_amen(soup))\n",
    "    \n",
    "    DF = pd.DataFrame([d])\n",
    "    \n",
    "    df = pd.concat([df, DF])\n",
    "        \n",
    "driver.close()"
   ]
  },
  {
   "cell_type": "code",
   "execution_count": 389,
   "id": "c4d5bdab-2d77-4768-9c64-186d33a653cc",
   "metadata": {},
   "outputs": [],
   "source": [
    "x = df['link'].iloc[-1]"
   ]
  },
  {
   "cell_type": "code",
   "execution_count": 415,
   "id": "617dc6e1-d61f-452d-a0b2-54559bbabdb2",
   "metadata": {},
   "outputs": [
    {
     "data": {
      "text/plain": [
       "(4972, 580)"
      ]
     },
     "execution_count": 415,
     "metadata": {},
     "output_type": "execute_result"
    }
   ],
   "source": [
    "df.shape"
   ]
  },
  {
   "cell_type": "code",
   "execution_count": 391,
   "id": "e95f96fc-d8d3-4b98-8b23-4b6b07a1296e",
   "metadata": {},
   "outputs": [
    {
     "data": {
      "text/plain": [
       "4963    https://www.airbnb.com/rooms/52457484?previous...\n",
       "Name: 0, dtype: object"
      ]
     },
     "execution_count": 391,
     "metadata": {},
     "output_type": "execute_result"
    }
   ],
   "source": [
    "tab_links[tab_links == x]\n"
   ]
  },
  {
   "cell_type": "code",
   "execution_count": 372,
   "id": "a2b35dca-8e42-4651-8e41-5fa989cb103b",
   "metadata": {},
   "outputs": [
    {
     "data": {
      "text/plain": [
       "'https://www.airbnb.com/rooms/34847655?previous_page_section_name=1000&translate_ugc=false&federated_search_id=48e1dc98-3a3e-4439-9067-9ef60a10fddb'"
      ]
     },
     "execution_count": 372,
     "metadata": {},
     "output_type": "execute_result"
    }
   ],
   "source": [
    "tab_links[2084]\n"
   ]
  },
  {
   "cell_type": "code",
   "execution_count": 19,
   "id": "99914157-df0f-4c78-9585-3f5dfbf8526d",
   "metadata": {},
   "outputs": [],
   "source": [
    "df.to_csv('uncleaned_airbnb.csv')"
   ]
  },
  {
   "cell_type": "markdown",
   "id": "1b287f99-431c-44be-87a7-ac57f3ca726a",
   "metadata": {},
   "source": [
    "### Data collection functions "
   ]
  },
  {
   "cell_type": "code",
   "execution_count": 274,
   "id": "59c177d0-521c-464b-8c2b-4211258fb331",
   "metadata": {
    "tags": []
   },
   "outputs": [],
   "source": [
    "def get_amen(soup):\n",
    "    d = {}\n",
    "    time.sleep(3)\n",
    "    amenities_button = driver.find_element_by_css_selector(\".b1sec48q\")\n",
    "    amenities_button.click()\n",
    "    \n",
    "    time.sleep(2)\n",
    "    soup = BeautifulSoup(driver.page_source, 'html.parser')\n",
    "    list_amenities = soup.find_all(\"div\", class_ = \"_gw4xx4\")\n",
    "    \n",
    "    \n",
    "    \n",
    "    Unav_amenities = []\n",
    "    av_amenities = []\n",
    "    round_num = 1\n",
    "    for x in list_amenities:\n",
    "        if(\"Unavailable\" in x.getText() and x.getText() not in amenities_not_included):\n",
    "            y = x.getText(separator=\" \")\n",
    "            y = y.replace(\"Unavailable: \",\"\")\n",
    "            z = y.split()\n",
    "            j = \" \".join(sorted(set(z), key=z.index))\n",
    "            Unav_amenities.append(j)\n",
    "            d[j] = 0\n",
    "        elif(\"Unavailable\" not in x.getText() and x.getText() not in amenities_not_included):\n",
    "            av_amenities.append(x.getText())\n",
    "            d[x.getText()] = 1\n",
    "        \n",
    "    return d\n",
    "            \n",
    "\n",
    "\n"
   ]
  },
  {
   "cell_type": "code",
   "execution_count": null,
   "id": "362985f1-d163-491a-a6ab-3f639b1f299c",
   "metadata": {},
   "outputs": [],
   "source": [
    "def get_house_type(soup):\n",
    "    host_Type = soup.find('div', class_='_88xxct').find(\"h2\")\n",
    "    house_text = host_Type.text\n",
    "    index = int(house_text.index(\" hosted\"))\n",
    "    return house_text[0:index]\n",
    "    "
   ]
  },
  {
   "cell_type": "code",
   "execution_count": 8,
   "id": "85128cc8-8ac1-47fa-9f49-2b0b656ac273",
   "metadata": {},
   "outputs": [],
   "source": [
    "## find house type and links \n",
    "\n",
    "def get_houses_types_and_urls(soup):\n",
    "    house_types = set(soup.find_all('div', {'class' : \"_j1kt73\"}))\n",
    "    house_types = set([i.text for i in house_types if i.text != 'More'])\n",
    "    links = []\n",
    "    for h in house_types:\n",
    "        links.append(url+tag_ctg+tag_list[h])\n",
    "    return house_types, links"
   ]
  },
  {
   "cell_type": "code",
   "execution_count": 9,
   "id": "8430e4b8-bf46-423e-b55f-ebe484796d9d",
   "metadata": {},
   "outputs": [],
   "source": [
    "## convert the price to an integer\n",
    "\n",
    "def price_to_float(moneystring):\n",
    "    moneystring = moneystring.replace('SR', '').replace(',', '')\n",
    "    return float(moneystring)"
   ]
  },
  {
   "cell_type": "code",
   "execution_count": 10,
   "id": "16b9eb89-b7cf-49aa-9aa9-195df42e40a0",
   "metadata": {},
   "outputs": [],
   "source": [
    "## convert the str to an date\n",
    "\n",
    "def str_to_date(string):\n",
    "    return datetime.datetime.strptime(string, '%m/%d/%Y').date()"
   ]
  },
  {
   "cell_type": "code",
   "execution_count": 258,
   "id": "c26d83dc-6fc8-4ff6-af6a-e6227b4346ac",
   "metadata": {},
   "outputs": [],
   "source": [
    "def get_rating(soup):\n",
    "    rating = soup.find('span', class_='_1ne5r4rt')\n",
    "    if rating != None and rating.text != '':\n",
    "        return float(rating.text)\n",
    "    else:\n",
    "        return np.nan"
   ]
  },
  {
   "cell_type": "code",
   "execution_count": 400,
   "id": "7a62494d-8454-4912-b9c7-b3207f388af5",
   "metadata": {},
   "outputs": [],
   "source": []
  },
  {
   "cell_type": "code",
   "execution_count": 296,
   "id": "760d76f0-7161-4a05-b27d-5d02ef1da6c7",
   "metadata": {},
   "outputs": [],
   "source": [
    "def get_city_prov_country(soup):\n",
    "    condition = soup.find('span', class_ = '_pbq7fmm')\n",
    "    if condition != None:\n",
    "        x = condition.text.split(',')\n",
    "        if len(x) < 2:\n",
    "            return 'Saudi Arabia', 'Saudi Arabia', 'Saudi Arabia'\n",
    "        elif len(x) == 2:\n",
    "            l = get_city_country(soup)\n",
    "            return l[0].strip(), l[0].strip(), l[1].strip()\n",
    "        \n",
    "        return x[0].strip(), x[1].strip(), x[2].strip()\n",
    "\n",
    "    return None, None, None"
   ]
  },
  {
   "cell_type": "code",
   "execution_count": 16,
   "id": "0a3bf1bb-d23f-47ab-bb90-7fb959b74053",
   "metadata": {},
   "outputs": [],
   "source": [
    "def get_superhost(soup):\n",
    "    condition = soup.find('span', class_='_63km3vu')\n",
    "    superhost = False\n",
    "    if condition != None:\n",
    "        superhost = True\n",
    "        \n",
    "    return superhost\n"
   ]
  },
  {
   "cell_type": "code",
   "execution_count": 17,
   "id": "fcd301a1-47bc-4b16-aa25-5244b0b00722",
   "metadata": {},
   "outputs": [],
   "source": [
    "def get_price(soup):\n",
    "    \n",
    "    s = soup.find('span', class_='_tyxjp1')\n",
    "    if s != None:\n",
    "        return price_to_float(s.text)\n",
    "    else:\n",
    "        return np.nan\n"
   ]
  },
  {
   "cell_type": "code",
   "execution_count": 18,
   "id": "7e9338e2-8b08-47b3-b736-69c16fa20eb3",
   "metadata": {},
   "outputs": [],
   "source": [
    "def get_dates(soup):\n",
    "    start_date = soup.find('div', {'class':'_1g8031c', 'data-testid':'change-dates-checkIn'})\n",
    "    end_date = soup.find('div', {'class':'_1g8031c', 'data-testid':'change-dates-checkOut'})\n",
    "    if start_date != None and end_date != None:\n",
    "        return str_to_date(start_date.text), str_to_date(end_date.text)\n",
    "    else:\n",
    "        return None, None"
   ]
  },
  {
   "cell_type": "code",
   "execution_count": 307,
   "id": "1993f820-64d5-4ded-b196-d3900b828ca3",
   "metadata": {},
   "outputs": [],
   "source": [
    "def get_rooms_details(soup):\n",
    "    temp = soup.find('div', {'class':'_tqmy57'})\n",
    "    allowed = ['bed', 'beds','guests', 'guest',\n",
    "              'bath', 'baths', ]\n",
    "    dictionary = {}\n",
    "    if temp != None:\n",
    "        temp = temp.find_all('span')\n",
    "        details = list(set([x.text.strip(' ,·') for x in temp]))\n",
    "        #print(details)\n",
    "        details.remove('')\n",
    "        for d in details:\n",
    "            t = d.split(' ')\n",
    "            if 'shared' in t or 'Shared' in t:\n",
    "                continue\n",
    "            if len(t) == 2:\n",
    "                dictionary[t[1]] = float(t[0])\n",
    "            else:\n",
    "                continue\n",
    "    return dictionary"
   ]
  },
  {
   "cell_type": "code",
   "execution_count": 21,
   "id": "6ebb88a7-4969-4305-b0a7-546e8728ea5d",
   "metadata": {},
   "outputs": [],
   "source": [
    "def build_urls(url, listings_per_page=20, pages_per_location=15):\n",
    "    \"\"\"Builds links for all search pages for a given location\"\"\"\n",
    "    \n",
    "    url_list = []\n",
    "    for i in range(pages_per_location):\n",
    "        offset = listings_per_page * i\n",
    "        url_pagination = url + f'&items_offset={offset}'\n",
    "        url_list.append(url_pagination)\n",
    "       \n",
    "    return url_list"
   ]
  },
  {
   "cell_type": "code",
   "execution_count": null,
   "id": "12cea86f-eda8-40c5-8ee7-ab1f774c57d6",
   "metadata": {},
   "outputs": [],
   "source": []
  },
  {
   "cell_type": "code",
   "execution_count": null,
   "id": "19f9f1df-80e9-4835-9b94-3868d1b8aad7",
   "metadata": {},
   "outputs": [],
   "source": []
  },
  {
   "cell_type": "code",
   "execution_count": null,
   "id": "eefb2226-2b48-45bc-863a-300794da44fb",
   "metadata": {},
   "outputs": [],
   "source": []
  },
  {
   "cell_type": "code",
   "execution_count": null,
   "id": "20b2c8af-a976-4fbb-ae3d-4f1a8d742b6d",
   "metadata": {},
   "outputs": [],
   "source": []
  },
  {
   "cell_type": "code",
   "execution_count": null,
   "id": "f20d584c-020f-4b21-b1c5-ea1064c379fb",
   "metadata": {},
   "outputs": [],
   "source": []
  },
  {
   "cell_type": "code",
   "execution_count": null,
   "id": "ff7cb7b7-ecd4-40d4-83b1-b0086c6318c7",
   "metadata": {},
   "outputs": [],
   "source": []
  },
  {
   "cell_type": "code",
   "execution_count": null,
   "id": "8afef0e8-0370-42cc-a8dd-1613060bdaf6",
   "metadata": {},
   "outputs": [],
   "source": []
  },
  {
   "cell_type": "markdown",
   "id": "105c2c48-e4c4-44e2-a24f-0c5558b10219",
   "metadata": {},
   "source": [
    "## additional info"
   ]
  },
  {
   "cell_type": "code",
   "execution_count": 454,
   "id": "8fcb8f34-489a-4aa6-988f-bbd466d11a60",
   "metadata": {},
   "outputs": [],
   "source": [
    "test = 'https://www.airbnb.com/rooms/45166897?translate_ugc=false&federated_search_id=db739068-e5b9-4c46-a375-a0b1d73c93ec&source_impression_id=p3_1633966265_Ee3sXEKNjeTAXQHF&guests=1&adults=1'"
   ]
  },
  {
   "cell_type": "code",
   "execution_count": 455,
   "id": "91d32305-32de-41de-9c49-f76e2927fbe1",
   "metadata": {},
   "outputs": [],
   "source": [
    "\n",
    "\n",
    "driver = driver_set_up_firefox()\n",
    "driver.get(test)\n",
    "time.sleep(2)\n",
    "\n",
    "soup = BeautifulSoup(driver.page_source, 'html.parser')\n",
    "\n",
    "driver.close()"
   ]
  },
  {
   "cell_type": "code",
   "execution_count": 458,
   "id": "7fd163d9-b306-486f-96ad-ea782a97bf5e",
   "metadata": {},
   "outputs": [],
   "source": [
    "def get_rating_count(soup):\n",
    "    rating_count = soup.find('span', class_='_1qx9l5ba')\n",
    "    if rating_count != None:\n",
    "        return rating_count.text.replace(' reviews', '').strip('()')\n",
    "    else:\n",
    "        return 0"
   ]
  },
  {
   "cell_type": "code",
   "execution_count": 459,
   "id": "e7157092-7736-4340-9062-6b7550282b76",
   "metadata": {},
   "outputs": [
    {
     "data": {
      "text/plain": [
       "'40'"
      ]
     },
     "execution_count": 459,
     "metadata": {},
     "output_type": "execute_result"
    }
   ],
   "source": [
    "get_rating_count(soup)"
   ]
  },
  {
   "cell_type": "code",
   "execution_count": 209,
   "id": "ca86f9ec-ebc3-48db-98d2-83a00f5620d2",
   "metadata": {},
   "outputs": [],
   "source": [
    "df = pd.read_csv(r'C:\\Users\\elaaf\\Desktop\\SDS\\Project_2\\Data Cleaning\\cleaned_v6.csv', index_col=0)"
   ]
  },
  {
   "cell_type": "code",
   "execution_count": 23,
   "id": "d6a5f2aa-2b2f-4a5c-9c3d-b6362d7a2e0a",
   "metadata": {},
   "outputs": [
    {
     "data": {
      "text/html": [
       "<div>\n",
       "<style scoped>\n",
       "    .dataframe tbody tr th:only-of-type {\n",
       "        vertical-align: middle;\n",
       "    }\n",
       "\n",
       "    .dataframe tbody tr th {\n",
       "        vertical-align: top;\n",
       "    }\n",
       "\n",
       "    .dataframe thead th {\n",
       "        text-align: right;\n",
       "    }\n",
       "</style>\n",
       "<table border=\"1\" class=\"dataframe\">\n",
       "  <thead>\n",
       "    <tr style=\"text-align: right;\">\n",
       "      <th></th>\n",
       "      <th>rating</th>\n",
       "      <th>city</th>\n",
       "      <th>province</th>\n",
       "      <th>superhost</th>\n",
       "      <th>price</th>\n",
       "      <th>house_type</th>\n",
       "      <th>link</th>\n",
       "      <th>Hangers</th>\n",
       "      <th>Bed linens</th>\n",
       "      <th>Extra pillows and blankets</th>\n",
       "      <th>...</th>\n",
       "      <th>game console</th>\n",
       "      <th>guest_num</th>\n",
       "      <th>bath_num</th>\n",
       "      <th>id</th>\n",
       "      <th>pool</th>\n",
       "      <th>backyard</th>\n",
       "      <th>free carport</th>\n",
       "      <th>ski-in</th>\n",
       "      <th>beach access</th>\n",
       "      <th>balcony</th>\n",
       "    </tr>\n",
       "    <tr>\n",
       "      <th>index</th>\n",
       "      <th></th>\n",
       "      <th></th>\n",
       "      <th></th>\n",
       "      <th></th>\n",
       "      <th></th>\n",
       "      <th></th>\n",
       "      <th></th>\n",
       "      <th></th>\n",
       "      <th></th>\n",
       "      <th></th>\n",
       "      <th></th>\n",
       "      <th></th>\n",
       "      <th></th>\n",
       "      <th></th>\n",
       "      <th></th>\n",
       "      <th></th>\n",
       "      <th></th>\n",
       "      <th></th>\n",
       "      <th></th>\n",
       "      <th></th>\n",
       "      <th></th>\n",
       "    </tr>\n",
       "  </thead>\n",
       "  <tbody>\n",
       "    <tr>\n",
       "      <th>0</th>\n",
       "      <td>0.0</td>\n",
       "      <td>buraydah</td>\n",
       "      <td>6</td>\n",
       "      <td>0.0</td>\n",
       "      <td>1100</td>\n",
       "      <td>Earth house</td>\n",
       "      <td>https://www.airbnb.com/rooms/44085675?previous...</td>\n",
       "      <td>1</td>\n",
       "      <td>1</td>\n",
       "      <td>1</td>\n",
       "      <td>...</td>\n",
       "      <td>1</td>\n",
       "      <td>10</td>\n",
       "      <td>3.0</td>\n",
       "      <td>0.0BuraydahAlQassimFalse1100.0Earth house</td>\n",
       "      <td>0</td>\n",
       "      <td>1</td>\n",
       "      <td>0</td>\n",
       "      <td>0</td>\n",
       "      <td>0</td>\n",
       "      <td>1</td>\n",
       "    </tr>\n",
       "    <tr>\n",
       "      <th>1</th>\n",
       "      <td>0.0</td>\n",
       "      <td>buraydah</td>\n",
       "      <td>6</td>\n",
       "      <td>0.0</td>\n",
       "      <td>2200</td>\n",
       "      <td>Entire chalet</td>\n",
       "      <td>https://www.airbnb.com/rooms/19854001?previous...</td>\n",
       "      <td>1</td>\n",
       "      <td>0</td>\n",
       "      <td>0</td>\n",
       "      <td>...</td>\n",
       "      <td>0</td>\n",
       "      <td>4</td>\n",
       "      <td>4.0</td>\n",
       "      <td>0.0BuraydahAlQassimFalse2200.0Entire chalet</td>\n",
       "      <td>1</td>\n",
       "      <td>0</td>\n",
       "      <td>0</td>\n",
       "      <td>0</td>\n",
       "      <td>0</td>\n",
       "      <td>0</td>\n",
       "    </tr>\n",
       "  </tbody>\n",
       "</table>\n",
       "<p>2 rows × 144 columns</p>\n",
       "</div>"
      ],
      "text/plain": [
       "       rating      city  province  superhost  price     house_type  \\\n",
       "index                                                                \n",
       "0         0.0  buraydah         6        0.0   1100    Earth house   \n",
       "1         0.0  buraydah         6        0.0   2200  Entire chalet   \n",
       "\n",
       "                                                    link  Hangers  Bed linens  \\\n",
       "index                                                                           \n",
       "0      https://www.airbnb.com/rooms/44085675?previous...        1           1   \n",
       "1      https://www.airbnb.com/rooms/19854001?previous...        1           0   \n",
       "\n",
       "       Extra pillows and blankets  ...  game console  guest_num  bath_num  \\\n",
       "index                              ...                                      \n",
       "0                               1  ...             1         10       3.0   \n",
       "1                               0  ...             0          4       4.0   \n",
       "\n",
       "                                                id  pool  backyard  \\\n",
       "index                                                                \n",
       "0        0.0BuraydahAlQassimFalse1100.0Earth house     0         1   \n",
       "1      0.0BuraydahAlQassimFalse2200.0Entire chalet     1         0   \n",
       "\n",
       "       free carport  ski-in  beach access  balcony  \n",
       "index                                               \n",
       "0                 0       0             0        1  \n",
       "1                 0       0             0        0  \n",
       "\n",
       "[2 rows x 144 columns]"
      ]
     },
     "execution_count": 23,
     "metadata": {},
     "output_type": "execute_result"
    }
   ],
   "source": [
    "df.head(2)"
   ]
  },
  {
   "cell_type": "code",
   "execution_count": 211,
   "id": "7060fb1d-6d33-49d0-ba5b-7b3f157e2418",
   "metadata": {},
   "outputs": [],
   "source": [
    "df_test = df.copy(deep=True)"
   ]
  },
  {
   "cell_type": "code",
   "execution_count": 162,
   "id": "a5753380-f3f3-496f-8d13-924fd07e1af1",
   "metadata": {},
   "outputs": [],
   "source": [
    "links_of_rows_with_ratings = df_test[df_test['rating']!=0]['link']"
   ]
  },
  {
   "cell_type": "code",
   "execution_count": 163,
   "id": "52579c51-f00b-4f06-8f98-eb269043e6f8",
   "metadata": {},
   "outputs": [
    {
     "data": {
      "text/plain": [
       "index\n",
       "11    https://www.airbnb.com/rooms/38629962?previous...\n",
       "13    https://www.airbnb.com/rooms/49255433?previous...\n",
       "17    https://www.airbnb.com/rooms/43965096?previous...\n",
       "20    https://www.airbnb.com/rooms/42675643?previous...\n",
       "29    https://www.airbnb.com/rooms/42653518?previous...\n",
       "Name: link, dtype: object"
      ]
     },
     "execution_count": 163,
     "metadata": {},
     "output_type": "execute_result"
    }
   ],
   "source": [
    "links_of_rows_with_ratings[:5]"
   ]
  },
  {
   "cell_type": "code",
   "execution_count": 48,
   "id": "24247512-8ffd-4d1d-8be5-94c2f8a8bdaf",
   "metadata": {},
   "outputs": [],
   "source": [
    "def get_rating_count(soup):\n",
    "    rating_count = soup.find('span', class_='_1qx9l5ba')\n",
    "    if rating_count != None:\n",
    "        return rating_count.text.replace(' reviews', '').strip('()')\n",
    "    else:\n",
    "        return None"
   ]
  },
  {
   "cell_type": "code",
   "execution_count": 164,
   "id": "63e366c0-9010-4bb3-b764-bec3a3466366",
   "metadata": {},
   "outputs": [],
   "source": [
    "df_rating_count = pd.DataFrame(columns=['i'])"
   ]
  },
  {
   "cell_type": "code",
   "execution_count": 165,
   "id": "5c22ff0e-18ec-485a-8804-3449835da0ec",
   "metadata": {},
   "outputs": [],
   "source": [
    "df_rating_count['i']= links_of_rows_with_ratings.index"
   ]
  },
  {
   "cell_type": "code",
   "execution_count": 87,
   "id": "997f2248-7de3-41bc-8ee3-75f5735abd15",
   "metadata": {},
   "outputs": [],
   "source": [
    "df_rating_count = df_rating_count.set_index('index')"
   ]
  },
  {
   "cell_type": "code",
   "execution_count": 71,
   "id": "db2b9b9b-8e6e-4934-a1e7-4c516f2d7039",
   "metadata": {},
   "outputs": [],
   "source": [
    "driver = driver_set_up_firefox()\n",
    "L = []\n",
    "\n",
    "for link in links_of_rows_with_ratings:\n",
    "    driver.get(link)\n",
    "    time.sleep(2)\n",
    "\n",
    "    soup = BeautifulSoup(driver.page_source, 'html.parser')\n",
    "    L.append(get_rating_count(soup))\n",
    "    #df_rating_count[]\n",
    "    \n",
    "\n",
    "driver.close()"
   ]
  },
  {
   "cell_type": "code",
   "execution_count": 88,
   "id": "b5e9f99b-678d-47a9-81cc-e4cf6c5d1b4b",
   "metadata": {},
   "outputs": [
    {
     "data": {
      "text/plain": [
       "799"
      ]
     },
     "execution_count": 88,
     "metadata": {},
     "output_type": "execute_result"
    }
   ],
   "source": [
    "len(L) "
   ]
  },
  {
   "cell_type": "code",
   "execution_count": 166,
   "id": "6a047e25-6b05-4f5d-b6f8-bc0a2b6003e1",
   "metadata": {},
   "outputs": [
    {
     "data": {
      "text/html": [
       "<div>\n",
       "<style scoped>\n",
       "    .dataframe tbody tr th:only-of-type {\n",
       "        vertical-align: middle;\n",
       "    }\n",
       "\n",
       "    .dataframe tbody tr th {\n",
       "        vertical-align: top;\n",
       "    }\n",
       "\n",
       "    .dataframe thead th {\n",
       "        text-align: right;\n",
       "    }\n",
       "</style>\n",
       "<table border=\"1\" class=\"dataframe\">\n",
       "  <thead>\n",
       "    <tr style=\"text-align: right;\">\n",
       "      <th></th>\n",
       "      <th>i</th>\n",
       "    </tr>\n",
       "  </thead>\n",
       "  <tbody>\n",
       "    <tr>\n",
       "      <th>0</th>\n",
       "      <td>11</td>\n",
       "    </tr>\n",
       "    <tr>\n",
       "      <th>1</th>\n",
       "      <td>13</td>\n",
       "    </tr>\n",
       "    <tr>\n",
       "      <th>2</th>\n",
       "      <td>17</td>\n",
       "    </tr>\n",
       "    <tr>\n",
       "      <th>3</th>\n",
       "      <td>20</td>\n",
       "    </tr>\n",
       "    <tr>\n",
       "      <th>4</th>\n",
       "      <td>29</td>\n",
       "    </tr>\n",
       "    <tr>\n",
       "      <th>...</th>\n",
       "      <td>...</td>\n",
       "    </tr>\n",
       "    <tr>\n",
       "      <th>794</th>\n",
       "      <td>1850</td>\n",
       "    </tr>\n",
       "    <tr>\n",
       "      <th>795</th>\n",
       "      <td>1853</td>\n",
       "    </tr>\n",
       "    <tr>\n",
       "      <th>796</th>\n",
       "      <td>1854</td>\n",
       "    </tr>\n",
       "    <tr>\n",
       "      <th>797</th>\n",
       "      <td>1856</td>\n",
       "    </tr>\n",
       "    <tr>\n",
       "      <th>798</th>\n",
       "      <td>1857</td>\n",
       "    </tr>\n",
       "  </tbody>\n",
       "</table>\n",
       "<p>799 rows × 1 columns</p>\n",
       "</div>"
      ],
      "text/plain": [
       "        i\n",
       "0      11\n",
       "1      13\n",
       "2      17\n",
       "3      20\n",
       "4      29\n",
       "..    ...\n",
       "794  1850\n",
       "795  1853\n",
       "796  1854\n",
       "797  1856\n",
       "798  1857\n",
       "\n",
       "[799 rows x 1 columns]"
      ]
     },
     "execution_count": 166,
     "metadata": {},
     "output_type": "execute_result"
    }
   ],
   "source": [
    "df_rating_count"
   ]
  },
  {
   "cell_type": "code",
   "execution_count": 177,
   "id": "91a439cd-a7d7-4119-9e9b-1f0e030c9981",
   "metadata": {},
   "outputs": [
    {
     "data": {
      "text/plain": [
       "index\n",
       "11      https://www.airbnb.com/rooms/38629962?previous...\n",
       "13      https://www.airbnb.com/rooms/49255433?previous...\n",
       "17      https://www.airbnb.com/rooms/43965096?previous...\n",
       "20      https://www.airbnb.com/rooms/42675643?previous...\n",
       "29      https://www.airbnb.com/rooms/42653518?previous...\n",
       "                              ...                        \n",
       "1850    https://www.airbnb.com/rooms/50945676?previous...\n",
       "1853    https://www.airbnb.com/rooms/49294137?previous...\n",
       "1854    https://www.airbnb.com/rooms/52126578?previous...\n",
       "1856    https://www.airbnb.com/rooms/48752150?previous...\n",
       "1857    https://www.airbnb.com/rooms/52075274?previous...\n",
       "Name: link, Length: 799, dtype: object"
      ]
     },
     "execution_count": 177,
     "metadata": {},
     "output_type": "execute_result"
    }
   ],
   "source": [
    "links_of_rows_with_ratings"
   ]
  },
  {
   "cell_type": "code",
   "execution_count": 168,
   "id": "138b1820-2d7a-412a-98a8-a55328a2d51d",
   "metadata": {},
   "outputs": [],
   "source": [
    "df_rating = pd.DataFrame(L, columns=['rating'])"
   ]
  },
  {
   "cell_type": "code",
   "execution_count": 191,
   "id": "9cd41ba4-0b61-4fea-afe8-561b293ed100",
   "metadata": {},
   "outputs": [],
   "source": [
    "d = df_rating.set_index(keys=df_rating_count['i'])"
   ]
  },
  {
   "cell_type": "code",
   "execution_count": 207,
   "id": "3663afa7-cc3d-4276-8475-49d99c623b2c",
   "metadata": {},
   "outputs": [],
   "source": [
    "count = d.join(links_of_rows_with_ratings, d.index)"
   ]
  },
  {
   "cell_type": "code",
   "execution_count": 208,
   "id": "ee453679-d8c2-4c0f-a617-faf7ffebb77c",
   "metadata": {},
   "outputs": [
    {
     "data": {
      "text/html": [
       "<div>\n",
       "<style scoped>\n",
       "    .dataframe tbody tr th:only-of-type {\n",
       "        vertical-align: middle;\n",
       "    }\n",
       "\n",
       "    .dataframe tbody tr th {\n",
       "        vertical-align: top;\n",
       "    }\n",
       "\n",
       "    .dataframe thead th {\n",
       "        text-align: right;\n",
       "    }\n",
       "</style>\n",
       "<table border=\"1\" class=\"dataframe\">\n",
       "  <thead>\n",
       "    <tr style=\"text-align: right;\">\n",
       "      <th></th>\n",
       "      <th>rating</th>\n",
       "      <th>link</th>\n",
       "    </tr>\n",
       "    <tr>\n",
       "      <th>i</th>\n",
       "      <th></th>\n",
       "      <th></th>\n",
       "    </tr>\n",
       "  </thead>\n",
       "  <tbody>\n",
       "    <tr>\n",
       "      <th>11</th>\n",
       "      <td>4</td>\n",
       "      <td>https://www.airbnb.com/rooms/38629962?previous...</td>\n",
       "    </tr>\n",
       "    <tr>\n",
       "      <th>13</th>\n",
       "      <td>4</td>\n",
       "      <td>https://www.airbnb.com/rooms/49255433?previous...</td>\n",
       "    </tr>\n",
       "    <tr>\n",
       "      <th>17</th>\n",
       "      <td>5</td>\n",
       "      <td>https://www.airbnb.com/rooms/43965096?previous...</td>\n",
       "    </tr>\n",
       "    <tr>\n",
       "      <th>20</th>\n",
       "      <td>5</td>\n",
       "      <td>https://www.airbnb.com/rooms/42675643?previous...</td>\n",
       "    </tr>\n",
       "    <tr>\n",
       "      <th>29</th>\n",
       "      <td>3</td>\n",
       "      <td>https://www.airbnb.com/rooms/42653518?previous...</td>\n",
       "    </tr>\n",
       "    <tr>\n",
       "      <th>...</th>\n",
       "      <td>...</td>\n",
       "      <td>...</td>\n",
       "    </tr>\n",
       "    <tr>\n",
       "      <th>1850</th>\n",
       "      <td>50</td>\n",
       "      <td>https://www.airbnb.com/rooms/50945676?previous...</td>\n",
       "    </tr>\n",
       "    <tr>\n",
       "      <th>1853</th>\n",
       "      <td>56</td>\n",
       "      <td>https://www.airbnb.com/rooms/49294137?previous...</td>\n",
       "    </tr>\n",
       "    <tr>\n",
       "      <th>1854</th>\n",
       "      <td>16</td>\n",
       "      <td>https://www.airbnb.com/rooms/52126578?previous...</td>\n",
       "    </tr>\n",
       "    <tr>\n",
       "      <th>1856</th>\n",
       "      <td>25</td>\n",
       "      <td>https://www.airbnb.com/rooms/48752150?previous...</td>\n",
       "    </tr>\n",
       "    <tr>\n",
       "      <th>1857</th>\n",
       "      <td>3</td>\n",
       "      <td>https://www.airbnb.com/rooms/52075274?previous...</td>\n",
       "    </tr>\n",
       "  </tbody>\n",
       "</table>\n",
       "<p>799 rows × 2 columns</p>\n",
       "</div>"
      ],
      "text/plain": [
       "     rating                                               link\n",
       "i                                                             \n",
       "11        4  https://www.airbnb.com/rooms/38629962?previous...\n",
       "13        4  https://www.airbnb.com/rooms/49255433?previous...\n",
       "17        5  https://www.airbnb.com/rooms/43965096?previous...\n",
       "20        5  https://www.airbnb.com/rooms/42675643?previous...\n",
       "29        3  https://www.airbnb.com/rooms/42653518?previous...\n",
       "...     ...                                                ...\n",
       "1850     50  https://www.airbnb.com/rooms/50945676?previous...\n",
       "1853     56  https://www.airbnb.com/rooms/49294137?previous...\n",
       "1854     16  https://www.airbnb.com/rooms/52126578?previous...\n",
       "1856     25  https://www.airbnb.com/rooms/48752150?previous...\n",
       "1857      3  https://www.airbnb.com/rooms/52075274?previous...\n",
       "\n",
       "[799 rows x 2 columns]"
      ]
     },
     "execution_count": 208,
     "metadata": {},
     "output_type": "execute_result"
    }
   ],
   "source": [
    "count"
   ]
  },
  {
   "cell_type": "code",
   "execution_count": 212,
   "id": "3b951b1f-3fba-4be5-8957-31bbf0c7ff9d",
   "metadata": {},
   "outputs": [
    {
     "data": {
      "text/html": [
       "<div>\n",
       "<style scoped>\n",
       "    .dataframe tbody tr th:only-of-type {\n",
       "        vertical-align: middle;\n",
       "    }\n",
       "\n",
       "    .dataframe tbody tr th {\n",
       "        vertical-align: top;\n",
       "    }\n",
       "\n",
       "    .dataframe thead th {\n",
       "        text-align: right;\n",
       "    }\n",
       "</style>\n",
       "<table border=\"1\" class=\"dataframe\">\n",
       "  <thead>\n",
       "    <tr style=\"text-align: right;\">\n",
       "      <th></th>\n",
       "      <th>rating</th>\n",
       "      <th>city</th>\n",
       "      <th>province</th>\n",
       "      <th>superhost</th>\n",
       "      <th>price</th>\n",
       "      <th>house_type</th>\n",
       "      <th>link</th>\n",
       "      <th>Hangers</th>\n",
       "      <th>Bed linens</th>\n",
       "      <th>Extra pillows and blankets</th>\n",
       "      <th>...</th>\n",
       "      <th>game console</th>\n",
       "      <th>guest_num</th>\n",
       "      <th>bath_num</th>\n",
       "      <th>id</th>\n",
       "      <th>pool</th>\n",
       "      <th>backyard</th>\n",
       "      <th>free carport</th>\n",
       "      <th>ski-in</th>\n",
       "      <th>beach access</th>\n",
       "      <th>balcony</th>\n",
       "    </tr>\n",
       "    <tr>\n",
       "      <th>index</th>\n",
       "      <th></th>\n",
       "      <th></th>\n",
       "      <th></th>\n",
       "      <th></th>\n",
       "      <th></th>\n",
       "      <th></th>\n",
       "      <th></th>\n",
       "      <th></th>\n",
       "      <th></th>\n",
       "      <th></th>\n",
       "      <th></th>\n",
       "      <th></th>\n",
       "      <th></th>\n",
       "      <th></th>\n",
       "      <th></th>\n",
       "      <th></th>\n",
       "      <th></th>\n",
       "      <th></th>\n",
       "      <th></th>\n",
       "      <th></th>\n",
       "      <th></th>\n",
       "    </tr>\n",
       "  </thead>\n",
       "  <tbody>\n",
       "    <tr>\n",
       "      <th>0</th>\n",
       "      <td>0.0</td>\n",
       "      <td>buraydah</td>\n",
       "      <td>6</td>\n",
       "      <td>0.0</td>\n",
       "      <td>1100</td>\n",
       "      <td>Earth house</td>\n",
       "      <td>https://www.airbnb.com/rooms/44085675?previous...</td>\n",
       "      <td>1</td>\n",
       "      <td>1</td>\n",
       "      <td>1</td>\n",
       "      <td>...</td>\n",
       "      <td>1</td>\n",
       "      <td>10</td>\n",
       "      <td>3.0</td>\n",
       "      <td>0.0BuraydahAlQassimFalse1100.0Earth house</td>\n",
       "      <td>0</td>\n",
       "      <td>1</td>\n",
       "      <td>0</td>\n",
       "      <td>0</td>\n",
       "      <td>0</td>\n",
       "      <td>1</td>\n",
       "    </tr>\n",
       "    <tr>\n",
       "      <th>1</th>\n",
       "      <td>0.0</td>\n",
       "      <td>buraydah</td>\n",
       "      <td>6</td>\n",
       "      <td>0.0</td>\n",
       "      <td>2200</td>\n",
       "      <td>Entire chalet</td>\n",
       "      <td>https://www.airbnb.com/rooms/19854001?previous...</td>\n",
       "      <td>1</td>\n",
       "      <td>0</td>\n",
       "      <td>0</td>\n",
       "      <td>...</td>\n",
       "      <td>0</td>\n",
       "      <td>4</td>\n",
       "      <td>4.0</td>\n",
       "      <td>0.0BuraydahAlQassimFalse2200.0Entire chalet</td>\n",
       "      <td>1</td>\n",
       "      <td>0</td>\n",
       "      <td>0</td>\n",
       "      <td>0</td>\n",
       "      <td>0</td>\n",
       "      <td>0</td>\n",
       "    </tr>\n",
       "    <tr>\n",
       "      <th>2</th>\n",
       "      <td>0.0</td>\n",
       "      <td>buraydah</td>\n",
       "      <td>6</td>\n",
       "      <td>0.0</td>\n",
       "      <td>400</td>\n",
       "      <td>Shared room in chalet</td>\n",
       "      <td>https://www.airbnb.com/rooms/37763947?previous...</td>\n",
       "      <td>1</td>\n",
       "      <td>0</td>\n",
       "      <td>0</td>\n",
       "      <td>...</td>\n",
       "      <td>0</td>\n",
       "      <td>16</td>\n",
       "      <td>4.5</td>\n",
       "      <td>0.0BuraydahAlQassimFalse400.0Shared room in ch...</td>\n",
       "      <td>1</td>\n",
       "      <td>0</td>\n",
       "      <td>0</td>\n",
       "      <td>0</td>\n",
       "      <td>0</td>\n",
       "      <td>0</td>\n",
       "    </tr>\n",
       "    <tr>\n",
       "      <th>3</th>\n",
       "      <td>0.0</td>\n",
       "      <td>buraydah</td>\n",
       "      <td>6</td>\n",
       "      <td>0.0</td>\n",
       "      <td>550</td>\n",
       "      <td>Private room in resort</td>\n",
       "      <td>https://www.airbnb.com/rooms/44031535?previous...</td>\n",
       "      <td>1</td>\n",
       "      <td>1</td>\n",
       "      <td>1</td>\n",
       "      <td>...</td>\n",
       "      <td>0</td>\n",
       "      <td>5</td>\n",
       "      <td>2.0</td>\n",
       "      <td>0.0BuraydahAlQassimFalse550.0Private room in r...</td>\n",
       "      <td>1</td>\n",
       "      <td>0</td>\n",
       "      <td>0</td>\n",
       "      <td>0</td>\n",
       "      <td>0</td>\n",
       "      <td>0</td>\n",
       "    </tr>\n",
       "    <tr>\n",
       "      <th>4</th>\n",
       "      <td>0.0</td>\n",
       "      <td>buraydah</td>\n",
       "      <td>6</td>\n",
       "      <td>0.0</td>\n",
       "      <td>2500</td>\n",
       "      <td>Entire villa</td>\n",
       "      <td>https://www.airbnb.com/rooms/35754885?previous...</td>\n",
       "      <td>1</td>\n",
       "      <td>0</td>\n",
       "      <td>0</td>\n",
       "      <td>...</td>\n",
       "      <td>0</td>\n",
       "      <td>7</td>\n",
       "      <td>3.0</td>\n",
       "      <td>0.0BuraydahAlQassimFalse2500.0Entire villa</td>\n",
       "      <td>1</td>\n",
       "      <td>0</td>\n",
       "      <td>0</td>\n",
       "      <td>0</td>\n",
       "      <td>0</td>\n",
       "      <td>0</td>\n",
       "    </tr>\n",
       "  </tbody>\n",
       "</table>\n",
       "<p>5 rows × 144 columns</p>\n",
       "</div>"
      ],
      "text/plain": [
       "       rating      city  province  superhost  price              house_type  \\\n",
       "index                                                                         \n",
       "0         0.0  buraydah         6        0.0   1100             Earth house   \n",
       "1         0.0  buraydah         6        0.0   2200           Entire chalet   \n",
       "2         0.0  buraydah         6        0.0    400   Shared room in chalet   \n",
       "3         0.0  buraydah         6        0.0    550  Private room in resort   \n",
       "4         0.0  buraydah         6        0.0   2500            Entire villa   \n",
       "\n",
       "                                                    link  Hangers  Bed linens  \\\n",
       "index                                                                           \n",
       "0      https://www.airbnb.com/rooms/44085675?previous...        1           1   \n",
       "1      https://www.airbnb.com/rooms/19854001?previous...        1           0   \n",
       "2      https://www.airbnb.com/rooms/37763947?previous...        1           0   \n",
       "3      https://www.airbnb.com/rooms/44031535?previous...        1           1   \n",
       "4      https://www.airbnb.com/rooms/35754885?previous...        1           0   \n",
       "\n",
       "       Extra pillows and blankets  ...  game console  guest_num  bath_num  \\\n",
       "index                              ...                                      \n",
       "0                               1  ...             1         10       3.0   \n",
       "1                               0  ...             0          4       4.0   \n",
       "2                               0  ...             0         16       4.5   \n",
       "3                               1  ...             0          5       2.0   \n",
       "4                               0  ...             0          7       3.0   \n",
       "\n",
       "                                                      id  pool  backyard  \\\n",
       "index                                                                      \n",
       "0              0.0BuraydahAlQassimFalse1100.0Earth house     0         1   \n",
       "1            0.0BuraydahAlQassimFalse2200.0Entire chalet     1         0   \n",
       "2      0.0BuraydahAlQassimFalse400.0Shared room in ch...     1         0   \n",
       "3      0.0BuraydahAlQassimFalse550.0Private room in r...     1         0   \n",
       "4             0.0BuraydahAlQassimFalse2500.0Entire villa     1         0   \n",
       "\n",
       "       free carport  ski-in  beach access  balcony  \n",
       "index                                               \n",
       "0                 0       0             0        1  \n",
       "1                 0       0             0        0  \n",
       "2                 0       0             0        0  \n",
       "3                 0       0             0        0  \n",
       "4                 0       0             0        0  \n",
       "\n",
       "[5 rows x 144 columns]"
      ]
     },
     "execution_count": 212,
     "metadata": {},
     "output_type": "execute_result"
    }
   ],
   "source": [
    "df_test.head()"
   ]
  },
  {
   "cell_type": "code",
   "execution_count": 213,
   "id": "c208b358-8238-4d7c-b6b8-c6f2485d05f5",
   "metadata": {},
   "outputs": [],
   "source": []
  },
  {
   "cell_type": "code",
   "execution_count": 219,
   "id": "a1b93fe6-c331-44e2-ac69-d075850a5753",
   "metadata": {},
   "outputs": [
    {
     "data": {
      "text/plain": [
       "i\n",
       "11       4\n",
       "13       4\n",
       "17       5\n",
       "20       5\n",
       "29       3\n",
       "        ..\n",
       "1850    50\n",
       "1853    56\n",
       "1854    16\n",
       "1856    25\n",
       "1857     3\n",
       "Name: rating, Length: 799, dtype: object"
      ]
     },
     "execution_count": 219,
     "metadata": {},
     "output_type": "execute_result"
    }
   ],
   "source": []
  },
  {
   "cell_type": "code",
   "execution_count": 297,
   "id": "9ed29244-ddbe-43ff-a5f1-9d93f97fb7a7",
   "metadata": {},
   "outputs": [],
   "source": [
    "df_test = df.copy(deep=True)\n",
    "df['rating_count'] = 0"
   ]
  },
  {
   "cell_type": "code",
   "execution_count": 245,
   "id": "ab057ccd-cc75-4c63-9ddb-28aaffaa31ed",
   "metadata": {},
   "outputs": [],
   "source": [
    "#df_test.loc[d.index      ,'rating_count'] = d['rating']"
   ]
  },
  {
   "cell_type": "code",
   "execution_count": 260,
   "id": "ce6a7f3a-2fd8-45ae-bde1-902d061eb6c3",
   "metadata": {},
   "outputs": [
    {
     "data": {
      "text/plain": [
       "0"
      ]
     },
     "execution_count": 260,
     "metadata": {},
     "output_type": "execute_result"
    }
   ],
   "source": [
    "df_test.iloc[1856]['rating_count'] "
   ]
  },
  {
   "cell_type": "code",
   "execution_count": 298,
   "id": "8919d052-ab5d-4482-a0c1-4036ae4295c2",
   "metadata": {},
   "outputs": [],
   "source": [
    "L = d.index\n",
    "error_index = []\n",
    "for i in L:\n",
    "    try:\n",
    "        df.loc[i,'rating_count'] = int(d.loc[i,'rating'])\n",
    "    except:\n",
    "        error_index.append(i)\n",
    "        continue\n"
   ]
  },
  {
   "cell_type": "code",
   "execution_count": 299,
   "id": "87ea7008-aec3-4405-945e-e6728bef2d7a",
   "metadata": {},
   "outputs": [
    {
     "data": {
      "text/plain": [
       "[882, 1627]"
      ]
     },
     "execution_count": 299,
     "metadata": {},
     "output_type": "execute_result"
    }
   ],
   "source": [
    "error_index"
   ]
  },
  {
   "cell_type": "code",
   "execution_count": 300,
   "id": "c25fac99-f0e5-485b-a59f-2f034d7057af",
   "metadata": {},
   "outputs": [],
   "source": [
    "df.to_csv('data_v6_with_ratingcount.csv',index=0)"
   ]
  },
  {
   "cell_type": "code",
   "execution_count": 302,
   "id": "eec584b0-0d2c-42df-9921-019b982fb8ad",
   "metadata": {},
   "outputs": [],
   "source": [
    "c = list(df.columns)"
   ]
  },
  {
   "cell_type": "code",
   "execution_count": 304,
   "id": "c45cf297-0188-47b3-9085-becad5e289f4",
   "metadata": {},
   "outputs": [],
   "source": [
    "#c"
   ]
  },
  {
   "cell_type": "code",
   "execution_count": null,
   "id": "6a90ab76-90de-49f6-9150-8ee4f50969a0",
   "metadata": {},
   "outputs": [],
   "source": []
  }
 ],
 "metadata": {
  "kernelspec": {
   "display_name": "Python 3 (ipykernel)",
   "language": "python",
   "name": "python3"
  },
  "language_info": {
   "codemirror_mode": {
    "name": "ipython",
    "version": 3
   },
   "file_extension": ".py",
   "mimetype": "text/x-python",
   "name": "python",
   "nbconvert_exporter": "python",
   "pygments_lexer": "ipython3",
   "version": "3.8.11"
  }
 },
 "nbformat": 4,
 "nbformat_minor": 5
}
